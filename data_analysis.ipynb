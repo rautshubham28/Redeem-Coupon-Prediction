{
 "cells": [
  {
   "cell_type": "code",
   "execution_count": 1,
   "id": "304a3e23",
   "metadata": {},
   "outputs": [],
   "source": [
    "import pandas as pd\n",
    "import numpy as np\n",
    "import matplotlib.pyplot as plt\n",
    "%matplotlib inline\n",
    "\n",
    "import seaborn as sns\n",
    "plt.style.use('seaborn-poster')\n",
    "\n",
    "sns.set_style('darkgrid')\n",
    "\n",
    "import sqlite3"
   ]
  },
  {
   "cell_type": "code",
   "execution_count": 2,
   "id": "f1bad238",
   "metadata": {},
   "outputs": [],
   "source": [
    "campaign = pd.read_csv(\"data/campaign_data.csv\", parse_dates=['start_date', 'end_date'], dayfirst=True)\n",
    "coupons = pd.read_csv(\"data/coupon_item_mapping.csv\")\n",
    "cust_demo = pd.read_csv(\"data/customer_demographics.csv\")\n",
    "cust_tran = pd.read_csv(\"data/customer_transaction_data.csv\")\n",
    "items = pd.read_csv(\"data/item_data.csv\")\n",
    "test = pd.read_csv(\"data/test_data.csv\")\n",
    "train = pd.read_csv(\"data/train_data.csv\")"
   ]
  },
  {
   "cell_type": "markdown",
   "id": "1e0ac3b1",
   "metadata": {},
   "source": [
    "## Customer Information"
   ]
  },
  {
   "cell_type": "code",
   "execution_count": 3,
   "id": "89c23fe0",
   "metadata": {},
   "outputs": [
    {
     "name": "stdout",
     "output_type": "stream",
     "text": [
      "<class 'pandas.core.frame.DataFrame'>\n",
      "RangeIndex: 760 entries, 0 to 759\n",
      "Data columns (total 7 columns):\n",
      " #   Column          Non-Null Count  Dtype \n",
      "---  ------          --------------  ----- \n",
      " 0   customer_id     760 non-null    int64 \n",
      " 1   age_range       760 non-null    object\n",
      " 2   marital_status  431 non-null    object\n",
      " 3   rented          760 non-null    int64 \n",
      " 4   family_size     760 non-null    object\n",
      " 5   no_of_children  222 non-null    object\n",
      " 6   income_bracket  760 non-null    int64 \n",
      "dtypes: int64(3), object(4)\n",
      "memory usage: 41.7+ KB\n"
     ]
    }
   ],
   "source": [
    "cust_demo.info()"
   ]
  },
  {
   "cell_type": "markdown",
   "id": "81029570",
   "metadata": {},
   "source": [
    "### Data Cleaning"
   ]
  },
  {
   "cell_type": "code",
   "execution_count": 4,
   "id": "0365dbc0",
   "metadata": {
    "scrolled": true
   },
   "outputs": [
    {
     "data": {
      "text/html": [
       "<div>\n",
       "<style scoped>\n",
       "    .dataframe tbody tr th:only-of-type {\n",
       "        vertical-align: middle;\n",
       "    }\n",
       "\n",
       "    .dataframe tbody tr th {\n",
       "        vertical-align: top;\n",
       "    }\n",
       "\n",
       "    .dataframe thead th {\n",
       "        text-align: right;\n",
       "    }\n",
       "</style>\n",
       "<table border=\"1\" class=\"dataframe\">\n",
       "  <thead>\n",
       "    <tr style=\"text-align: right;\">\n",
       "      <th></th>\n",
       "      <th>customer_id</th>\n",
       "      <th>age_range</th>\n",
       "      <th>marital_status</th>\n",
       "      <th>rented</th>\n",
       "      <th>family_size</th>\n",
       "      <th>no_of_children</th>\n",
       "      <th>income_bracket</th>\n",
       "    </tr>\n",
       "  </thead>\n",
       "  <tbody>\n",
       "    <tr>\n",
       "      <th>0</th>\n",
       "      <td>1</td>\n",
       "      <td>70+</td>\n",
       "      <td>Married</td>\n",
       "      <td>0</td>\n",
       "      <td>2</td>\n",
       "      <td>NaN</td>\n",
       "      <td>4</td>\n",
       "    </tr>\n",
       "    <tr>\n",
       "      <th>1</th>\n",
       "      <td>6</td>\n",
       "      <td>46-55</td>\n",
       "      <td>Married</td>\n",
       "      <td>0</td>\n",
       "      <td>2</td>\n",
       "      <td>NaN</td>\n",
       "      <td>5</td>\n",
       "    </tr>\n",
       "    <tr>\n",
       "      <th>2</th>\n",
       "      <td>7</td>\n",
       "      <td>26-35</td>\n",
       "      <td>NaN</td>\n",
       "      <td>0</td>\n",
       "      <td>3</td>\n",
       "      <td>1</td>\n",
       "      <td>3</td>\n",
       "    </tr>\n",
       "    <tr>\n",
       "      <th>3</th>\n",
       "      <td>8</td>\n",
       "      <td>26-35</td>\n",
       "      <td>NaN</td>\n",
       "      <td>0</td>\n",
       "      <td>4</td>\n",
       "      <td>2</td>\n",
       "      <td>6</td>\n",
       "    </tr>\n",
       "    <tr>\n",
       "      <th>4</th>\n",
       "      <td>10</td>\n",
       "      <td>46-55</td>\n",
       "      <td>Single</td>\n",
       "      <td>0</td>\n",
       "      <td>1</td>\n",
       "      <td>NaN</td>\n",
       "      <td>5</td>\n",
       "    </tr>\n",
       "  </tbody>\n",
       "</table>\n",
       "</div>"
      ],
      "text/plain": [
       "   customer_id age_range marital_status  rented family_size no_of_children  \\\n",
       "0            1       70+        Married       0           2            NaN   \n",
       "1            6     46-55        Married       0           2            NaN   \n",
       "2            7     26-35            NaN       0           3              1   \n",
       "3            8     26-35            NaN       0           4              2   \n",
       "4           10     46-55         Single       0           1            NaN   \n",
       "\n",
       "   income_bracket  \n",
       "0               4  \n",
       "1               5  \n",
       "2               3  \n",
       "3               6  \n",
       "4               5  "
      ]
     },
     "execution_count": 4,
     "metadata": {},
     "output_type": "execute_result"
    }
   ],
   "source": [
    "cust_demo.head()"
   ]
  },
  {
   "cell_type": "code",
   "execution_count": 5,
   "id": "81fee244",
   "metadata": {},
   "outputs": [
    {
     "name": "stdout",
     "output_type": "stream",
     "text": [
      "customer_id \n",
      "\n",
      "[   1    6    7    8   10   11   12   13   14   15   17   19   22   27\n",
      "   28   30   31   33   35   36   38   39   40   41   42   45   48   51\n",
      "   52   53   55   58   59   66   67   69   71   72   74   75   78   79\n",
      "   82   83   84   85   87   89   90   92   93   94   97  103  105  107\n",
      "  108  110  112  113  114  119  123  124  128  131  132  134  135  136\n",
      "  138  140  141  142  143  144  149  150  151  153  154  155  158  159\n",
      "  161  162  163  167  168  174  178  179  180  185  186  189  191  192\n",
      "  193  195  197  201  202  204  205  207  209  212  214  223  225  226\n",
      "  227  228  230  231  232  235  238  239  242  243  245  246  248  249\n",
      "  250  251  252  253  259  262  265  266  267  268  269  271  276  277\n",
      "  279  281  283  284  286  287  288  292  293  294  295  297  298  300\n",
      "  303  306  313  314  315  316  317  318  319  320  327  329  333  336\n",
      "  338  339  343  347  348  349  352  353  355  357  361  363  367  368\n",
      "  369  371  374  375  377  378  381  382  383  384  386  389  390  391\n",
      "  392  393  395  397  398  399  400  401  402  414  416  421  422  427\n",
      "  428  429  431  434  436  438  440  441  443  444  446  447  450  455\n",
      "  456  457  460  461  462  463  464  466  467  473  474  475  479  480\n",
      "  481  486  488  490  494  495  497  498  499  501  504  506  507  508\n",
      "  509  510  511  514  515  516  517  520  522  524  525  527  528  530\n",
      "  533  536  537  540  541  544  545  546  549  550  551  552  553  557\n",
      "  558  560  561  564  565  566  569  571  572  574  575  577  579  581\n",
      "  585  586  590  593  595  596  600  602  606  607  608  612  613  615\n",
      "  619  620  622  624  626  627  628  630  634  636  637  641  642  643\n",
      "  648  649  650  653  655  656  657  660  663  665  666  667  668  674\n",
      "  677  679  681  684  686  687  691  693  695  696  698  703  704  708\n",
      "  712  716  719  724  725  726  731  732  735  737  738  740  742  743\n",
      "  744  745  746  748  749  750  751  752  753  754  755  760  762  763\n",
      "  766  774  775  776  779  781  782  784  785  789  792  793  795  796\n",
      "  797  799  800  801  802  806  808  813  817  821  822  823  824  828\n",
      "  829  833  835  837  839  842  844  851  853  855  856  857  859  860\n",
      "  861  864  865  867  871  872  874  876  877  878  879  880  886  888\n",
      "  889  891  892  894  896  897  898  901  902  904  905  909  910  911\n",
      "  912  917  918  921  922  923  925  926  928  929  930  931  932  933\n",
      "  936  937  939  941  944  947  952  955  957  958  959  962  964  965\n",
      "  966  967  970  974  977  978  980  981  982  983  985  988  990  994\n",
      "  997  999 1003 1008 1011 1015 1021 1023 1025 1026 1031 1033 1036 1045\n",
      " 1046 1047 1051 1053 1054 1055 1056 1057 1058 1061 1062 1063 1064 1067\n",
      " 1068 1070 1076 1079 1082 1083 1085 1089 1091 1093 1094 1103 1104 1108\n",
      " 1109 1111 1115 1116 1117 1119 1120 1121 1122 1128 1129 1130 1131 1133\n",
      " 1135 1136 1141 1142 1144 1145 1151 1152 1153 1154 1156 1161 1164 1166\n",
      " 1167 1168 1170 1172 1178 1179 1181 1182 1184 1187 1188 1190 1192 1194\n",
      " 1195 1196 1198 1201 1202 1203 1205 1208 1210 1211 1216 1217 1219 1220\n",
      " 1222 1224 1228 1230 1231 1239 1240 1242 1243 1245 1246 1249 1250 1252\n",
      " 1254 1256 1257 1258 1259 1262 1263 1264 1268 1269 1271 1273 1276 1284\n",
      " 1290 1292 1295 1296 1298 1299 1300 1303 1304 1305 1309 1314 1316 1317\n",
      " 1318 1319 1320 1321 1322 1324 1327 1328 1329 1332 1333 1334 1336 1337\n",
      " 1339 1340 1341 1343 1344 1346 1347 1356 1357 1359 1360 1361 1364 1367\n",
      " 1370 1373 1374 1375 1376 1377 1378 1379 1381 1382 1383 1384 1385 1386\n",
      " 1387 1388 1392 1393 1398 1399 1402 1407 1408 1409 1410 1412 1417 1422\n",
      " 1424 1425 1427 1431 1432 1433 1440 1441 1443 1444 1449 1450 1451 1452\n",
      " 1453 1455 1457 1458 1460 1461 1463 1464 1466 1467 1469 1471 1472 1473\n",
      " 1475 1477 1478 1479 1483 1485 1489 1490 1491 1492 1494 1496 1500 1502\n",
      " 1504 1506 1512 1514 1518 1519 1520 1521 1523 1528 1529 1533 1534 1537\n",
      " 1538 1544 1545 1546 1547 1551 1552 1558 1566 1569 1572 1573 1574 1577\n",
      " 1578 1579 1580 1581] \n",
      "\n",
      "age_range \n",
      "\n",
      "['70+' '46-55' '26-35' '36-45' '18-25' '56-70'] \n",
      "\n",
      "marital_status \n",
      "\n",
      "['Married' nan 'Single'] \n",
      "\n",
      "rented \n",
      "\n",
      "[0 1] \n",
      "\n",
      "family_size \n",
      "\n",
      "['2' '3' '4' '1' '5+'] \n",
      "\n",
      "no_of_children \n",
      "\n",
      "[nan '1' '2' '3+'] \n",
      "\n",
      "income_bracket \n",
      "\n",
      "[ 4  5  3  6  1  7  2  8  9 12 10 11] \n",
      "\n"
     ]
    }
   ],
   "source": [
    "for i in range(len(cust_demo.columns)):\n",
    "    print(cust_demo.columns[i], '\\n')\n",
    "    print(cust_demo[cust_demo.columns[i]].unique(), '\\n')"
   ]
  },
  {
   "cell_type": "code",
   "execution_count": 6,
   "id": "266b2570",
   "metadata": {},
   "outputs": [],
   "source": [
    "cust_demo.marital_status.fillna('unknown', inplace = True)"
   ]
  },
  {
   "cell_type": "code",
   "execution_count": 7,
   "id": "56cd65eb",
   "metadata": {},
   "outputs": [],
   "source": [
    "cust_demo.no_of_children.fillna('0', inplace = True)"
   ]
  },
  {
   "cell_type": "code",
   "execution_count": 8,
   "id": "d661879f",
   "metadata": {
    "scrolled": true
   },
   "outputs": [
    {
     "data": {
      "text/html": [
       "<div>\n",
       "<style scoped>\n",
       "    .dataframe tbody tr th:only-of-type {\n",
       "        vertical-align: middle;\n",
       "    }\n",
       "\n",
       "    .dataframe tbody tr th {\n",
       "        vertical-align: top;\n",
       "    }\n",
       "\n",
       "    .dataframe thead th {\n",
       "        text-align: right;\n",
       "    }\n",
       "</style>\n",
       "<table border=\"1\" class=\"dataframe\">\n",
       "  <thead>\n",
       "    <tr style=\"text-align: right;\">\n",
       "      <th></th>\n",
       "      <th>customer_id</th>\n",
       "      <th>age_range</th>\n",
       "      <th>marital_status</th>\n",
       "      <th>rented</th>\n",
       "      <th>family_size</th>\n",
       "      <th>no_of_children</th>\n",
       "      <th>income_bracket</th>\n",
       "    </tr>\n",
       "  </thead>\n",
       "  <tbody>\n",
       "    <tr>\n",
       "      <th>0</th>\n",
       "      <td>1</td>\n",
       "      <td>70+</td>\n",
       "      <td>Married</td>\n",
       "      <td>0</td>\n",
       "      <td>2</td>\n",
       "      <td>0</td>\n",
       "      <td>4</td>\n",
       "    </tr>\n",
       "    <tr>\n",
       "      <th>1</th>\n",
       "      <td>6</td>\n",
       "      <td>46-55</td>\n",
       "      <td>Married</td>\n",
       "      <td>0</td>\n",
       "      <td>2</td>\n",
       "      <td>0</td>\n",
       "      <td>5</td>\n",
       "    </tr>\n",
       "    <tr>\n",
       "      <th>2</th>\n",
       "      <td>7</td>\n",
       "      <td>26-35</td>\n",
       "      <td>unknown</td>\n",
       "      <td>0</td>\n",
       "      <td>3</td>\n",
       "      <td>1</td>\n",
       "      <td>3</td>\n",
       "    </tr>\n",
       "    <tr>\n",
       "      <th>3</th>\n",
       "      <td>8</td>\n",
       "      <td>26-35</td>\n",
       "      <td>unknown</td>\n",
       "      <td>0</td>\n",
       "      <td>4</td>\n",
       "      <td>2</td>\n",
       "      <td>6</td>\n",
       "    </tr>\n",
       "    <tr>\n",
       "      <th>4</th>\n",
       "      <td>10</td>\n",
       "      <td>46-55</td>\n",
       "      <td>Single</td>\n",
       "      <td>0</td>\n",
       "      <td>1</td>\n",
       "      <td>0</td>\n",
       "      <td>5</td>\n",
       "    </tr>\n",
       "  </tbody>\n",
       "</table>\n",
       "</div>"
      ],
      "text/plain": [
       "   customer_id age_range marital_status  rented family_size no_of_children  \\\n",
       "0            1       70+        Married       0           2              0   \n",
       "1            6     46-55        Married       0           2              0   \n",
       "2            7     26-35        unknown       0           3              1   \n",
       "3            8     26-35        unknown       0           4              2   \n",
       "4           10     46-55         Single       0           1              0   \n",
       "\n",
       "   income_bracket  \n",
       "0               4  \n",
       "1               5  \n",
       "2               3  \n",
       "3               6  \n",
       "4               5  "
      ]
     },
     "execution_count": 8,
     "metadata": {},
     "output_type": "execute_result"
    }
   ],
   "source": [
    "cust_demo.head()"
   ]
  },
  {
   "cell_type": "markdown",
   "id": "77d79205",
   "metadata": {},
   "source": [
    "## Customer's Information (customer_demographics table)"
   ]
  },
  {
   "cell_type": "code",
   "execution_count": 9,
   "id": "aed1f332",
   "metadata": {},
   "outputs": [
    {
     "name": "stdout",
     "output_type": "stream",
     "text": [
      "<class 'pandas.core.frame.DataFrame'>\n",
      "RangeIndex: 760 entries, 0 to 759\n",
      "Data columns (total 7 columns):\n",
      " #   Column          Non-Null Count  Dtype \n",
      "---  ------          --------------  ----- \n",
      " 0   customer_id     760 non-null    int64 \n",
      " 1   age_range       760 non-null    object\n",
      " 2   marital_status  760 non-null    object\n",
      " 3   rented          760 non-null    int64 \n",
      " 4   family_size     760 non-null    object\n",
      " 5   no_of_children  760 non-null    object\n",
      " 6   income_bracket  760 non-null    int64 \n",
      "dtypes: int64(3), object(4)\n",
      "memory usage: 41.7+ KB\n"
     ]
    }
   ],
   "source": [
    "cust_demo.info()"
   ]
  },
  {
   "cell_type": "code",
   "execution_count": 10,
   "id": "2f8b5fe6",
   "metadata": {},
   "outputs": [
    {
     "data": {
      "image/png": "[encoded data removed]",
      "text/plain": [
       "<Figure size 921.6x633.6 with 1 Axes>"
      ]
     },
     "metadata": {},
     "output_type": "display_data"
    }
   ],
   "source": [
    "cust_demo[\"income_bracket\"].value_counts().plot(kind='bar')\n",
    "plt.xlabel('Income Bracket')\n",
    "plt.ylabel('Number of Customer')\n",
    "plt.title('Distribution of Income Bracket')\n",
    "plt.show()"
   ]
  },
  {
   "cell_type": "markdown",
   "id": "8e9c4d94",
   "metadata": {},
   "source": [
    "Most of the customers fall under 4 - 6 income bracket"
   ]
  },
  {
   "cell_type": "code",
   "execution_count": 11,
   "id": "cbe82a5e",
   "metadata": {},
   "outputs": [
    {
     "data": {
      "text/plain": [
       "unknown    329\n",
       "Married    317\n",
       "Single     114\n",
       "Name: marital_status, dtype: int64"
      ]
     },
     "execution_count": 11,
     "metadata": {},
     "output_type": "execute_result"
    }
   ],
   "source": [
    "cust_demo.marital_status.value_counts()"
   ]
  },
  {
   "cell_type": "code",
   "execution_count": 12,
   "id": "d6d0e556",
   "metadata": {},
   "outputs": [
    {
     "data": {
      "text/plain": [
       "46-55    271\n",
       "36-45    187\n",
       "26-35    130\n",
       "70+       68\n",
       "56-70     59\n",
       "18-25     45\n",
       "Name: age_range, dtype: int64"
      ]
     },
     "execution_count": 12,
     "metadata": {},
     "output_type": "execute_result"
    }
   ],
   "source": [
    "cust_demo.age_range.value_counts()"
   ]
  },
  {
   "cell_type": "code",
   "execution_count": 13,
   "id": "2f8b8365",
   "metadata": {},
   "outputs": [],
   "source": [
    "group_by_age = cust_demo.groupby(['age_range', 'income_bracket']).agg({'income_bracket' : 'count'})\n",
    "group_by_age.columns = ['count']"
   ]
  },
  {
   "cell_type": "code",
   "execution_count": 14,
   "id": "f62f1fd5",
   "metadata": {},
   "outputs": [
    {
     "data": {
      "text/html": [
       "<div>\n",
       "<style scoped>\n",
       "    .dataframe tbody tr th:only-of-type {\n",
       "        vertical-align: middle;\n",
       "    }\n",
       "\n",
       "    .dataframe tbody tr th {\n",
       "        vertical-align: top;\n",
       "    }\n",
       "\n",
       "    .dataframe thead th {\n",
       "        text-align: right;\n",
       "    }\n",
       "</style>\n",
       "<table border=\"1\" class=\"dataframe\">\n",
       "  <thead>\n",
       "    <tr style=\"text-align: right;\">\n",
       "      <th></th>\n",
       "      <th></th>\n",
       "      <th>count</th>\n",
       "    </tr>\n",
       "    <tr>\n",
       "      <th>age_range</th>\n",
       "      <th>income_bracket</th>\n",
       "      <th></th>\n",
       "    </tr>\n",
       "  </thead>\n",
       "  <tbody>\n",
       "    <tr>\n",
       "      <th rowspan=\"8\" valign=\"top\">18-25</th>\n",
       "      <th>1</th>\n",
       "      <td>10</td>\n",
       "    </tr>\n",
       "    <tr>\n",
       "      <th>2</th>\n",
       "      <td>4</td>\n",
       "    </tr>\n",
       "    <tr>\n",
       "      <th>3</th>\n",
       "      <td>4</td>\n",
       "    </tr>\n",
       "    <tr>\n",
       "      <th>4</th>\n",
       "      <td>13</td>\n",
       "    </tr>\n",
       "    <tr>\n",
       "      <th>5</th>\n",
       "      <td>9</td>\n",
       "    </tr>\n",
       "    <tr>\n",
       "      <th>6</th>\n",
       "      <td>2</td>\n",
       "    </tr>\n",
       "    <tr>\n",
       "      <th>11</th>\n",
       "      <td>1</td>\n",
       "    </tr>\n",
       "    <tr>\n",
       "      <th>12</th>\n",
       "      <td>2</td>\n",
       "    </tr>\n",
       "    <tr>\n",
       "      <th rowspan=\"2\" valign=\"top\">26-35</th>\n",
       "      <th>1</th>\n",
       "      <td>9</td>\n",
       "    </tr>\n",
       "    <tr>\n",
       "      <th>2</th>\n",
       "      <td>11</td>\n",
       "    </tr>\n",
       "  </tbody>\n",
       "</table>\n",
       "</div>"
      ],
      "text/plain": [
       "                          count\n",
       "age_range income_bracket       \n",
       "18-25     1                  10\n",
       "          2                   4\n",
       "          3                   4\n",
       "          4                  13\n",
       "          5                   9\n",
       "          6                   2\n",
       "          11                  1\n",
       "          12                  2\n",
       "26-35     1                   9\n",
       "          2                  11"
      ]
     },
     "execution_count": 14,
     "metadata": {},
     "output_type": "execute_result"
    }
   ],
   "source": [
    "group_by_age.head(10)"
   ]
  },
  {
   "cell_type": "markdown",
   "id": "8a0824e4",
   "metadata": {},
   "source": [
    "## Redemptions (train_data Table)"
   ]
  },
  {
   "cell_type": "code",
   "execution_count": 15,
   "id": "3361afeb",
   "metadata": {},
   "outputs": [
    {
     "name": "stdout",
     "output_type": "stream",
     "text": [
      "<class 'pandas.core.frame.DataFrame'>\n",
      "RangeIndex: 54858 entries, 0 to 54857\n",
      "Data columns (total 5 columns):\n",
      " #   Column             Non-Null Count  Dtype\n",
      "---  ------             --------------  -----\n",
      " 0   id                 54858 non-null  int64\n",
      " 1   campaign_id        54858 non-null  int64\n",
      " 2   coupon_id          54858 non-null  int64\n",
      " 3   customer_id        54858 non-null  int64\n",
      " 4   redemption_status  54858 non-null  int64\n",
      "dtypes: int64(5)\n",
      "memory usage: 2.1 MB\n"
     ]
    }
   ],
   "source": [
    "train.info()"
   ]
  },
  {
   "cell_type": "code",
   "execution_count": 16,
   "id": "36a5a726",
   "metadata": {},
   "outputs": [
    {
     "data": {
      "text/html": [
       "<div>\n",
       "<style scoped>\n",
       "    .dataframe tbody tr th:only-of-type {\n",
       "        vertical-align: middle;\n",
       "    }\n",
       "\n",
       "    .dataframe tbody tr th {\n",
       "        vertical-align: top;\n",
       "    }\n",
       "\n",
       "    .dataframe thead th {\n",
       "        text-align: right;\n",
       "    }\n",
       "</style>\n",
       "<table border=\"1\" class=\"dataframe\">\n",
       "  <thead>\n",
       "    <tr style=\"text-align: right;\">\n",
       "      <th></th>\n",
       "      <th>id</th>\n",
       "      <th>campaign_id</th>\n",
       "      <th>coupon_id</th>\n",
       "      <th>customer_id</th>\n",
       "      <th>redemption_status</th>\n",
       "    </tr>\n",
       "  </thead>\n",
       "  <tbody>\n",
       "    <tr>\n",
       "      <th>0</th>\n",
       "      <td>117578</td>\n",
       "      <td>8</td>\n",
       "      <td>725</td>\n",
       "      <td>45</td>\n",
       "      <td>0</td>\n",
       "    </tr>\n",
       "    <tr>\n",
       "      <th>1</th>\n",
       "      <td>123337</td>\n",
       "      <td>29</td>\n",
       "      <td>265</td>\n",
       "      <td>334</td>\n",
       "      <td>0</td>\n",
       "    </tr>\n",
       "    <tr>\n",
       "      <th>2</th>\n",
       "      <td>46642</td>\n",
       "      <td>13</td>\n",
       "      <td>281</td>\n",
       "      <td>408</td>\n",
       "      <td>0</td>\n",
       "    </tr>\n",
       "    <tr>\n",
       "      <th>3</th>\n",
       "      <td>10510</td>\n",
       "      <td>13</td>\n",
       "      <td>625</td>\n",
       "      <td>577</td>\n",
       "      <td>0</td>\n",
       "    </tr>\n",
       "    <tr>\n",
       "      <th>4</th>\n",
       "      <td>14347</td>\n",
       "      <td>13</td>\n",
       "      <td>480</td>\n",
       "      <td>414</td>\n",
       "      <td>0</td>\n",
       "    </tr>\n",
       "  </tbody>\n",
       "</table>\n",
       "</div>"
      ],
      "text/plain": [
       "       id  campaign_id  coupon_id  customer_id  redemption_status\n",
       "0  117578            8        725           45                  0\n",
       "1  123337           29        265          334                  0\n",
       "2   46642           13        281          408                  0\n",
       "3   10510           13        625          577                  0\n",
       "4   14347           13        480          414                  0"
      ]
     },
     "execution_count": 16,
     "metadata": {},
     "output_type": "execute_result"
    }
   ],
   "source": [
    "train.head()"
   ]
  },
  {
   "cell_type": "code",
   "execution_count": 17,
   "id": "3a8e92fa",
   "metadata": {},
   "outputs": [
    {
     "data": {
      "text/plain": [
       "1428"
      ]
     },
     "execution_count": 17,
     "metadata": {},
     "output_type": "execute_result"
    }
   ],
   "source": [
    "len(train.customer_id.unique())"
   ]
  },
  {
   "cell_type": "code",
   "execution_count": 18,
   "id": "901457b2",
   "metadata": {},
   "outputs": [
    {
     "data": {
      "text/plain": [
       "18"
      ]
     },
     "execution_count": 18,
     "metadata": {},
     "output_type": "execute_result"
    }
   ],
   "source": [
    "len(train.campaign_id.unique())"
   ]
  },
  {
   "cell_type": "code",
   "execution_count": 19,
   "id": "0f817878",
   "metadata": {},
   "outputs": [
    {
     "data": {
      "text/plain": [
       "0    54340\n",
       "1      518\n",
       "Name: redemption_status, dtype: int64"
      ]
     },
     "execution_count": 19,
     "metadata": {},
     "output_type": "execute_result"
    }
   ],
   "source": [
    "train[\"redemption_status\"].value_counts()"
   ]
  },
  {
   "cell_type": "code",
   "execution_count": 20,
   "id": "646f6b4d",
   "metadata": {},
   "outputs": [
    {
     "data": {
      "text/plain": [
       "0.9442560793320938"
      ]
     },
     "execution_count": 20,
     "metadata": {},
     "output_type": "execute_result"
    }
   ],
   "source": [
    "518/(54340+518)*100"
   ]
  },
  {
   "cell_type": "markdown",
   "id": "3b0c1593",
   "metadata": {},
   "source": [
    "Only 0.94% of the coupon redemption is done."
   ]
  },
  {
   "cell_type": "code",
   "execution_count": 21,
   "id": "cf0e4b8e",
   "metadata": {},
   "outputs": [
    {
     "data": {
      "text/html": [
       "<div>\n",
       "<style scoped>\n",
       "    .dataframe tbody tr th:only-of-type {\n",
       "        vertical-align: middle;\n",
       "    }\n",
       "\n",
       "    .dataframe tbody tr th {\n",
       "        vertical-align: top;\n",
       "    }\n",
       "\n",
       "    .dataframe thead th {\n",
       "        text-align: right;\n",
       "    }\n",
       "</style>\n",
       "<table border=\"1\" class=\"dataframe\">\n",
       "  <thead>\n",
       "    <tr style=\"text-align: right;\">\n",
       "      <th></th>\n",
       "      <th>redemption_status</th>\n",
       "      <th>coupons</th>\n",
       "      <th>customers</th>\n",
       "      <th>count</th>\n",
       "    </tr>\n",
       "  </thead>\n",
       "  <tbody>\n",
       "    <tr>\n",
       "      <th>0</th>\n",
       "      <td>0</td>\n",
       "      <td>866</td>\n",
       "      <td>1428</td>\n",
       "      <td>54340</td>\n",
       "    </tr>\n",
       "    <tr>\n",
       "      <th>1</th>\n",
       "      <td>1</td>\n",
       "      <td>202</td>\n",
       "      <td>213</td>\n",
       "      <td>518</td>\n",
       "    </tr>\n",
       "  </tbody>\n",
       "</table>\n",
       "</div>"
      ],
      "text/plain": [
       "   redemption_status  coupons  customers  count\n",
       "0                  0      866       1428  54340\n",
       "1                  1      202        213    518"
      ]
     },
     "execution_count": 21,
     "metadata": {},
     "output_type": "execute_result"
    }
   ],
   "source": [
    "group_by_redemption = train.groupby('redemption_status').agg({'coupon_id': 'nunique', 'customer_id': 'nunique', 'redemption_status': 'count'})\n",
    "group_by_redemption.columns = ['coupons', 'customers', 'count']\n",
    "group_by_redemption = group_by_redemption.reset_index()\n",
    "group_by_redemption"
   ]
  },
  {
   "cell_type": "code",
   "execution_count": 22,
   "id": "4b176393",
   "metadata": {},
   "outputs": [
    {
     "data": {
      "image/png": "[encoded data removed]",
      "text/plain": [
       "<Figure size 921.6x633.6 with 1 Axes>"
      ]
     },
     "metadata": {},
     "output_type": "display_data"
    }
   ],
   "source": [
    "train[\"redemption_status\"].value_counts().plot(kind='bar')\n",
    "plt.xlabel('Redemption Status')\n",
    "plt.ylabel('Number of Records')\n",
    "plt.title('Distribution of Redemption status')\n",
    "plt.show()"
   ]
  },
  {
   "cell_type": "markdown",
   "id": "05fbabb8",
   "metadata": {},
   "source": [
    "The dataset is highly imbalanced"
   ]
  },
  {
   "cell_type": "code",
   "execution_count": 23,
   "id": "2b28e47e",
   "metadata": {},
   "outputs": [
    {
     "data": {
      "image/png": "[encoded data removed]",
      "text/plain": [
       "<Figure size 1080x432 with 2 Axes>"
      ]
     },
     "metadata": {},
     "output_type": "display_data"
    }
   ],
   "source": [
    "fig, axes = plt.subplots(1,2, figsize =(15,6))\n",
    "\n",
    "axes[0].bar(['0','1'],[1428, 213],align ='center')\n",
    "axes[0].set_xlabel('Redemption Status')\n",
    "axes[0].set_ylabel('Number of unique Customers')\n",
    "\n",
    "axes[1].bar(['0','1'],[866, 202],align ='center')\n",
    "axes[1].set_xlabel('Redemption Status')\n",
    "axes[1].set_ylabel('Number of unique Coupons')\n",
    "\n",
    "\n",
    "plt.suptitle('Redemption Status counts'.title(), fontsize = 20)\n",
    "plt.show()"
   ]
  },
  {
   "cell_type": "markdown",
   "id": "5d3ac8e9",
   "metadata": {},
   "source": [
    "## Campaigns (campaign_data table)"
   ]
  },
  {
   "cell_type": "code",
   "execution_count": 24,
   "id": "6552f92b",
   "metadata": {},
   "outputs": [
    {
     "name": "stdout",
     "output_type": "stream",
     "text": [
      "<class 'pandas.core.frame.DataFrame'>\n",
      "RangeIndex: 28 entries, 0 to 27\n",
      "Data columns (total 4 columns):\n",
      " #   Column         Non-Null Count  Dtype         \n",
      "---  ------         --------------  -----         \n",
      " 0   campaign_id    28 non-null     int64         \n",
      " 1   campaign_type  28 non-null     object        \n",
      " 2   start_date     28 non-null     datetime64[ns]\n",
      " 3   end_date       28 non-null     datetime64[ns]\n",
      "dtypes: datetime64[ns](2), int64(1), object(1)\n",
      "memory usage: 1.0+ KB\n"
     ]
    }
   ],
   "source": [
    "campaign.info()"
   ]
  },
  {
   "cell_type": "code",
   "execution_count": 25,
   "id": "01912be6",
   "metadata": {},
   "outputs": [
    {
     "data": {
      "text/html": [
       "<div>\n",
       "<style scoped>\n",
       "    .dataframe tbody tr th:only-of-type {\n",
       "        vertical-align: middle;\n",
       "    }\n",
       "\n",
       "    .dataframe tbody tr th {\n",
       "        vertical-align: top;\n",
       "    }\n",
       "\n",
       "    .dataframe thead th {\n",
       "        text-align: right;\n",
       "    }\n",
       "</style>\n",
       "<table border=\"1\" class=\"dataframe\">\n",
       "  <thead>\n",
       "    <tr style=\"text-align: right;\">\n",
       "      <th></th>\n",
       "      <th>campaign_id</th>\n",
       "      <th>campaign_type</th>\n",
       "      <th>start_date</th>\n",
       "      <th>end_date</th>\n",
       "    </tr>\n",
       "  </thead>\n",
       "  <tbody>\n",
       "    <tr>\n",
       "      <th>0</th>\n",
       "      <td>24</td>\n",
       "      <td>Y</td>\n",
       "      <td>2013-10-21</td>\n",
       "      <td>2013-12-20</td>\n",
       "    </tr>\n",
       "    <tr>\n",
       "      <th>1</th>\n",
       "      <td>25</td>\n",
       "      <td>Y</td>\n",
       "      <td>2013-10-21</td>\n",
       "      <td>2013-11-22</td>\n",
       "    </tr>\n",
       "    <tr>\n",
       "      <th>2</th>\n",
       "      <td>20</td>\n",
       "      <td>Y</td>\n",
       "      <td>2013-09-07</td>\n",
       "      <td>2013-11-16</td>\n",
       "    </tr>\n",
       "    <tr>\n",
       "      <th>3</th>\n",
       "      <td>23</td>\n",
       "      <td>Y</td>\n",
       "      <td>2013-10-08</td>\n",
       "      <td>2013-11-15</td>\n",
       "    </tr>\n",
       "    <tr>\n",
       "      <th>4</th>\n",
       "      <td>21</td>\n",
       "      <td>Y</td>\n",
       "      <td>2013-09-16</td>\n",
       "      <td>2013-10-18</td>\n",
       "    </tr>\n",
       "  </tbody>\n",
       "</table>\n",
       "</div>"
      ],
      "text/plain": [
       "   campaign_id campaign_type start_date   end_date\n",
       "0           24             Y 2013-10-21 2013-12-20\n",
       "1           25             Y 2013-10-21 2013-11-22\n",
       "2           20             Y 2013-09-07 2013-11-16\n",
       "3           23             Y 2013-10-08 2013-11-15\n",
       "4           21             Y 2013-09-16 2013-10-18"
      ]
     },
     "execution_count": 25,
     "metadata": {},
     "output_type": "execute_result"
    }
   ],
   "source": [
    "campaign.head()"
   ]
  },
  {
   "cell_type": "code",
   "execution_count": 26,
   "id": "80a4f64e",
   "metadata": {},
   "outputs": [
    {
     "data": {
      "text/plain": [
       "Y    22\n",
       "X     6\n",
       "Name: campaign_type, dtype: int64"
      ]
     },
     "execution_count": 26,
     "metadata": {},
     "output_type": "execute_result"
    }
   ],
   "source": [
    "campaign.campaign_type.value_counts()"
   ]
  },
  {
   "cell_type": "code",
   "execution_count": 27,
   "id": "36a81fce",
   "metadata": {},
   "outputs": [
    {
     "data": {
      "text/plain": [
       "28"
      ]
     },
     "execution_count": 27,
     "metadata": {},
     "output_type": "execute_result"
    }
   ],
   "source": [
    "len(campaign.campaign_id.unique())"
   ]
  },
  {
   "cell_type": "markdown",
   "id": "b66b357d",
   "metadata": {},
   "source": [
    "There are 28 Campaigns."
   ]
  },
  {
   "cell_type": "code",
   "execution_count": 28,
   "id": "1a6c6b9f",
   "metadata": {},
   "outputs": [
    {
     "data": {
      "text/html": [
       "<div>\n",
       "<style scoped>\n",
       "    .dataframe tbody tr th:only-of-type {\n",
       "        vertical-align: middle;\n",
       "    }\n",
       "\n",
       "    .dataframe tbody tr th {\n",
       "        vertical-align: top;\n",
       "    }\n",
       "\n",
       "    .dataframe thead th {\n",
       "        text-align: right;\n",
       "    }\n",
       "</style>\n",
       "<table border=\"1\" class=\"dataframe\">\n",
       "  <thead>\n",
       "    <tr style=\"text-align: right;\">\n",
       "      <th></th>\n",
       "      <th>campaign_id</th>\n",
       "      <th>campaign_type</th>\n",
       "      <th>start_date</th>\n",
       "      <th>end_date</th>\n",
       "      <th>duration</th>\n",
       "    </tr>\n",
       "  </thead>\n",
       "  <tbody>\n",
       "    <tr>\n",
       "      <th>27</th>\n",
       "      <td>26</td>\n",
       "      <td>X</td>\n",
       "      <td>2012-08-12</td>\n",
       "      <td>2012-09-21</td>\n",
       "      <td>40</td>\n",
       "    </tr>\n",
       "    <tr>\n",
       "      <th>26</th>\n",
       "      <td>27</td>\n",
       "      <td>Y</td>\n",
       "      <td>2012-08-25</td>\n",
       "      <td>2012-10-27</td>\n",
       "      <td>63</td>\n",
       "    </tr>\n",
       "    <tr>\n",
       "      <th>25</th>\n",
       "      <td>28</td>\n",
       "      <td>Y</td>\n",
       "      <td>2012-09-16</td>\n",
       "      <td>2012-11-16</td>\n",
       "      <td>61</td>\n",
       "    </tr>\n",
       "    <tr>\n",
       "      <th>24</th>\n",
       "      <td>29</td>\n",
       "      <td>Y</td>\n",
       "      <td>2012-10-08</td>\n",
       "      <td>2012-11-30</td>\n",
       "      <td>53</td>\n",
       "    </tr>\n",
       "    <tr>\n",
       "      <th>23</th>\n",
       "      <td>30</td>\n",
       "      <td>X</td>\n",
       "      <td>2012-11-19</td>\n",
       "      <td>2013-01-04</td>\n",
       "      <td>46</td>\n",
       "    </tr>\n",
       "  </tbody>\n",
       "</table>\n",
       "</div>"
      ],
      "text/plain": [
       "    campaign_id campaign_type start_date   end_date  duration\n",
       "27           26             X 2012-08-12 2012-09-21        40\n",
       "26           27             Y 2012-08-25 2012-10-27        63\n",
       "25           28             Y 2012-09-16 2012-11-16        61\n",
       "24           29             Y 2012-10-08 2012-11-30        53\n",
       "23           30             X 2012-11-19 2013-01-04        46"
      ]
     },
     "execution_count": 28,
     "metadata": {},
     "output_type": "execute_result"
    }
   ],
   "source": [
    "campaign['duration'] = (campaign['end_date'] - campaign['start_date']).dt.days\n",
    "campaign = campaign.sort_values('start_date')\n",
    "campaign.head()"
   ]
  },
  {
   "cell_type": "code",
   "execution_count": 29,
   "id": "1f2b05ad",
   "metadata": {},
   "outputs": [
    {
     "data": {
      "image/png": "[encoded data removed]",
      "text/plain": [
       "<Figure size 921.6x633.6 with 1 Axes>"
      ]
     },
     "metadata": {},
     "output_type": "display_data"
    }
   ],
   "source": [
    "value = campaign.plot('start_date', 'duration')\n",
    "plt.xlabel('Start Date')\n",
    "plt.ylabel('Duration')\n",
    "plt.title('Trend in Duration')\n",
    "plt.show()"
   ]
  },
  {
   "cell_type": "markdown",
   "id": "b4868f03",
   "metadata": {},
   "source": [
    "## Coupon item mapping (coupon_item_mapping table)"
   ]
  },
  {
   "cell_type": "code",
   "execution_count": 30,
   "id": "a13e2caa",
   "metadata": {},
   "outputs": [
    {
     "name": "stdout",
     "output_type": "stream",
     "text": [
      "<class 'pandas.core.frame.DataFrame'>\n",
      "RangeIndex: 92663 entries, 0 to 92662\n",
      "Data columns (total 2 columns):\n",
      " #   Column     Non-Null Count  Dtype\n",
      "---  ------     --------------  -----\n",
      " 0   coupon_id  92663 non-null  int64\n",
      " 1   item_id    92663 non-null  int64\n",
      "dtypes: int64(2)\n",
      "memory usage: 1.4 MB\n"
     ]
    }
   ],
   "source": [
    "coupons.info()"
   ]
  },
  {
   "cell_type": "code",
   "execution_count": 31,
   "id": "a07ecc00",
   "metadata": {},
   "outputs": [
    {
     "data": {
      "text/html": [
       "<div>\n",
       "<style scoped>\n",
       "    .dataframe tbody tr th:only-of-type {\n",
       "        vertical-align: middle;\n",
       "    }\n",
       "\n",
       "    .dataframe tbody tr th {\n",
       "        vertical-align: top;\n",
       "    }\n",
       "\n",
       "    .dataframe thead th {\n",
       "        text-align: right;\n",
       "    }\n",
       "</style>\n",
       "<table border=\"1\" class=\"dataframe\">\n",
       "  <thead>\n",
       "    <tr style=\"text-align: right;\">\n",
       "      <th></th>\n",
       "      <th>coupon_id</th>\n",
       "      <th>item_id</th>\n",
       "    </tr>\n",
       "  </thead>\n",
       "  <tbody>\n",
       "    <tr>\n",
       "      <th>0</th>\n",
       "      <td>105</td>\n",
       "      <td>37</td>\n",
       "    </tr>\n",
       "    <tr>\n",
       "      <th>1</th>\n",
       "      <td>107</td>\n",
       "      <td>75</td>\n",
       "    </tr>\n",
       "    <tr>\n",
       "      <th>2</th>\n",
       "      <td>494</td>\n",
       "      <td>76</td>\n",
       "    </tr>\n",
       "    <tr>\n",
       "      <th>3</th>\n",
       "      <td>522</td>\n",
       "      <td>77</td>\n",
       "    </tr>\n",
       "    <tr>\n",
       "      <th>4</th>\n",
       "      <td>518</td>\n",
       "      <td>77</td>\n",
       "    </tr>\n",
       "  </tbody>\n",
       "</table>\n",
       "</div>"
      ],
      "text/plain": [
       "   coupon_id  item_id\n",
       "0        105       37\n",
       "1        107       75\n",
       "2        494       76\n",
       "3        522       77\n",
       "4        518       77"
      ]
     },
     "execution_count": 31,
     "metadata": {},
     "output_type": "execute_result"
    }
   ],
   "source": [
    "coupons.head()"
   ]
  },
  {
   "cell_type": "code",
   "execution_count": 32,
   "id": "31f7dde7",
   "metadata": {},
   "outputs": [
    {
     "data": {
      "text/plain": [
       "32      11814\n",
       "23      11813\n",
       "22       4947\n",
       "31       4873\n",
       "33       4394\n",
       "        ...  \n",
       "1054        1\n",
       "943         1\n",
       "762         1\n",
       "480         1\n",
       "760         1\n",
       "Name: coupon_id, Length: 1116, dtype: int64"
      ]
     },
     "execution_count": 32,
     "metadata": {},
     "output_type": "execute_result"
    }
   ],
   "source": [
    "coupons.coupon_id.value_counts()"
   ]
  },
  {
   "cell_type": "code",
   "execution_count": 33,
   "id": "1686b805",
   "metadata": {},
   "outputs": [
    {
     "data": {
      "text/plain": [
       "1116"
      ]
     },
     "execution_count": 33,
     "metadata": {},
     "output_type": "execute_result"
    }
   ],
   "source": [
    "len(coupons.coupon_id.unique())"
   ]
  },
  {
   "cell_type": "code",
   "execution_count": 34,
   "id": "aec86793",
   "metadata": {},
   "outputs": [
    {
     "data": {
      "text/plain": [
       "36289"
      ]
     },
     "execution_count": 34,
     "metadata": {},
     "output_type": "execute_result"
    }
   ],
   "source": [
    "len(coupons.item_id.unique())"
   ]
  },
  {
   "cell_type": "markdown",
   "id": "47bbd501",
   "metadata": {},
   "source": [
    "There are coupons that applied to multiple items like coupon id 32"
   ]
  },
  {
   "cell_type": "markdown",
   "id": "78b9a24f",
   "metadata": {},
   "source": [
    "## Customer Transaction Data (customer_transaction_data table)"
   ]
  },
  {
   "cell_type": "code",
   "execution_count": 35,
   "id": "02de15c0",
   "metadata": {},
   "outputs": [
    {
     "name": "stdout",
     "output_type": "stream",
     "text": [
      "<class 'pandas.core.frame.DataFrame'>\n",
      "RangeIndex: 1324566 entries, 0 to 1324565\n",
      "Data columns (total 7 columns):\n",
      " #   Column           Non-Null Count    Dtype  \n",
      "---  ------           --------------    -----  \n",
      " 0   date             1324566 non-null  object \n",
      " 1   customer_id      1324566 non-null  int64  \n",
      " 2   item_id          1324566 non-null  int64  \n",
      " 3   quantity         1324566 non-null  int64  \n",
      " 4   selling_price    1324566 non-null  float64\n",
      " 5   other_discount   1324566 non-null  float64\n",
      " 6   coupon_discount  1324566 non-null  float64\n",
      "dtypes: float64(3), int64(3), object(1)\n",
      "memory usage: 70.7+ MB\n"
     ]
    }
   ],
   "source": [
    "cust_tran.info()"
   ]
  },
  {
   "cell_type": "code",
   "execution_count": 36,
   "id": "8d139f58",
   "metadata": {},
   "outputs": [
    {
     "data": {
      "text/html": [
       "<div>\n",
       "<style scoped>\n",
       "    .dataframe tbody tr th:only-of-type {\n",
       "        vertical-align: middle;\n",
       "    }\n",
       "\n",
       "    .dataframe tbody tr th {\n",
       "        vertical-align: top;\n",
       "    }\n",
       "\n",
       "    .dataframe thead th {\n",
       "        text-align: right;\n",
       "    }\n",
       "</style>\n",
       "<table border=\"1\" class=\"dataframe\">\n",
       "  <thead>\n",
       "    <tr style=\"text-align: right;\">\n",
       "      <th></th>\n",
       "      <th>date</th>\n",
       "      <th>customer_id</th>\n",
       "      <th>item_id</th>\n",
       "      <th>quantity</th>\n",
       "      <th>selling_price</th>\n",
       "      <th>other_discount</th>\n",
       "      <th>coupon_discount</th>\n",
       "    </tr>\n",
       "  </thead>\n",
       "  <tbody>\n",
       "    <tr>\n",
       "      <th>0</th>\n",
       "      <td>2012-01-02</td>\n",
       "      <td>1501</td>\n",
       "      <td>26830</td>\n",
       "      <td>1</td>\n",
       "      <td>35.26</td>\n",
       "      <td>-10.69</td>\n",
       "      <td>0.0</td>\n",
       "    </tr>\n",
       "    <tr>\n",
       "      <th>1</th>\n",
       "      <td>2012-01-02</td>\n",
       "      <td>1501</td>\n",
       "      <td>54253</td>\n",
       "      <td>1</td>\n",
       "      <td>53.43</td>\n",
       "      <td>-13.89</td>\n",
       "      <td>0.0</td>\n",
       "    </tr>\n",
       "    <tr>\n",
       "      <th>2</th>\n",
       "      <td>2012-01-02</td>\n",
       "      <td>1501</td>\n",
       "      <td>31962</td>\n",
       "      <td>1</td>\n",
       "      <td>106.50</td>\n",
       "      <td>-14.25</td>\n",
       "      <td>0.0</td>\n",
       "    </tr>\n",
       "    <tr>\n",
       "      <th>3</th>\n",
       "      <td>2012-01-02</td>\n",
       "      <td>1501</td>\n",
       "      <td>33647</td>\n",
       "      <td>1</td>\n",
       "      <td>67.32</td>\n",
       "      <td>0.00</td>\n",
       "      <td>0.0</td>\n",
       "    </tr>\n",
       "    <tr>\n",
       "      <th>4</th>\n",
       "      <td>2012-01-02</td>\n",
       "      <td>1501</td>\n",
       "      <td>48199</td>\n",
       "      <td>1</td>\n",
       "      <td>71.24</td>\n",
       "      <td>-28.14</td>\n",
       "      <td>0.0</td>\n",
       "    </tr>\n",
       "  </tbody>\n",
       "</table>\n",
       "</div>"
      ],
      "text/plain": [
       "         date  customer_id  item_id  quantity  selling_price  other_discount  \\\n",
       "0  2012-01-02         1501    26830         1          35.26          -10.69   \n",
       "1  2012-01-02         1501    54253         1          53.43          -13.89   \n",
       "2  2012-01-02         1501    31962         1         106.50          -14.25   \n",
       "3  2012-01-02         1501    33647         1          67.32            0.00   \n",
       "4  2012-01-02         1501    48199         1          71.24          -28.14   \n",
       "\n",
       "   coupon_discount  \n",
       "0              0.0  \n",
       "1              0.0  \n",
       "2              0.0  \n",
       "3              0.0  \n",
       "4              0.0  "
      ]
     },
     "execution_count": 36,
     "metadata": {},
     "output_type": "execute_result"
    }
   ],
   "source": [
    "cust_tran.head()"
   ]
  },
  {
   "cell_type": "code",
   "execution_count": 37,
   "id": "daaf8ead",
   "metadata": {},
   "outputs": [
    {
     "data": {
      "text/plain": [
       "1582"
      ]
     },
     "execution_count": 37,
     "metadata": {},
     "output_type": "execute_result"
    }
   ],
   "source": [
    "len(cust_tran.customer_id.unique())"
   ]
  },
  {
   "cell_type": "code",
   "execution_count": 38,
   "id": "c58c6207",
   "metadata": {},
   "outputs": [
    {
     "data": {
      "text/plain": [
       "1.607016939888235"
      ]
     },
     "execution_count": 38,
     "metadata": {},
     "output_type": "execute_result"
    }
   ],
   "source": [
    "len(cust_tran[cust_tran.coupon_discount<0])/len(cust_tran.coupon_discount)*100"
   ]
  },
  {
   "cell_type": "markdown",
   "id": "9424d0ec",
   "metadata": {},
   "source": [
    "Only 1.6% of the transcations recevied the coupon discount."
   ]
  },
  {
   "cell_type": "code",
   "execution_count": 39,
   "id": "2bbdc815",
   "metadata": {},
   "outputs": [
    {
     "data": {
      "text/plain": [
       "45502    187\n",
       "45539    117\n",
       "53521     74\n",
       "53517     69\n",
       "45578     61\n",
       "        ... \n",
       "65927      1\n",
       "37253      1\n",
       "16767      1\n",
       "37237      1\n",
       "6141       1\n",
       "Name: item_id, Length: 7349, dtype: int64"
      ]
     },
     "execution_count": 39,
     "metadata": {},
     "output_type": "execute_result"
    }
   ],
   "source": [
    "cust_tran[cust_tran.coupon_discount<0].item_id.value_counts()"
   ]
  },
  {
   "cell_type": "markdown",
   "id": "4c35a425",
   "metadata": {},
   "source": [
    "## Item Data (item_data table)"
   ]
  },
  {
   "cell_type": "code",
   "execution_count": 40,
   "id": "19365d55",
   "metadata": {},
   "outputs": [
    {
     "name": "stdout",
     "output_type": "stream",
     "text": [
      "<class 'pandas.core.frame.DataFrame'>\n",
      "RangeIndex: 74066 entries, 0 to 74065\n",
      "Data columns (total 4 columns):\n",
      " #   Column      Non-Null Count  Dtype \n",
      "---  ------      --------------  ----- \n",
      " 0   item_id     74066 non-null  int64 \n",
      " 1   brand       74066 non-null  int64 \n",
      " 2   brand_type  74066 non-null  object\n",
      " 3   category    74066 non-null  object\n",
      "dtypes: int64(2), object(2)\n",
      "memory usage: 2.3+ MB\n"
     ]
    }
   ],
   "source": [
    "items.info()"
   ]
  },
  {
   "cell_type": "code",
   "execution_count": 41,
   "id": "cedde795",
   "metadata": {},
   "outputs": [
    {
     "data": {
      "text/html": [
       "<div>\n",
       "<style scoped>\n",
       "    .dataframe tbody tr th:only-of-type {\n",
       "        vertical-align: middle;\n",
       "    }\n",
       "\n",
       "    .dataframe tbody tr th {\n",
       "        vertical-align: top;\n",
       "    }\n",
       "\n",
       "    .dataframe thead th {\n",
       "        text-align: right;\n",
       "    }\n",
       "</style>\n",
       "<table border=\"1\" class=\"dataframe\">\n",
       "  <thead>\n",
       "    <tr style=\"text-align: right;\">\n",
       "      <th></th>\n",
       "      <th>item_id</th>\n",
       "      <th>brand</th>\n",
       "      <th>brand_type</th>\n",
       "      <th>category</th>\n",
       "    </tr>\n",
       "  </thead>\n",
       "  <tbody>\n",
       "    <tr>\n",
       "      <th>0</th>\n",
       "      <td>1</td>\n",
       "      <td>1</td>\n",
       "      <td>Established</td>\n",
       "      <td>Grocery</td>\n",
       "    </tr>\n",
       "    <tr>\n",
       "      <th>1</th>\n",
       "      <td>2</td>\n",
       "      <td>1</td>\n",
       "      <td>Established</td>\n",
       "      <td>Miscellaneous</td>\n",
       "    </tr>\n",
       "    <tr>\n",
       "      <th>2</th>\n",
       "      <td>3</td>\n",
       "      <td>56</td>\n",
       "      <td>Local</td>\n",
       "      <td>Bakery</td>\n",
       "    </tr>\n",
       "    <tr>\n",
       "      <th>3</th>\n",
       "      <td>4</td>\n",
       "      <td>56</td>\n",
       "      <td>Local</td>\n",
       "      <td>Grocery</td>\n",
       "    </tr>\n",
       "    <tr>\n",
       "      <th>4</th>\n",
       "      <td>5</td>\n",
       "      <td>56</td>\n",
       "      <td>Local</td>\n",
       "      <td>Grocery</td>\n",
       "    </tr>\n",
       "  </tbody>\n",
       "</table>\n",
       "</div>"
      ],
      "text/plain": [
       "   item_id  brand   brand_type       category\n",
       "0        1      1  Established        Grocery\n",
       "1        2      1  Established  Miscellaneous\n",
       "2        3     56        Local         Bakery\n",
       "3        4     56        Local        Grocery\n",
       "4        5     56        Local        Grocery"
      ]
     },
     "execution_count": 41,
     "metadata": {},
     "output_type": "execute_result"
    }
   ],
   "source": [
    "items.head()"
   ]
  },
  {
   "cell_type": "code",
   "execution_count": 42,
   "id": "925bf2ac",
   "metadata": {},
   "outputs": [
    {
     "data": {
      "text/plain": [
       "74066"
      ]
     },
     "execution_count": 42,
     "metadata": {},
     "output_type": "execute_result"
    }
   ],
   "source": [
    "len(items.item_id.unique())"
   ]
  },
  {
   "cell_type": "code",
   "execution_count": 43,
   "id": "25172ca9",
   "metadata": {},
   "outputs": [
    {
     "data": {
      "text/plain": [
       "Established    62842\n",
       "Local          11224\n",
       "Name: brand_type, dtype: int64"
      ]
     },
     "execution_count": 43,
     "metadata": {},
     "output_type": "execute_result"
    }
   ],
   "source": [
    "items.brand_type.value_counts()"
   ]
  },
  {
   "cell_type": "code",
   "execution_count": 44,
   "id": "e7b87100",
   "metadata": {},
   "outputs": [
    {
     "data": {
      "text/plain": [
       "Grocery                   32448\n",
       "Pharmaceutical            24471\n",
       "Natural Products           2533\n",
       "Dairy, Juices & Snacks     2425\n",
       "Skin & Hair Care           2244\n",
       "Meat                       2080\n",
       "Packaged Meat              1966\n",
       "Prepared Food              1880\n",
       "Bakery                     1679\n",
       "Seafood                     728\n",
       "Flowers & Plants            664\n",
       "Miscellaneous               385\n",
       "Alcohol                     303\n",
       "Garden                      102\n",
       "Restauarant                  78\n",
       "Salads                       40\n",
       "Travel                       19\n",
       "Fuel                         14\n",
       "Vegetables (cut)              7\n",
       "Name: category, dtype: int64"
      ]
     },
     "execution_count": 44,
     "metadata": {},
     "output_type": "execute_result"
    }
   ],
   "source": [
    "items.category.value_counts()"
   ]
  },
  {
   "cell_type": "code",
   "execution_count": 45,
   "id": "529c41c3",
   "metadata": {},
   "outputs": [
    {
     "data": {
      "text/html": [
       "<div>\n",
       "<style scoped>\n",
       "    .dataframe tbody tr th:only-of-type {\n",
       "        vertical-align: middle;\n",
       "    }\n",
       "\n",
       "    .dataframe tbody tr th {\n",
       "        vertical-align: top;\n",
       "    }\n",
       "\n",
       "    .dataframe thead th {\n",
       "        text-align: right;\n",
       "    }\n",
       "</style>\n",
       "<table border=\"1\" class=\"dataframe\">\n",
       "  <thead>\n",
       "    <tr style=\"text-align: right;\">\n",
       "      <th></th>\n",
       "      <th>item_id</th>\n",
       "      <th>brand</th>\n",
       "      <th>brand_type</th>\n",
       "      <th>category</th>\n",
       "      <th>date</th>\n",
       "      <th>customer_id</th>\n",
       "      <th>quantity</th>\n",
       "      <th>selling_price</th>\n",
       "      <th>other_discount</th>\n",
       "      <th>coupon_discount</th>\n",
       "    </tr>\n",
       "  </thead>\n",
       "  <tbody>\n",
       "    <tr>\n",
       "      <th>0</th>\n",
       "      <td>97</td>\n",
       "      <td>162</td>\n",
       "      <td>Established</td>\n",
       "      <td>Grocery</td>\n",
       "      <td>2012-03-14</td>\n",
       "      <td>1248</td>\n",
       "      <td>2</td>\n",
       "      <td>62.69</td>\n",
       "      <td>-8.55</td>\n",
       "      <td>-35.62</td>\n",
       "    </tr>\n",
       "    <tr>\n",
       "      <th>1</th>\n",
       "      <td>161</td>\n",
       "      <td>1025</td>\n",
       "      <td>Established</td>\n",
       "      <td>Pharmaceutical</td>\n",
       "      <td>2012-05-10</td>\n",
       "      <td>1407</td>\n",
       "      <td>1</td>\n",
       "      <td>142.12</td>\n",
       "      <td>-28.50</td>\n",
       "      <td>-35.62</td>\n",
       "    </tr>\n",
       "    <tr>\n",
       "      <th>2</th>\n",
       "      <td>388</td>\n",
       "      <td>893</td>\n",
       "      <td>Established</td>\n",
       "      <td>Grocery</td>\n",
       "      <td>2013-02-15</td>\n",
       "      <td>1044</td>\n",
       "      <td>1</td>\n",
       "      <td>213.36</td>\n",
       "      <td>-17.81</td>\n",
       "      <td>-53.43</td>\n",
       "    </tr>\n",
       "    <tr>\n",
       "      <th>3</th>\n",
       "      <td>419</td>\n",
       "      <td>611</td>\n",
       "      <td>Established</td>\n",
       "      <td>Grocery</td>\n",
       "      <td>2012-08-16</td>\n",
       "      <td>1044</td>\n",
       "      <td>1</td>\n",
       "      <td>70.88</td>\n",
       "      <td>0.00</td>\n",
       "      <td>-19.59</td>\n",
       "    </tr>\n",
       "    <tr>\n",
       "      <th>4</th>\n",
       "      <td>419</td>\n",
       "      <td>611</td>\n",
       "      <td>Established</td>\n",
       "      <td>Grocery</td>\n",
       "      <td>2013-01-10</td>\n",
       "      <td>1044</td>\n",
       "      <td>2</td>\n",
       "      <td>141.77</td>\n",
       "      <td>0.00</td>\n",
       "      <td>-35.62</td>\n",
       "    </tr>\n",
       "  </tbody>\n",
       "</table>\n",
       "</div>"
      ],
      "text/plain": [
       "   item_id  brand   brand_type        category        date  customer_id  \\\n",
       "0       97    162  Established         Grocery  2012-03-14         1248   \n",
       "1      161   1025  Established  Pharmaceutical  2012-05-10         1407   \n",
       "2      388    893  Established         Grocery  2013-02-15         1044   \n",
       "3      419    611  Established         Grocery  2012-08-16         1044   \n",
       "4      419    611  Established         Grocery  2013-01-10         1044   \n",
       "\n",
       "   quantity  selling_price  other_discount  coupon_discount  \n",
       "0         2          62.69           -8.55           -35.62  \n",
       "1         1         142.12          -28.50           -35.62  \n",
       "2         1         213.36          -17.81           -53.43  \n",
       "3         1          70.88            0.00           -19.59  \n",
       "4         2         141.77            0.00           -35.62  "
      ]
     },
     "execution_count": 45,
     "metadata": {},
     "output_type": "execute_result"
    }
   ],
   "source": [
    "transactions = items.merge(cust_tran[cust_tran.coupon_discount<0] , how='inner', on='item_id')\n",
    "transactions.head()"
   ]
  },
  {
   "cell_type": "code",
   "execution_count": 46,
   "id": "b51887ec",
   "metadata": {},
   "outputs": [
    {
     "name": "stdout",
     "output_type": "stream",
     "text": [
      "<class 'pandas.core.frame.DataFrame'>\n",
      "Int64Index: 21286 entries, 0 to 21285\n",
      "Data columns (total 10 columns):\n",
      " #   Column           Non-Null Count  Dtype  \n",
      "---  ------           --------------  -----  \n",
      " 0   item_id          21286 non-null  int64  \n",
      " 1   brand            21286 non-null  int64  \n",
      " 2   brand_type       21286 non-null  object \n",
      " 3   category         21286 non-null  object \n",
      " 4   date             21286 non-null  object \n",
      " 5   customer_id      21286 non-null  int64  \n",
      " 6   quantity         21286 non-null  int64  \n",
      " 7   selling_price    21286 non-null  float64\n",
      " 8   other_discount   21286 non-null  float64\n",
      " 9   coupon_discount  21286 non-null  float64\n",
      "dtypes: float64(3), int64(4), object(3)\n",
      "memory usage: 1.8+ MB\n"
     ]
    }
   ],
   "source": [
    "transactions.info()"
   ]
  },
  {
   "cell_type": "code",
   "execution_count": 47,
   "id": "9f221843",
   "metadata": {},
   "outputs": [
    {
     "data": {
      "text/plain": [
       "45502    187\n",
       "45539    117\n",
       "53521     74\n",
       "53517     69\n",
       "45578     61\n",
       "        ... \n",
       "63064      1\n",
       "35464      1\n",
       "14990      1\n",
       "28351      1\n",
       "6141       1\n",
       "Name: item_id, Length: 7349, dtype: int64"
      ]
     },
     "execution_count": 47,
     "metadata": {},
     "output_type": "execute_result"
    }
   ],
   "source": [
    "transactions.item_id.value_counts()"
   ]
  },
  {
   "cell_type": "code",
   "execution_count": 48,
   "id": "69a0fd04",
   "metadata": {},
   "outputs": [],
   "source": [
    "group_by_items = transactions.groupby(['category']).agg({'category' : 'count'})\n",
    "group_by_items.columns = ['count']\n",
    "group_by_items = group_by_items.reset_index()"
   ]
  },
  {
   "cell_type": "code",
   "execution_count": 49,
   "id": "91480987",
   "metadata": {},
   "outputs": [
    {
     "data": {
      "text/html": [
       "<div>\n",
       "<style scoped>\n",
       "    .dataframe tbody tr th:only-of-type {\n",
       "        vertical-align: middle;\n",
       "    }\n",
       "\n",
       "    .dataframe tbody tr th {\n",
       "        vertical-align: top;\n",
       "    }\n",
       "\n",
       "    .dataframe thead th {\n",
       "        text-align: right;\n",
       "    }\n",
       "</style>\n",
       "<table border=\"1\" class=\"dataframe\">\n",
       "  <thead>\n",
       "    <tr style=\"text-align: right;\">\n",
       "      <th></th>\n",
       "      <th>category</th>\n",
       "      <th>count</th>\n",
       "    </tr>\n",
       "  </thead>\n",
       "  <tbody>\n",
       "    <tr>\n",
       "      <th>0</th>\n",
       "      <td>Bakery</td>\n",
       "      <td>32</td>\n",
       "    </tr>\n",
       "    <tr>\n",
       "      <th>1</th>\n",
       "      <td>Dairy, Juices &amp; Snacks</td>\n",
       "      <td>141</td>\n",
       "    </tr>\n",
       "    <tr>\n",
       "      <th>2</th>\n",
       "      <td>Flowers &amp; Plants</td>\n",
       "      <td>2</td>\n",
       "    </tr>\n",
       "    <tr>\n",
       "      <th>3</th>\n",
       "      <td>Grocery</td>\n",
       "      <td>16544</td>\n",
       "    </tr>\n",
       "    <tr>\n",
       "      <th>4</th>\n",
       "      <td>Meat</td>\n",
       "      <td>12</td>\n",
       "    </tr>\n",
       "    <tr>\n",
       "      <th>5</th>\n",
       "      <td>Miscellaneous</td>\n",
       "      <td>2</td>\n",
       "    </tr>\n",
       "    <tr>\n",
       "      <th>6</th>\n",
       "      <td>Natural Products</td>\n",
       "      <td>244</td>\n",
       "    </tr>\n",
       "    <tr>\n",
       "      <th>7</th>\n",
       "      <td>Packaged Meat</td>\n",
       "      <td>811</td>\n",
       "    </tr>\n",
       "    <tr>\n",
       "      <th>8</th>\n",
       "      <td>Pharmaceutical</td>\n",
       "      <td>3202</td>\n",
       "    </tr>\n",
       "    <tr>\n",
       "      <th>9</th>\n",
       "      <td>Prepared Food</td>\n",
       "      <td>118</td>\n",
       "    </tr>\n",
       "    <tr>\n",
       "      <th>10</th>\n",
       "      <td>Seafood</td>\n",
       "      <td>101</td>\n",
       "    </tr>\n",
       "    <tr>\n",
       "      <th>11</th>\n",
       "      <td>Skin &amp; Hair Care</td>\n",
       "      <td>77</td>\n",
       "    </tr>\n",
       "  </tbody>\n",
       "</table>\n",
       "</div>"
      ],
      "text/plain": [
       "                  category  count\n",
       "0                   Bakery     32\n",
       "1   Dairy, Juices & Snacks    141\n",
       "2         Flowers & Plants      2\n",
       "3                  Grocery  16544\n",
       "4                     Meat     12\n",
       "5            Miscellaneous      2\n",
       "6         Natural Products    244\n",
       "7            Packaged Meat    811\n",
       "8           Pharmaceutical   3202\n",
       "9            Prepared Food    118\n",
       "10                 Seafood    101\n",
       "11        Skin & Hair Care     77"
      ]
     },
     "execution_count": 49,
     "metadata": {},
     "output_type": "execute_result"
    }
   ],
   "source": [
    "group_by_items.head(20)"
   ]
  },
  {
   "cell_type": "code",
   "execution_count": 50,
   "id": "8d7dceef",
   "metadata": {},
   "outputs": [
    {
     "data": {
      "image/png": "[encoded data removed]",
      "text/plain": [
       "<Figure size 921.6x633.6 with 1 Axes>"
      ]
     },
     "metadata": {},
     "output_type": "display_data"
    }
   ],
   "source": [
    "group_by_items.plot('category', 'count', kind='bar')\n",
    "plt.xlabel('Category')\n",
    "plt.ylabel('Number of Coupon Used')\n",
    "plt.title('Distribution of Redemption')\n",
    "plt.show()"
   ]
  },
  {
   "cell_type": "markdown",
   "id": "e0f51db7",
   "metadata": {},
   "source": [
    "## Campaign Information "
   ]
  },
  {
   "cell_type": "code",
   "execution_count": 51,
   "id": "fd3bc316",
   "metadata": {},
   "outputs": [
    {
     "data": {
      "text/html": [
       "<div>\n",
       "<style scoped>\n",
       "    .dataframe tbody tr th:only-of-type {\n",
       "        vertical-align: middle;\n",
       "    }\n",
       "\n",
       "    .dataframe tbody tr th {\n",
       "        vertical-align: top;\n",
       "    }\n",
       "\n",
       "    .dataframe thead th {\n",
       "        text-align: right;\n",
       "    }\n",
       "</style>\n",
       "<table border=\"1\" class=\"dataframe\">\n",
       "  <thead>\n",
       "    <tr style=\"text-align: right;\">\n",
       "      <th></th>\n",
       "      <th>campaign_id</th>\n",
       "      <th>campaign_type</th>\n",
       "      <th>start_date</th>\n",
       "      <th>end_date</th>\n",
       "      <th>duration</th>\n",
       "    </tr>\n",
       "  </thead>\n",
       "  <tbody>\n",
       "    <tr>\n",
       "      <th>27</th>\n",
       "      <td>26</td>\n",
       "      <td>X</td>\n",
       "      <td>2012-08-12</td>\n",
       "      <td>2012-09-21</td>\n",
       "      <td>40</td>\n",
       "    </tr>\n",
       "    <tr>\n",
       "      <th>26</th>\n",
       "      <td>27</td>\n",
       "      <td>Y</td>\n",
       "      <td>2012-08-25</td>\n",
       "      <td>2012-10-27</td>\n",
       "      <td>63</td>\n",
       "    </tr>\n",
       "    <tr>\n",
       "      <th>25</th>\n",
       "      <td>28</td>\n",
       "      <td>Y</td>\n",
       "      <td>2012-09-16</td>\n",
       "      <td>2012-11-16</td>\n",
       "      <td>61</td>\n",
       "    </tr>\n",
       "    <tr>\n",
       "      <th>24</th>\n",
       "      <td>29</td>\n",
       "      <td>Y</td>\n",
       "      <td>2012-10-08</td>\n",
       "      <td>2012-11-30</td>\n",
       "      <td>53</td>\n",
       "    </tr>\n",
       "    <tr>\n",
       "      <th>23</th>\n",
       "      <td>30</td>\n",
       "      <td>X</td>\n",
       "      <td>2012-11-19</td>\n",
       "      <td>2013-01-04</td>\n",
       "      <td>46</td>\n",
       "    </tr>\n",
       "  </tbody>\n",
       "</table>\n",
       "</div>"
      ],
      "text/plain": [
       "    campaign_id campaign_type start_date   end_date  duration\n",
       "27           26             X 2012-08-12 2012-09-21        40\n",
       "26           27             Y 2012-08-25 2012-10-27        63\n",
       "25           28             Y 2012-09-16 2012-11-16        61\n",
       "24           29             Y 2012-10-08 2012-11-30        53\n",
       "23           30             X 2012-11-19 2013-01-04        46"
      ]
     },
     "execution_count": 51,
     "metadata": {},
     "output_type": "execute_result"
    }
   ],
   "source": [
    "campaign.head()"
   ]
  },
  {
   "cell_type": "markdown",
   "id": "97f3a379",
   "metadata": {},
   "source": [
    "## Data Transform"
   ]
  },
  {
   "cell_type": "markdown",
   "id": "017eafa2",
   "metadata": {},
   "source": [
    "Transforming Customer Transactions into Customer Buying Habbit"
   ]
  },
  {
   "cell_type": "code",
   "execution_count": 52,
   "id": "e796546c",
   "metadata": {},
   "outputs": [
    {
     "data": {
      "text/html": [
       "<div>\n",
       "<style scoped>\n",
       "    .dataframe tbody tr th:only-of-type {\n",
       "        vertical-align: middle;\n",
       "    }\n",
       "\n",
       "    .dataframe tbody tr th {\n",
       "        vertical-align: top;\n",
       "    }\n",
       "\n",
       "    .dataframe thead th {\n",
       "        text-align: right;\n",
       "    }\n",
       "</style>\n",
       "<table border=\"1\" class=\"dataframe\">\n",
       "  <thead>\n",
       "    <tr style=\"text-align: right;\">\n",
       "      <th></th>\n",
       "      <th>date</th>\n",
       "      <th>customer_id</th>\n",
       "      <th>item_id</th>\n",
       "      <th>quantity</th>\n",
       "      <th>selling_price</th>\n",
       "      <th>other_discount</th>\n",
       "      <th>coupon_discount</th>\n",
       "    </tr>\n",
       "  </thead>\n",
       "  <tbody>\n",
       "    <tr>\n",
       "      <th>605219</th>\n",
       "      <td>2012-10-16</td>\n",
       "      <td>1044</td>\n",
       "      <td>43</td>\n",
       "      <td>8</td>\n",
       "      <td>71.24</td>\n",
       "      <td>-267.86</td>\n",
       "      <td>0.0</td>\n",
       "    </tr>\n",
       "  </tbody>\n",
       "</table>\n",
       "</div>"
      ],
      "text/plain": [
       "              date  customer_id  item_id  quantity  selling_price  \\\n",
       "605219  2012-10-16         1044       43         8          71.24   \n",
       "\n",
       "        other_discount  coupon_discount  \n",
       "605219         -267.86              0.0  "
      ]
     },
     "execution_count": 52,
     "metadata": {},
     "output_type": "execute_result"
    }
   ],
   "source": [
    "cust_tran[cust_tran.item_id == 43]"
   ]
  },
  {
   "cell_type": "code",
   "execution_count": 53,
   "id": "1b57bb82",
   "metadata": {},
   "outputs": [],
   "source": [
    "cust_tran['coupon_used']= cust_tran.coupon_discount.apply(lambda x:1 if x <0 else 0)\n",
    "cust_tran['count']=1\n",
    "cust_tran['total_discount'] = cust_tran['coupon_discount'] + cust_tran['other_discount']"
   ]
  },
  {
   "cell_type": "markdown",
   "id": "ddc15e6f",
   "metadata": {},
   "source": [
    "### Aggregating customer transactions by `items_id` as `item_tran` "
   ]
  },
  {
   "cell_type": "code",
   "execution_count": 54,
   "id": "4f820eb7",
   "metadata": {},
   "outputs": [],
   "source": [
    "item_tran = cust_tran.groupby('item_id').agg({\n",
    "    'customer_id': ['nunique', 'count'],\n",
    "    'quantity': ['mean','sum'],\n",
    "    'count': 'sum',\n",
    "    'coupon_used': 'sum',\n",
    "    'selling_price': 'mean',\n",
    "    'other_discount': ['mean', 'sum'],\n",
    "    'coupon_discount': ['mean', 'sum'],\n",
    "    'total_discount': ['mean','sum']\n",
    "})"
   ]
  },
  {
   "cell_type": "code",
   "execution_count": 55,
   "id": "7f088ca8",
   "metadata": {},
   "outputs": [],
   "source": [
    "item_tran.columns = ['total_unique_cust_it', 'total_cust_it', 'avg_order_qnt_it', 'total_quantity_it', 'count_order_it','sum_cp_used_it', \n",
    "                            'avg_sprice_it', 'avg_odiscount_it', 'sum_oth_discount_it', 'avg_cdiscount_it', 'sum_cp_discount_it', 'avg_tdiscount_it', 'sum_to_discount_it']"
   ]
  },
  {
   "cell_type": "markdown",
   "id": "df0c077e",
   "metadata": {},
   "source": [
    "### Merge the aggregated `item_tran` with item table  "
   ]
  },
  {
   "cell_type": "code",
   "execution_count": 56,
   "id": "37042fca",
   "metadata": {},
   "outputs": [],
   "source": [
    "item_tran = item_tran.merge(items, on = 'item_id', how = 'left')"
   ]
  },
  {
   "cell_type": "code",
   "execution_count": 57,
   "id": "f3180f4e",
   "metadata": {},
   "outputs": [
    {
     "data": {
      "text/html": [
       "<div>\n",
       "<style scoped>\n",
       "    .dataframe tbody tr th:only-of-type {\n",
       "        vertical-align: middle;\n",
       "    }\n",
       "\n",
       "    .dataframe tbody tr th {\n",
       "        vertical-align: top;\n",
       "    }\n",
       "\n",
       "    .dataframe thead th {\n",
       "        text-align: right;\n",
       "    }\n",
       "</style>\n",
       "<table border=\"1\" class=\"dataframe\">\n",
       "  <thead>\n",
       "    <tr style=\"text-align: right;\">\n",
       "      <th></th>\n",
       "      <th>item_id</th>\n",
       "      <th>total_unique_cust_it</th>\n",
       "      <th>total_cust_it</th>\n",
       "      <th>avg_order_qnt_it</th>\n",
       "      <th>total_quantity_it</th>\n",
       "      <th>count_order_it</th>\n",
       "      <th>sum_cp_used_it</th>\n",
       "      <th>avg_sprice_it</th>\n",
       "      <th>avg_odiscount_it</th>\n",
       "      <th>sum_oth_discount_it</th>\n",
       "      <th>avg_cdiscount_it</th>\n",
       "      <th>sum_cp_discount_it</th>\n",
       "      <th>avg_tdiscount_it</th>\n",
       "      <th>sum_to_discount_it</th>\n",
       "      <th>brand</th>\n",
       "      <th>brand_type</th>\n",
       "      <th>category</th>\n",
       "    </tr>\n",
       "  </thead>\n",
       "  <tbody>\n",
       "    <tr>\n",
       "      <th>0</th>\n",
       "      <td>1</td>\n",
       "      <td>2</td>\n",
       "      <td>2</td>\n",
       "      <td>1.0</td>\n",
       "      <td>2</td>\n",
       "      <td>2</td>\n",
       "      <td>0</td>\n",
       "      <td>124.31</td>\n",
       "      <td>0.0</td>\n",
       "      <td>0.0</td>\n",
       "      <td>0.0</td>\n",
       "      <td>0.0</td>\n",
       "      <td>0.0</td>\n",
       "      <td>0.0</td>\n",
       "      <td>1</td>\n",
       "      <td>Established</td>\n",
       "      <td>Grocery</td>\n",
       "    </tr>\n",
       "    <tr>\n",
       "      <th>1</th>\n",
       "      <td>2</td>\n",
       "      <td>1</td>\n",
       "      <td>1</td>\n",
       "      <td>1.0</td>\n",
       "      <td>1</td>\n",
       "      <td>1</td>\n",
       "      <td>0</td>\n",
       "      <td>35.26</td>\n",
       "      <td>0.0</td>\n",
       "      <td>0.0</td>\n",
       "      <td>0.0</td>\n",
       "      <td>0.0</td>\n",
       "      <td>0.0</td>\n",
       "      <td>0.0</td>\n",
       "      <td>1</td>\n",
       "      <td>Established</td>\n",
       "      <td>Miscellaneous</td>\n",
       "    </tr>\n",
       "    <tr>\n",
       "      <th>2</th>\n",
       "      <td>3</td>\n",
       "      <td>1</td>\n",
       "      <td>1</td>\n",
       "      <td>1.0</td>\n",
       "      <td>1</td>\n",
       "      <td>1</td>\n",
       "      <td>0</td>\n",
       "      <td>56.64</td>\n",
       "      <td>0.0</td>\n",
       "      <td>0.0</td>\n",
       "      <td>0.0</td>\n",
       "      <td>0.0</td>\n",
       "      <td>0.0</td>\n",
       "      <td>0.0</td>\n",
       "      <td>56</td>\n",
       "      <td>Local</td>\n",
       "      <td>Bakery</td>\n",
       "    </tr>\n",
       "    <tr>\n",
       "      <th>3</th>\n",
       "      <td>4</td>\n",
       "      <td>1</td>\n",
       "      <td>1</td>\n",
       "      <td>1.0</td>\n",
       "      <td>1</td>\n",
       "      <td>1</td>\n",
       "      <td>0</td>\n",
       "      <td>54.85</td>\n",
       "      <td>0.0</td>\n",
       "      <td>0.0</td>\n",
       "      <td>0.0</td>\n",
       "      <td>0.0</td>\n",
       "      <td>0.0</td>\n",
       "      <td>0.0</td>\n",
       "      <td>56</td>\n",
       "      <td>Local</td>\n",
       "      <td>Grocery</td>\n",
       "    </tr>\n",
       "    <tr>\n",
       "      <th>4</th>\n",
       "      <td>5</td>\n",
       "      <td>1</td>\n",
       "      <td>1</td>\n",
       "      <td>1.0</td>\n",
       "      <td>1</td>\n",
       "      <td>1</td>\n",
       "      <td>0</td>\n",
       "      <td>81.57</td>\n",
       "      <td>0.0</td>\n",
       "      <td>0.0</td>\n",
       "      <td>0.0</td>\n",
       "      <td>0.0</td>\n",
       "      <td>0.0</td>\n",
       "      <td>0.0</td>\n",
       "      <td>56</td>\n",
       "      <td>Local</td>\n",
       "      <td>Grocery</td>\n",
       "    </tr>\n",
       "  </tbody>\n",
       "</table>\n",
       "</div>"
      ],
      "text/plain": [
       "   item_id  total_unique_cust_it  total_cust_it  avg_order_qnt_it  \\\n",
       "0        1                     2              2               1.0   \n",
       "1        2                     1              1               1.0   \n",
       "2        3                     1              1               1.0   \n",
       "3        4                     1              1               1.0   \n",
       "4        5                     1              1               1.0   \n",
       "\n",
       "   total_quantity_it  count_order_it  sum_cp_used_it  avg_sprice_it  \\\n",
       "0                  2               2               0         124.31   \n",
       "1                  1               1               0          35.26   \n",
       "2                  1               1               0          56.64   \n",
       "3                  1               1               0          54.85   \n",
       "4                  1               1               0          81.57   \n",
       "\n",
       "   avg_odiscount_it  sum_oth_discount_it  avg_cdiscount_it  \\\n",
       "0               0.0                  0.0               0.0   \n",
       "1               0.0                  0.0               0.0   \n",
       "2               0.0                  0.0               0.0   \n",
       "3               0.0                  0.0               0.0   \n",
       "4               0.0                  0.0               0.0   \n",
       "\n",
       "   sum_cp_discount_it  avg_tdiscount_it  sum_to_discount_it  brand  \\\n",
       "0                 0.0               0.0                 0.0      1   \n",
       "1                 0.0               0.0                 0.0      1   \n",
       "2                 0.0               0.0                 0.0     56   \n",
       "3                 0.0               0.0                 0.0     56   \n",
       "4                 0.0               0.0                 0.0     56   \n",
       "\n",
       "    brand_type       category  \n",
       "0  Established        Grocery  \n",
       "1  Established  Miscellaneous  \n",
       "2        Local         Bakery  \n",
       "3        Local        Grocery  \n",
       "4        Local        Grocery  "
      ]
     },
     "execution_count": 57,
     "metadata": {},
     "output_type": "execute_result"
    }
   ],
   "source": [
    "item_tran.head()"
   ]
  },
  {
   "cell_type": "code",
   "execution_count": 58,
   "id": "64f38534",
   "metadata": {},
   "outputs": [
    {
     "name": "stdout",
     "output_type": "stream",
     "text": [
      "<class 'pandas.core.frame.DataFrame'>\n",
      "RangeIndex: 92663 entries, 0 to 92662\n",
      "Data columns (total 2 columns):\n",
      " #   Column     Non-Null Count  Dtype\n",
      "---  ------     --------------  -----\n",
      " 0   coupon_id  92663 non-null  int64\n",
      " 1   item_id    92663 non-null  int64\n",
      "dtypes: int64(2)\n",
      "memory usage: 1.4 MB\n"
     ]
    }
   ],
   "source": [
    "coupons.info()"
   ]
  },
  {
   "cell_type": "code",
   "execution_count": 59,
   "id": "5ec63850",
   "metadata": {},
   "outputs": [
    {
     "data": {
      "text/plain": [
       "(1116, 36289)"
      ]
     },
     "execution_count": 59,
     "metadata": {},
     "output_type": "execute_result"
    }
   ],
   "source": [
    "len(coupons.coupon_id.unique()), len(coupons.item_id.unique())"
   ]
  },
  {
   "cell_type": "markdown",
   "id": "ee39b5ab",
   "metadata": {},
   "source": [
    "### Merge coupon with `item_tran` as `cp_item_tram` "
   ]
  },
  {
   "cell_type": "code",
   "execution_count": 60,
   "id": "48affe4e",
   "metadata": {},
   "outputs": [
    {
     "data": {
      "text/html": [
       "<div>\n",
       "<style scoped>\n",
       "    .dataframe tbody tr th:only-of-type {\n",
       "        vertical-align: middle;\n",
       "    }\n",
       "\n",
       "    .dataframe tbody tr th {\n",
       "        vertical-align: top;\n",
       "    }\n",
       "\n",
       "    .dataframe thead th {\n",
       "        text-align: right;\n",
       "    }\n",
       "</style>\n",
       "<table border=\"1\" class=\"dataframe\">\n",
       "  <thead>\n",
       "    <tr style=\"text-align: right;\">\n",
       "      <th></th>\n",
       "      <th>coupon_id</th>\n",
       "      <th>item_id</th>\n",
       "      <th>total_unique_cust_it</th>\n",
       "      <th>total_cust_it</th>\n",
       "      <th>avg_order_qnt_it</th>\n",
       "      <th>total_quantity_it</th>\n",
       "      <th>count_order_it</th>\n",
       "      <th>sum_cp_used_it</th>\n",
       "      <th>avg_sprice_it</th>\n",
       "      <th>avg_odiscount_it</th>\n",
       "      <th>sum_oth_discount_it</th>\n",
       "      <th>avg_cdiscount_it</th>\n",
       "      <th>sum_cp_discount_it</th>\n",
       "      <th>avg_tdiscount_it</th>\n",
       "      <th>sum_to_discount_it</th>\n",
       "      <th>brand</th>\n",
       "      <th>brand_type</th>\n",
       "      <th>category</th>\n",
       "    </tr>\n",
       "  </thead>\n",
       "  <tbody>\n",
       "    <tr>\n",
       "      <th>0</th>\n",
       "      <td>105</td>\n",
       "      <td>37</td>\n",
       "      <td>2.0</td>\n",
       "      <td>7.0</td>\n",
       "      <td>2.285714</td>\n",
       "      <td>16.0</td>\n",
       "      <td>7.0</td>\n",
       "      <td>0.0</td>\n",
       "      <td>113.120000</td>\n",
       "      <td>-17.557143</td>\n",
       "      <td>-122.90</td>\n",
       "      <td>0.0</td>\n",
       "      <td>0.0</td>\n",
       "      <td>-17.557143</td>\n",
       "      <td>-122.90</td>\n",
       "      <td>56.0</td>\n",
       "      <td>Local</td>\n",
       "      <td>Grocery</td>\n",
       "    </tr>\n",
       "    <tr>\n",
       "      <th>1</th>\n",
       "      <td>107</td>\n",
       "      <td>75</td>\n",
       "      <td>4.0</td>\n",
       "      <td>33.0</td>\n",
       "      <td>1.363636</td>\n",
       "      <td>45.0</td>\n",
       "      <td>33.0</td>\n",
       "      <td>0.0</td>\n",
       "      <td>47.787273</td>\n",
       "      <td>-5.159394</td>\n",
       "      <td>-170.26</td>\n",
       "      <td>0.0</td>\n",
       "      <td>0.0</td>\n",
       "      <td>-5.159394</td>\n",
       "      <td>-170.26</td>\n",
       "      <td>56.0</td>\n",
       "      <td>Local</td>\n",
       "      <td>Grocery</td>\n",
       "    </tr>\n",
       "    <tr>\n",
       "      <th>2</th>\n",
       "      <td>494</td>\n",
       "      <td>76</td>\n",
       "      <td>1.0</td>\n",
       "      <td>1.0</td>\n",
       "      <td>1.000000</td>\n",
       "      <td>1.0</td>\n",
       "      <td>1.0</td>\n",
       "      <td>0.0</td>\n",
       "      <td>89.050000</td>\n",
       "      <td>-17.450000</td>\n",
       "      <td>-17.45</td>\n",
       "      <td>0.0</td>\n",
       "      <td>0.0</td>\n",
       "      <td>-17.450000</td>\n",
       "      <td>-17.45</td>\n",
       "      <td>209.0</td>\n",
       "      <td>Established</td>\n",
       "      <td>Grocery</td>\n",
       "    </tr>\n",
       "    <tr>\n",
       "      <th>3</th>\n",
       "      <td>522</td>\n",
       "      <td>77</td>\n",
       "      <td>2.0</td>\n",
       "      <td>2.0</td>\n",
       "      <td>1.000000</td>\n",
       "      <td>2.0</td>\n",
       "      <td>2.0</td>\n",
       "      <td>0.0</td>\n",
       "      <td>70.350000</td>\n",
       "      <td>-16.920000</td>\n",
       "      <td>-33.84</td>\n",
       "      <td>0.0</td>\n",
       "      <td>0.0</td>\n",
       "      <td>-16.920000</td>\n",
       "      <td>-33.84</td>\n",
       "      <td>278.0</td>\n",
       "      <td>Established</td>\n",
       "      <td>Grocery</td>\n",
       "    </tr>\n",
       "    <tr>\n",
       "      <th>4</th>\n",
       "      <td>518</td>\n",
       "      <td>77</td>\n",
       "      <td>2.0</td>\n",
       "      <td>2.0</td>\n",
       "      <td>1.000000</td>\n",
       "      <td>2.0</td>\n",
       "      <td>2.0</td>\n",
       "      <td>0.0</td>\n",
       "      <td>70.350000</td>\n",
       "      <td>-16.920000</td>\n",
       "      <td>-33.84</td>\n",
       "      <td>0.0</td>\n",
       "      <td>0.0</td>\n",
       "      <td>-16.920000</td>\n",
       "      <td>-33.84</td>\n",
       "      <td>278.0</td>\n",
       "      <td>Established</td>\n",
       "      <td>Grocery</td>\n",
       "    </tr>\n",
       "    <tr>\n",
       "      <th>...</th>\n",
       "      <td>...</td>\n",
       "      <td>...</td>\n",
       "      <td>...</td>\n",
       "      <td>...</td>\n",
       "      <td>...</td>\n",
       "      <td>...</td>\n",
       "      <td>...</td>\n",
       "      <td>...</td>\n",
       "      <td>...</td>\n",
       "      <td>...</td>\n",
       "      <td>...</td>\n",
       "      <td>...</td>\n",
       "      <td>...</td>\n",
       "      <td>...</td>\n",
       "      <td>...</td>\n",
       "      <td>...</td>\n",
       "      <td>...</td>\n",
       "      <td>...</td>\n",
       "    </tr>\n",
       "    <tr>\n",
       "      <th>92658</th>\n",
       "      <td>32</td>\n",
       "      <td>69268</td>\n",
       "      <td>2.0</td>\n",
       "      <td>2.0</td>\n",
       "      <td>1.000000</td>\n",
       "      <td>2.0</td>\n",
       "      <td>2.0</td>\n",
       "      <td>0.0</td>\n",
       "      <td>320.220000</td>\n",
       "      <td>-35.620000</td>\n",
       "      <td>-71.24</td>\n",
       "      <td>0.0</td>\n",
       "      <td>0.0</td>\n",
       "      <td>-35.620000</td>\n",
       "      <td>-71.24</td>\n",
       "      <td>686.0</td>\n",
       "      <td>Established</td>\n",
       "      <td>Pharmaceutical</td>\n",
       "    </tr>\n",
       "    <tr>\n",
       "      <th>92659</th>\n",
       "      <td>32</td>\n",
       "      <td>68502</td>\n",
       "      <td>1.0</td>\n",
       "      <td>1.0</td>\n",
       "      <td>1.000000</td>\n",
       "      <td>1.0</td>\n",
       "      <td>1.0</td>\n",
       "      <td>0.0</td>\n",
       "      <td>355.840000</td>\n",
       "      <td>0.000000</td>\n",
       "      <td>0.00</td>\n",
       "      <td>0.0</td>\n",
       "      <td>0.0</td>\n",
       "      <td>0.000000</td>\n",
       "      <td>0.00</td>\n",
       "      <td>1009.0</td>\n",
       "      <td>Established</td>\n",
       "      <td>Pharmaceutical</td>\n",
       "    </tr>\n",
       "    <tr>\n",
       "      <th>92660</th>\n",
       "      <td>32</td>\n",
       "      <td>68612</td>\n",
       "      <td>1.0</td>\n",
       "      <td>1.0</td>\n",
       "      <td>1.000000</td>\n",
       "      <td>1.0</td>\n",
       "      <td>1.0</td>\n",
       "      <td>0.0</td>\n",
       "      <td>169.200000</td>\n",
       "      <td>0.000000</td>\n",
       "      <td>0.00</td>\n",
       "      <td>0.0</td>\n",
       "      <td>0.0</td>\n",
       "      <td>0.000000</td>\n",
       "      <td>0.00</td>\n",
       "      <td>1104.0</td>\n",
       "      <td>Established</td>\n",
       "      <td>Pharmaceutical</td>\n",
       "    </tr>\n",
       "    <tr>\n",
       "      <th>92661</th>\n",
       "      <td>33</td>\n",
       "      <td>71390</td>\n",
       "      <td>2.0</td>\n",
       "      <td>2.0</td>\n",
       "      <td>1.000000</td>\n",
       "      <td>2.0</td>\n",
       "      <td>2.0</td>\n",
       "      <td>0.0</td>\n",
       "      <td>255.575000</td>\n",
       "      <td>0.000000</td>\n",
       "      <td>0.00</td>\n",
       "      <td>0.0</td>\n",
       "      <td>0.0</td>\n",
       "      <td>0.000000</td>\n",
       "      <td>0.00</td>\n",
       "      <td>4196.0</td>\n",
       "      <td>Established</td>\n",
       "      <td>Meat</td>\n",
       "    </tr>\n",
       "    <tr>\n",
       "      <th>92662</th>\n",
       "      <td>31</td>\n",
       "      <td>70030</td>\n",
       "      <td>9.0</td>\n",
       "      <td>9.0</td>\n",
       "      <td>1.000000</td>\n",
       "      <td>9.0</td>\n",
       "      <td>9.0</td>\n",
       "      <td>0.0</td>\n",
       "      <td>209.482222</td>\n",
       "      <td>-39.497778</td>\n",
       "      <td>-355.48</td>\n",
       "      <td>0.0</td>\n",
       "      <td>0.0</td>\n",
       "      <td>-39.497778</td>\n",
       "      <td>-355.48</td>\n",
       "      <td>4477.0</td>\n",
       "      <td>Established</td>\n",
       "      <td>Grocery</td>\n",
       "    </tr>\n",
       "  </tbody>\n",
       "</table>\n",
       "<p>92663 rows × 18 columns</p>\n",
       "</div>"
      ],
      "text/plain": [
       "       coupon_id  item_id  total_unique_cust_it  total_cust_it  \\\n",
       "0            105       37                   2.0            7.0   \n",
       "1            107       75                   4.0           33.0   \n",
       "2            494       76                   1.0            1.0   \n",
       "3            522       77                   2.0            2.0   \n",
       "4            518       77                   2.0            2.0   \n",
       "...          ...      ...                   ...            ...   \n",
       "92658         32    69268                   2.0            2.0   \n",
       "92659         32    68502                   1.0            1.0   \n",
       "92660         32    68612                   1.0            1.0   \n",
       "92661         33    71390                   2.0            2.0   \n",
       "92662         31    70030                   9.0            9.0   \n",
       "\n",
       "       avg_order_qnt_it  total_quantity_it  count_order_it  sum_cp_used_it  \\\n",
       "0              2.285714               16.0             7.0             0.0   \n",
       "1              1.363636               45.0            33.0             0.0   \n",
       "2              1.000000                1.0             1.0             0.0   \n",
       "3              1.000000                2.0             2.0             0.0   \n",
       "4              1.000000                2.0             2.0             0.0   \n",
       "...                 ...                ...             ...             ...   \n",
       "92658          1.000000                2.0             2.0             0.0   \n",
       "92659          1.000000                1.0             1.0             0.0   \n",
       "92660          1.000000                1.0             1.0             0.0   \n",
       "92661          1.000000                2.0             2.0             0.0   \n",
       "92662          1.000000                9.0             9.0             0.0   \n",
       "\n",
       "       avg_sprice_it  avg_odiscount_it  sum_oth_discount_it  avg_cdiscount_it  \\\n",
       "0         113.120000        -17.557143              -122.90               0.0   \n",
       "1          47.787273         -5.159394              -170.26               0.0   \n",
       "2          89.050000        -17.450000               -17.45               0.0   \n",
       "3          70.350000        -16.920000               -33.84               0.0   \n",
       "4          70.350000        -16.920000               -33.84               0.0   \n",
       "...              ...               ...                  ...               ...   \n",
       "92658     320.220000        -35.620000               -71.24               0.0   \n",
       "92659     355.840000          0.000000                 0.00               0.0   \n",
       "92660     169.200000          0.000000                 0.00               0.0   \n",
       "92661     255.575000          0.000000                 0.00               0.0   \n",
       "92662     209.482222        -39.497778              -355.48               0.0   \n",
       "\n",
       "       sum_cp_discount_it  avg_tdiscount_it  sum_to_discount_it   brand  \\\n",
       "0                     0.0        -17.557143             -122.90    56.0   \n",
       "1                     0.0         -5.159394             -170.26    56.0   \n",
       "2                     0.0        -17.450000              -17.45   209.0   \n",
       "3                     0.0        -16.920000              -33.84   278.0   \n",
       "4                     0.0        -16.920000              -33.84   278.0   \n",
       "...                   ...               ...                 ...     ...   \n",
       "92658                 0.0        -35.620000              -71.24   686.0   \n",
       "92659                 0.0          0.000000                0.00  1009.0   \n",
       "92660                 0.0          0.000000                0.00  1104.0   \n",
       "92661                 0.0          0.000000                0.00  4196.0   \n",
       "92662                 0.0        -39.497778             -355.48  4477.0   \n",
       "\n",
       "        brand_type        category  \n",
       "0            Local         Grocery  \n",
       "1            Local         Grocery  \n",
       "2      Established         Grocery  \n",
       "3      Established         Grocery  \n",
       "4      Established         Grocery  \n",
       "...            ...             ...  \n",
       "92658  Established  Pharmaceutical  \n",
       "92659  Established  Pharmaceutical  \n",
       "92660  Established  Pharmaceutical  \n",
       "92661  Established            Meat  \n",
       "92662  Established         Grocery  \n",
       "\n",
       "[92663 rows x 18 columns]"
      ]
     },
     "execution_count": 60,
     "metadata": {},
     "output_type": "execute_result"
    }
   ],
   "source": [
    "cp_item_tran = pd.merge(coupons, item_tran, on = 'item_id', how = 'left' )\n",
    "cp_item_tran"
   ]
  },
  {
   "cell_type": "markdown",
   "id": "87d6883d",
   "metadata": {},
   "source": [
    "Above we see that one coupon is applied to multiple item."
   ]
  },
  {
   "cell_type": "code",
   "execution_count": 61,
   "id": "c3032e62",
   "metadata": {},
   "outputs": [
    {
     "name": "stdout",
     "output_type": "stream",
     "text": [
      "<class 'pandas.core.frame.DataFrame'>\n",
      "Int64Index: 92663 entries, 0 to 92662\n",
      "Data columns (total 18 columns):\n",
      " #   Column                Non-Null Count  Dtype  \n",
      "---  ------                --------------  -----  \n",
      " 0   coupon_id             92663 non-null  int64  \n",
      " 1   item_id               92663 non-null  int64  \n",
      " 2   total_unique_cust_it  92655 non-null  float64\n",
      " 3   total_cust_it         92655 non-null  float64\n",
      " 4   avg_order_qnt_it      92655 non-null  float64\n",
      " 5   total_quantity_it     92655 non-null  float64\n",
      " 6   count_order_it        92655 non-null  float64\n",
      " 7   sum_cp_used_it        92655 non-null  float64\n",
      " 8   avg_sprice_it         92655 non-null  float64\n",
      " 9   avg_odiscount_it      92655 non-null  float64\n",
      " 10  sum_oth_discount_it   92655 non-null  float64\n",
      " 11  avg_cdiscount_it      92655 non-null  float64\n",
      " 12  sum_cp_discount_it    92655 non-null  float64\n",
      " 13  avg_tdiscount_it      92655 non-null  float64\n",
      " 14  sum_to_discount_it    92655 non-null  float64\n",
      " 15  brand                 92655 non-null  float64\n",
      " 16  brand_type            92655 non-null  object \n",
      " 17  category              92655 non-null  object \n",
      "dtypes: float64(14), int64(2), object(2)\n",
      "memory usage: 13.4+ MB\n"
     ]
    }
   ],
   "source": [
    "cp_item_tran.info()"
   ]
  },
  {
   "cell_type": "markdown",
   "id": "cfc8f883",
   "metadata": {},
   "source": [
    "### Aggregating `cp_item_tran` on `coupon_id` "
   ]
  },
  {
   "cell_type": "markdown",
   "id": "beb25c3b",
   "metadata": {},
   "source": [
    "### Removing columns of `cp_item_tran`"
   ]
  },
  {
   "cell_type": "markdown",
   "id": "b4d419af",
   "metadata": {},
   "source": [
    "Since each aggregated features will be aggregated again by coupon_id, the name at the end _it indicating by item will be removed."
   ]
  },
  {
   "cell_type": "code",
   "execution_count": 62,
   "id": "36f75f01",
   "metadata": {},
   "outputs": [],
   "source": [
    "cols = list(cp_item_tran.columns)\n",
    "for i, col in enumerate(cols):\n",
    "    if col[-3:] =='_it':\n",
    "        cols[i] = col[:-3]\n",
    "\n",
    "cp_item_tran.columns = pd.Index(cols)"
   ]
  },
  {
   "cell_type": "code",
   "execution_count": 63,
   "id": "76be7c80",
   "metadata": {},
   "outputs": [
    {
     "data": {
      "text/html": [
       "<div>\n",
       "<style scoped>\n",
       "    .dataframe tbody tr th:only-of-type {\n",
       "        vertical-align: middle;\n",
       "    }\n",
       "\n",
       "    .dataframe tbody tr th {\n",
       "        vertical-align: top;\n",
       "    }\n",
       "\n",
       "    .dataframe thead th {\n",
       "        text-align: right;\n",
       "    }\n",
       "</style>\n",
       "<table border=\"1\" class=\"dataframe\">\n",
       "  <thead>\n",
       "    <tr style=\"text-align: right;\">\n",
       "      <th></th>\n",
       "      <th>coupon_id</th>\n",
       "      <th>item_id</th>\n",
       "      <th>total_unique_cust</th>\n",
       "      <th>total_cust</th>\n",
       "      <th>avg_order_qnt</th>\n",
       "      <th>total_quantity</th>\n",
       "      <th>count_order</th>\n",
       "      <th>sum_cp_used</th>\n",
       "      <th>avg_sprice</th>\n",
       "      <th>avg_odiscount</th>\n",
       "      <th>sum_oth_discount</th>\n",
       "      <th>avg_cdiscount</th>\n",
       "      <th>sum_cp_discount</th>\n",
       "      <th>avg_tdiscount</th>\n",
       "      <th>sum_to_discount</th>\n",
       "      <th>brand</th>\n",
       "      <th>brand_type</th>\n",
       "      <th>category</th>\n",
       "    </tr>\n",
       "  </thead>\n",
       "  <tbody>\n",
       "    <tr>\n",
       "      <th>0</th>\n",
       "      <td>105</td>\n",
       "      <td>37</td>\n",
       "      <td>2.0</td>\n",
       "      <td>7.0</td>\n",
       "      <td>2.285714</td>\n",
       "      <td>16.0</td>\n",
       "      <td>7.0</td>\n",
       "      <td>0.0</td>\n",
       "      <td>113.120000</td>\n",
       "      <td>-17.557143</td>\n",
       "      <td>-122.90</td>\n",
       "      <td>0.0</td>\n",
       "      <td>0.0</td>\n",
       "      <td>-17.557143</td>\n",
       "      <td>-122.90</td>\n",
       "      <td>56.0</td>\n",
       "      <td>Local</td>\n",
       "      <td>Grocery</td>\n",
       "    </tr>\n",
       "    <tr>\n",
       "      <th>1</th>\n",
       "      <td>107</td>\n",
       "      <td>75</td>\n",
       "      <td>4.0</td>\n",
       "      <td>33.0</td>\n",
       "      <td>1.363636</td>\n",
       "      <td>45.0</td>\n",
       "      <td>33.0</td>\n",
       "      <td>0.0</td>\n",
       "      <td>47.787273</td>\n",
       "      <td>-5.159394</td>\n",
       "      <td>-170.26</td>\n",
       "      <td>0.0</td>\n",
       "      <td>0.0</td>\n",
       "      <td>-5.159394</td>\n",
       "      <td>-170.26</td>\n",
       "      <td>56.0</td>\n",
       "      <td>Local</td>\n",
       "      <td>Grocery</td>\n",
       "    </tr>\n",
       "    <tr>\n",
       "      <th>2</th>\n",
       "      <td>494</td>\n",
       "      <td>76</td>\n",
       "      <td>1.0</td>\n",
       "      <td>1.0</td>\n",
       "      <td>1.000000</td>\n",
       "      <td>1.0</td>\n",
       "      <td>1.0</td>\n",
       "      <td>0.0</td>\n",
       "      <td>89.050000</td>\n",
       "      <td>-17.450000</td>\n",
       "      <td>-17.45</td>\n",
       "      <td>0.0</td>\n",
       "      <td>0.0</td>\n",
       "      <td>-17.450000</td>\n",
       "      <td>-17.45</td>\n",
       "      <td>209.0</td>\n",
       "      <td>Established</td>\n",
       "      <td>Grocery</td>\n",
       "    </tr>\n",
       "    <tr>\n",
       "      <th>3</th>\n",
       "      <td>522</td>\n",
       "      <td>77</td>\n",
       "      <td>2.0</td>\n",
       "      <td>2.0</td>\n",
       "      <td>1.000000</td>\n",
       "      <td>2.0</td>\n",
       "      <td>2.0</td>\n",
       "      <td>0.0</td>\n",
       "      <td>70.350000</td>\n",
       "      <td>-16.920000</td>\n",
       "      <td>-33.84</td>\n",
       "      <td>0.0</td>\n",
       "      <td>0.0</td>\n",
       "      <td>-16.920000</td>\n",
       "      <td>-33.84</td>\n",
       "      <td>278.0</td>\n",
       "      <td>Established</td>\n",
       "      <td>Grocery</td>\n",
       "    </tr>\n",
       "    <tr>\n",
       "      <th>4</th>\n",
       "      <td>518</td>\n",
       "      <td>77</td>\n",
       "      <td>2.0</td>\n",
       "      <td>2.0</td>\n",
       "      <td>1.000000</td>\n",
       "      <td>2.0</td>\n",
       "      <td>2.0</td>\n",
       "      <td>0.0</td>\n",
       "      <td>70.350000</td>\n",
       "      <td>-16.920000</td>\n",
       "      <td>-33.84</td>\n",
       "      <td>0.0</td>\n",
       "      <td>0.0</td>\n",
       "      <td>-16.920000</td>\n",
       "      <td>-33.84</td>\n",
       "      <td>278.0</td>\n",
       "      <td>Established</td>\n",
       "      <td>Grocery</td>\n",
       "    </tr>\n",
       "  </tbody>\n",
       "</table>\n",
       "</div>"
      ],
      "text/plain": [
       "   coupon_id  item_id  total_unique_cust  total_cust  avg_order_qnt  \\\n",
       "0        105       37                2.0         7.0       2.285714   \n",
       "1        107       75                4.0        33.0       1.363636   \n",
       "2        494       76                1.0         1.0       1.000000   \n",
       "3        522       77                2.0         2.0       1.000000   \n",
       "4        518       77                2.0         2.0       1.000000   \n",
       "\n",
       "   total_quantity  count_order  sum_cp_used  avg_sprice  avg_odiscount  \\\n",
       "0            16.0          7.0          0.0  113.120000     -17.557143   \n",
       "1            45.0         33.0          0.0   47.787273      -5.159394   \n",
       "2             1.0          1.0          0.0   89.050000     -17.450000   \n",
       "3             2.0          2.0          0.0   70.350000     -16.920000   \n",
       "4             2.0          2.0          0.0   70.350000     -16.920000   \n",
       "\n",
       "   sum_oth_discount  avg_cdiscount  sum_cp_discount  avg_tdiscount  \\\n",
       "0           -122.90            0.0              0.0     -17.557143   \n",
       "1           -170.26            0.0              0.0      -5.159394   \n",
       "2            -17.45            0.0              0.0     -17.450000   \n",
       "3            -33.84            0.0              0.0     -16.920000   \n",
       "4            -33.84            0.0              0.0     -16.920000   \n",
       "\n",
       "   sum_to_discount  brand   brand_type category  \n",
       "0          -122.90   56.0        Local  Grocery  \n",
       "1          -170.26   56.0        Local  Grocery  \n",
       "2           -17.45  209.0  Established  Grocery  \n",
       "3           -33.84  278.0  Established  Grocery  \n",
       "4           -33.84  278.0  Established  Grocery  "
      ]
     },
     "execution_count": 63,
     "metadata": {},
     "output_type": "execute_result"
    }
   ],
   "source": [
    "cp_item_tran.head()"
   ]
  },
  {
   "cell_type": "code",
   "execution_count": 64,
   "id": "4c276fbc",
   "metadata": {},
   "outputs": [],
   "source": [
    "cp_item_tran1 = cp_item_tran.groupby('coupon_id').agg({\n",
    "                                    'item_id': 'nunique',\n",
    "                                    'brand': 'nunique',\n",
    "                                    'brand_type': lambda x: x.unique()[0] if (len(x.unique())==1) else 'Both',\n",
    "                                    'category': lambda x: x.mode()[0],\n",
    "                                    'count_order': 'sum',\n",
    "                                    'sum_cp_used': 'sum',\n",
    "                                    'total_cust': 'sum',\n",
    "                                    'avg_sprice':'mean',\n",
    "                                    'avg_odiscount': 'mean',\n",
    "                                    'avg_cdiscount': 'mean',\n",
    "                                    'avg_tdiscount': 'mean',\n",
    "                                    'sum_cp_discount': 'sum',\n",
    "                                    'sum_oth_discount': 'sum',\n",
    "                                    'total_quantity' : 'sum',\n",
    "                                    'sum_to_discount' : 'sum',\n",
    "                        })\n"
   ]
  },
  {
   "cell_type": "code",
   "execution_count": 65,
   "id": "c3901fb8",
   "metadata": {},
   "outputs": [],
   "source": [
    "new_cols= {\n",
    "                   'item_id': 'ct_items',#item count\n",
    "                   'brand': 'ct_brands',\n",
    "                   'category':'mode_cat'\n",
    "    \n",
    "                                  }\n",
    "cp_item_tran1.rename(columns = new_cols, inplace = True)"
   ]
  },
  {
   "cell_type": "code",
   "execution_count": 66,
   "id": "e7d79899",
   "metadata": {},
   "outputs": [],
   "source": [
    "cp_item_tran1['ct_cat']= cp_item_tran.groupby('coupon_id').agg({\n",
    "                                         'category': 'nunique'})\n",
    "                                        "
   ]
  },
  {
   "cell_type": "code",
   "execution_count": 67,
   "id": "17bd44ae",
   "metadata": {},
   "outputs": [
    {
     "data": {
      "text/html": [
       "<div>\n",
       "<style scoped>\n",
       "    .dataframe tbody tr th:only-of-type {\n",
       "        vertical-align: middle;\n",
       "    }\n",
       "\n",
       "    .dataframe tbody tr th {\n",
       "        vertical-align: top;\n",
       "    }\n",
       "\n",
       "    .dataframe thead th {\n",
       "        text-align: right;\n",
       "    }\n",
       "</style>\n",
       "<table border=\"1\" class=\"dataframe\">\n",
       "  <thead>\n",
       "    <tr style=\"text-align: right;\">\n",
       "      <th></th>\n",
       "      <th>id</th>\n",
       "      <th>campaign_id</th>\n",
       "      <th>coupon_id</th>\n",
       "      <th>customer_id</th>\n",
       "      <th>redemption_status</th>\n",
       "      <th>ct_items</th>\n",
       "      <th>ct_brands</th>\n",
       "      <th>brand_type</th>\n",
       "      <th>mode_cat</th>\n",
       "      <th>count_order</th>\n",
       "      <th>...</th>\n",
       "      <th>total_cust</th>\n",
       "      <th>avg_sprice</th>\n",
       "      <th>avg_odiscount</th>\n",
       "      <th>avg_cdiscount</th>\n",
       "      <th>avg_tdiscount</th>\n",
       "      <th>sum_cp_discount</th>\n",
       "      <th>sum_oth_discount</th>\n",
       "      <th>total_quantity</th>\n",
       "      <th>sum_to_discount</th>\n",
       "      <th>ct_cat</th>\n",
       "    </tr>\n",
       "  </thead>\n",
       "  <tbody>\n",
       "    <tr>\n",
       "      <th>0</th>\n",
       "      <td>117578</td>\n",
       "      <td>8</td>\n",
       "      <td>725</td>\n",
       "      <td>45</td>\n",
       "      <td>0</td>\n",
       "      <td>61</td>\n",
       "      <td>1</td>\n",
       "      <td>Established</td>\n",
       "      <td>Grocery</td>\n",
       "      <td>2242.0</td>\n",
       "      <td>...</td>\n",
       "      <td>2242.0</td>\n",
       "      <td>64.750605</td>\n",
       "      <td>-17.981800</td>\n",
       "      <td>-0.196600</td>\n",
       "      <td>-18.178400</td>\n",
       "      <td>-988.37</td>\n",
       "      <td>-28479.89</td>\n",
       "      <td>3091.0</td>\n",
       "      <td>-29468.26</td>\n",
       "      <td>1</td>\n",
       "    </tr>\n",
       "    <tr>\n",
       "      <th>1</th>\n",
       "      <td>123337</td>\n",
       "      <td>29</td>\n",
       "      <td>265</td>\n",
       "      <td>334</td>\n",
       "      <td>0</td>\n",
       "      <td>6</td>\n",
       "      <td>1</td>\n",
       "      <td>Established</td>\n",
       "      <td>Pharmaceutical</td>\n",
       "      <td>116.0</td>\n",
       "      <td>...</td>\n",
       "      <td>116.0</td>\n",
       "      <td>292.564216</td>\n",
       "      <td>-5.938643</td>\n",
       "      <td>0.000000</td>\n",
       "      <td>-5.938643</td>\n",
       "      <td>0.00</td>\n",
       "      <td>-1086.46</td>\n",
       "      <td>119.0</td>\n",
       "      <td>-1086.46</td>\n",
       "      <td>1</td>\n",
       "    </tr>\n",
       "    <tr>\n",
       "      <th>2</th>\n",
       "      <td>46642</td>\n",
       "      <td>13</td>\n",
       "      <td>281</td>\n",
       "      <td>408</td>\n",
       "      <td>0</td>\n",
       "      <td>2</td>\n",
       "      <td>1</td>\n",
       "      <td>Established</td>\n",
       "      <td>Pharmaceutical</td>\n",
       "      <td>3.0</td>\n",
       "      <td>...</td>\n",
       "      <td>3.0</td>\n",
       "      <td>213.360000</td>\n",
       "      <td>0.000000</td>\n",
       "      <td>0.000000</td>\n",
       "      <td>0.000000</td>\n",
       "      <td>0.00</td>\n",
       "      <td>0.00</td>\n",
       "      <td>3.0</td>\n",
       "      <td>0.00</td>\n",
       "      <td>1</td>\n",
       "    </tr>\n",
       "    <tr>\n",
       "      <th>3</th>\n",
       "      <td>10510</td>\n",
       "      <td>13</td>\n",
       "      <td>625</td>\n",
       "      <td>577</td>\n",
       "      <td>0</td>\n",
       "      <td>92</td>\n",
       "      <td>1</td>\n",
       "      <td>Established</td>\n",
       "      <td>Grocery</td>\n",
       "      <td>2687.0</td>\n",
       "      <td>...</td>\n",
       "      <td>2687.0</td>\n",
       "      <td>96.963596</td>\n",
       "      <td>-29.136094</td>\n",
       "      <td>-0.880540</td>\n",
       "      <td>-30.016634</td>\n",
       "      <td>-3661.71</td>\n",
       "      <td>-73457.74</td>\n",
       "      <td>3004.0</td>\n",
       "      <td>-77119.45</td>\n",
       "      <td>1</td>\n",
       "    </tr>\n",
       "    <tr>\n",
       "      <th>4</th>\n",
       "      <td>14347</td>\n",
       "      <td>13</td>\n",
       "      <td>480</td>\n",
       "      <td>414</td>\n",
       "      <td>0</td>\n",
       "      <td>1</td>\n",
       "      <td>1</td>\n",
       "      <td>Established</td>\n",
       "      <td>Grocery</td>\n",
       "      <td>4.0</td>\n",
       "      <td>...</td>\n",
       "      <td>4.0</td>\n",
       "      <td>151.025000</td>\n",
       "      <td>-26.715000</td>\n",
       "      <td>-35.620000</td>\n",
       "      <td>-62.335000</td>\n",
       "      <td>-142.48</td>\n",
       "      <td>-106.86</td>\n",
       "      <td>4.0</td>\n",
       "      <td>-249.34</td>\n",
       "      <td>1</td>\n",
       "    </tr>\n",
       "    <tr>\n",
       "      <th>...</th>\n",
       "      <td>...</td>\n",
       "      <td>...</td>\n",
       "      <td>...</td>\n",
       "      <td>...</td>\n",
       "      <td>...</td>\n",
       "      <td>...</td>\n",
       "      <td>...</td>\n",
       "      <td>...</td>\n",
       "      <td>...</td>\n",
       "      <td>...</td>\n",
       "      <td>...</td>\n",
       "      <td>...</td>\n",
       "      <td>...</td>\n",
       "      <td>...</td>\n",
       "      <td>...</td>\n",
       "      <td>...</td>\n",
       "      <td>...</td>\n",
       "      <td>...</td>\n",
       "      <td>...</td>\n",
       "      <td>...</td>\n",
       "      <td>...</td>\n",
       "    </tr>\n",
       "    <tr>\n",
       "      <th>54853</th>\n",
       "      <td>127422</td>\n",
       "      <td>9</td>\n",
       "      <td>18</td>\n",
       "      <td>690</td>\n",
       "      <td>0</td>\n",
       "      <td>27</td>\n",
       "      <td>2</td>\n",
       "      <td>Established</td>\n",
       "      <td>Grocery</td>\n",
       "      <td>848.0</td>\n",
       "      <td>...</td>\n",
       "      <td>848.0</td>\n",
       "      <td>107.053980</td>\n",
       "      <td>-16.775949</td>\n",
       "      <td>-0.308263</td>\n",
       "      <td>-17.084212</td>\n",
       "      <td>-482.28</td>\n",
       "      <td>-13456.80</td>\n",
       "      <td>924.0</td>\n",
       "      <td>-13939.08</td>\n",
       "      <td>1</td>\n",
       "    </tr>\n",
       "    <tr>\n",
       "      <th>54854</th>\n",
       "      <td>123176</td>\n",
       "      <td>13</td>\n",
       "      <td>561</td>\n",
       "      <td>705</td>\n",
       "      <td>0</td>\n",
       "      <td>2</td>\n",
       "      <td>1</td>\n",
       "      <td>Established</td>\n",
       "      <td>Pharmaceutical</td>\n",
       "      <td>6.0</td>\n",
       "      <td>...</td>\n",
       "      <td>6.0</td>\n",
       "      <td>1068.240000</td>\n",
       "      <td>-17.810000</td>\n",
       "      <td>0.000000</td>\n",
       "      <td>-17.810000</td>\n",
       "      <td>0.00</td>\n",
       "      <td>-178.10</td>\n",
       "      <td>6.0</td>\n",
       "      <td>-178.10</td>\n",
       "      <td>1</td>\n",
       "    </tr>\n",
       "    <tr>\n",
       "      <th>54855</th>\n",
       "      <td>59852</td>\n",
       "      <td>13</td>\n",
       "      <td>277</td>\n",
       "      <td>103</td>\n",
       "      <td>0</td>\n",
       "      <td>27</td>\n",
       "      <td>2</td>\n",
       "      <td>Established</td>\n",
       "      <td>Pharmaceutical</td>\n",
       "      <td>279.0</td>\n",
       "      <td>...</td>\n",
       "      <td>279.0</td>\n",
       "      <td>133.121715</td>\n",
       "      <td>-15.933779</td>\n",
       "      <td>0.000000</td>\n",
       "      <td>-15.933779</td>\n",
       "      <td>0.00</td>\n",
       "      <td>-4160.30</td>\n",
       "      <td>317.0</td>\n",
       "      <td>-4160.30</td>\n",
       "      <td>1</td>\n",
       "    </tr>\n",
       "    <tr>\n",
       "      <th>54856</th>\n",
       "      <td>65978</td>\n",
       "      <td>8</td>\n",
       "      <td>916</td>\n",
       "      <td>184</td>\n",
       "      <td>0</td>\n",
       "      <td>14</td>\n",
       "      <td>1</td>\n",
       "      <td>Established</td>\n",
       "      <td>Grocery</td>\n",
       "      <td>241.0</td>\n",
       "      <td>...</td>\n",
       "      <td>241.0</td>\n",
       "      <td>107.861133</td>\n",
       "      <td>-4.159547</td>\n",
       "      <td>-1.389180</td>\n",
       "      <td>-5.548727</td>\n",
       "      <td>-366.88</td>\n",
       "      <td>-1608.64</td>\n",
       "      <td>246.0</td>\n",
       "      <td>-1975.52</td>\n",
       "      <td>1</td>\n",
       "    </tr>\n",
       "    <tr>\n",
       "      <th>54857</th>\n",
       "      <td>32455</td>\n",
       "      <td>13</td>\n",
       "      <td>714</td>\n",
       "      <td>1339</td>\n",
       "      <td>0</td>\n",
       "      <td>21</td>\n",
       "      <td>1</td>\n",
       "      <td>Established</td>\n",
       "      <td>Pharmaceutical</td>\n",
       "      <td>411.0</td>\n",
       "      <td>...</td>\n",
       "      <td>411.0</td>\n",
       "      <td>147.848391</td>\n",
       "      <td>-3.959793</td>\n",
       "      <td>-0.615829</td>\n",
       "      <td>-4.575622</td>\n",
       "      <td>-279.61</td>\n",
       "      <td>-1432.60</td>\n",
       "      <td>447.0</td>\n",
       "      <td>-1712.21</td>\n",
       "      <td>1</td>\n",
       "    </tr>\n",
       "  </tbody>\n",
       "</table>\n",
       "<p>54858 rows × 21 columns</p>\n",
       "</div>"
      ],
      "text/plain": [
       "           id  campaign_id  coupon_id  customer_id  redemption_status  \\\n",
       "0      117578            8        725           45                  0   \n",
       "1      123337           29        265          334                  0   \n",
       "2       46642           13        281          408                  0   \n",
       "3       10510           13        625          577                  0   \n",
       "4       14347           13        480          414                  0   \n",
       "...       ...          ...        ...          ...                ...   \n",
       "54853  127422            9         18          690                  0   \n",
       "54854  123176           13        561          705                  0   \n",
       "54855   59852           13        277          103                  0   \n",
       "54856   65978            8        916          184                  0   \n",
       "54857   32455           13        714         1339                  0   \n",
       "\n",
       "       ct_items  ct_brands   brand_type        mode_cat  count_order  ...  \\\n",
       "0            61          1  Established         Grocery       2242.0  ...   \n",
       "1             6          1  Established  Pharmaceutical        116.0  ...   \n",
       "2             2          1  Established  Pharmaceutical          3.0  ...   \n",
       "3            92          1  Established         Grocery       2687.0  ...   \n",
       "4             1          1  Established         Grocery          4.0  ...   \n",
       "...         ...        ...          ...             ...          ...  ...   \n",
       "54853        27          2  Established         Grocery        848.0  ...   \n",
       "54854         2          1  Established  Pharmaceutical          6.0  ...   \n",
       "54855        27          2  Established  Pharmaceutical        279.0  ...   \n",
       "54856        14          1  Established         Grocery        241.0  ...   \n",
       "54857        21          1  Established  Pharmaceutical        411.0  ...   \n",
       "\n",
       "       total_cust   avg_sprice  avg_odiscount  avg_cdiscount  avg_tdiscount  \\\n",
       "0          2242.0    64.750605     -17.981800      -0.196600     -18.178400   \n",
       "1           116.0   292.564216      -5.938643       0.000000      -5.938643   \n",
       "2             3.0   213.360000       0.000000       0.000000       0.000000   \n",
       "3          2687.0    96.963596     -29.136094      -0.880540     -30.016634   \n",
       "4             4.0   151.025000     -26.715000     -35.620000     -62.335000   \n",
       "...           ...          ...            ...            ...            ...   \n",
       "54853       848.0   107.053980     -16.775949      -0.308263     -17.084212   \n",
       "54854         6.0  1068.240000     -17.810000       0.000000     -17.810000   \n",
       "54855       279.0   133.121715     -15.933779       0.000000     -15.933779   \n",
       "54856       241.0   107.861133      -4.159547      -1.389180      -5.548727   \n",
       "54857       411.0   147.848391      -3.959793      -0.615829      -4.575622   \n",
       "\n",
       "       sum_cp_discount  sum_oth_discount  total_quantity  sum_to_discount  \\\n",
       "0              -988.37         -28479.89          3091.0        -29468.26   \n",
       "1                 0.00          -1086.46           119.0         -1086.46   \n",
       "2                 0.00              0.00             3.0             0.00   \n",
       "3             -3661.71         -73457.74          3004.0        -77119.45   \n",
       "4              -142.48           -106.86             4.0          -249.34   \n",
       "...                ...               ...             ...              ...   \n",
       "54853          -482.28         -13456.80           924.0        -13939.08   \n",
       "54854             0.00           -178.10             6.0          -178.10   \n",
       "54855             0.00          -4160.30           317.0         -4160.30   \n",
       "54856          -366.88          -1608.64           246.0         -1975.52   \n",
       "54857          -279.61          -1432.60           447.0         -1712.21   \n",
       "\n",
       "       ct_cat  \n",
       "0           1  \n",
       "1           1  \n",
       "2           1  \n",
       "3           1  \n",
       "4           1  \n",
       "...       ...  \n",
       "54853       1  \n",
       "54854       1  \n",
       "54855       1  \n",
       "54856       1  \n",
       "54857       1  \n",
       "\n",
       "[54858 rows x 21 columns]"
      ]
     },
     "execution_count": 67,
     "metadata": {},
     "output_type": "execute_result"
    }
   ],
   "source": [
    "train_cp_item_tran = pd.merge(train, cp_item_tran1, on ='coupon_id', how='left')\n",
    "train_cp_item_tran"
   ]
  },
  {
   "cell_type": "markdown",
   "id": "35dc6748",
   "metadata": {},
   "source": [
    "## Aggregating customer transaction on `customer_id` as a table `customer_history`"
   ]
  },
  {
   "cell_type": "markdown",
   "id": "f99375f3",
   "metadata": {},
   "source": [
    "## Custormer transaction history"
   ]
  },
  {
   "cell_type": "code",
   "execution_count": 68,
   "id": "86bd5194",
   "metadata": {},
   "outputs": [
    {
     "name": "stdout",
     "output_type": "stream",
     "text": [
      "<class 'pandas.core.frame.DataFrame'>\n",
      "RangeIndex: 1324566 entries, 0 to 1324565\n",
      "Data columns (total 10 columns):\n",
      " #   Column           Non-Null Count    Dtype  \n",
      "---  ------           --------------    -----  \n",
      " 0   date             1324566 non-null  object \n",
      " 1   customer_id      1324566 non-null  int64  \n",
      " 2   item_id          1324566 non-null  int64  \n",
      " 3   quantity         1324566 non-null  int64  \n",
      " 4   selling_price    1324566 non-null  float64\n",
      " 5   other_discount   1324566 non-null  float64\n",
      " 6   coupon_discount  1324566 non-null  float64\n",
      " 7   coupon_used      1324566 non-null  int64  \n",
      " 8   count            1324566 non-null  int64  \n",
      " 9   total_discount   1324566 non-null  float64\n",
      "dtypes: float64(4), int64(5), object(1)\n",
      "memory usage: 101.1+ MB\n"
     ]
    }
   ],
   "source": [
    "# test_cp_item_tran = pd.merge(test, cp_item_tran, on ='coupon_id', how='left')\n",
    "# test_cp_item_tran\n",
    "cust_tran.info()"
   ]
  },
  {
   "cell_type": "code",
   "execution_count": 69,
   "id": "702e21af",
   "metadata": {},
   "outputs": [],
   "source": [
    "customer_history = cust_tran.groupby('customer_id').agg({\n",
    "    'item_id': ['nunique', 'count'],\n",
    "    'quantity': ['mean','sum'],\n",
    "    'coupon_used': ['mean','sum'],\n",
    "    'selling_price': 'mean',\n",
    "    'other_discount': ['mean', 'sum'],\n",
    "    'coupon_discount': ['mean', 'sum'],\n",
    "    'total_discount': ['mean', 'sum']\n",
    "})"
   ]
  },
  {
   "cell_type": "code",
   "execution_count": 70,
   "id": "a776c7be",
   "metadata": {},
   "outputs": [
    {
     "data": {
      "text/plain": [
       "Index(['total_unique_items_cust', 'total_items_cust', 'avg_qnt_cust',\n",
       "       'total_quantity_cust', 'avg_cp_used_cust', 'sum_cp_used_cust',\n",
       "       'avg_sprice_cust', 'avg_odiscount_cust', 'sum_oth_discount_cust',\n",
       "       'avg_cdiscount_cust', 'sum_cp_discount_cust', 'avg_tdiscount_cust',\n",
       "       'sum_to_discount_cust'],\n",
       "      dtype='object')"
      ]
     },
     "execution_count": 70,
     "metadata": {},
     "output_type": "execute_result"
    }
   ],
   "source": [
    "customer_history.columns = ['total_unique_items_cust', 'total_items_cust', 'avg_qnt_cust', 'total_quantity_cust', 'avg_cp_used_cust', 'sum_cp_used_cust', \n",
    "                            'avg_sprice_cust', 'avg_odiscount_cust', 'sum_oth_discount_cust', 'avg_cdiscount_cust', 'sum_cp_discount_cust', 'avg_tdiscount_cust', 'sum_to_discount_cust']\n",
    "customer_history.columns"
   ]
  },
  {
   "cell_type": "code",
   "execution_count": 71,
   "id": "564c1dae",
   "metadata": {},
   "outputs": [],
   "source": [
    "customer_history['sum_price_cust'] = customer_history['total_items_cust']*customer_history['avg_sprice_cust']"
   ]
  },
  {
   "cell_type": "code",
   "execution_count": 72,
   "id": "7945ec9d",
   "metadata": {},
   "outputs": [],
   "source": [
    "customer_history.reset_index(inplace = True)"
   ]
  },
  {
   "cell_type": "markdown",
   "id": "8e102cbc",
   "metadata": {},
   "source": [
    "### Merge the customer transaction history (`customer_history`) with customer demographics (`cust_demo`)"
   ]
  },
  {
   "cell_type": "code",
   "execution_count": 73,
   "id": "d57924dc",
   "metadata": {},
   "outputs": [
    {
     "data": {
      "text/plain": [
       "Index(['customer_id', 'total_unique_items_cust', 'total_items_cust',\n",
       "       'avg_qnt_cust', 'total_quantity_cust', 'avg_cp_used_cust',\n",
       "       'sum_cp_used_cust', 'avg_sprice_cust', 'avg_odiscount_cust',\n",
       "       'sum_oth_discount_cust', 'avg_cdiscount_cust', 'sum_cp_discount_cust',\n",
       "       'avg_tdiscount_cust', 'sum_to_discount_cust', 'sum_price_cust',\n",
       "       'age_range', 'marital_status', 'rented', 'family_size',\n",
       "       'no_of_children', 'income_bracket'],\n",
       "      dtype='object')"
      ]
     },
     "execution_count": 73,
     "metadata": {},
     "output_type": "execute_result"
    }
   ],
   "source": [
    "customer_history = customer_history.merge(cust_demo, on = 'customer_id', how = 'left')\n",
    "customer_history.columns"
   ]
  },
  {
   "cell_type": "code",
   "execution_count": 74,
   "id": "3fca1be9",
   "metadata": {},
   "outputs": [
    {
     "name": "stdout",
     "output_type": "stream",
     "text": [
      "<class 'pandas.core.frame.DataFrame'>\n",
      "RangeIndex: 760 entries, 0 to 759\n",
      "Data columns (total 7 columns):\n",
      " #   Column          Non-Null Count  Dtype \n",
      "---  ------          --------------  ----- \n",
      " 0   customer_id     760 non-null    int64 \n",
      " 1   age_range       760 non-null    object\n",
      " 2   marital_status  760 non-null    object\n",
      " 3   rented          760 non-null    int64 \n",
      " 4   family_size     760 non-null    object\n",
      " 5   no_of_children  760 non-null    object\n",
      " 6   income_bracket  760 non-null    int64 \n",
      "dtypes: int64(3), object(4)\n",
      "memory usage: 41.7+ KB\n"
     ]
    }
   ],
   "source": [
    "cust_demo.info()"
   ]
  },
  {
   "cell_type": "markdown",
   "id": "ad4e14cc",
   "metadata": {},
   "source": [
    "### Finally Merge the combined train and test tables"
   ]
  },
  {
   "cell_type": "code",
   "execution_count": 75,
   "id": "45d7220b",
   "metadata": {},
   "outputs": [
    {
     "name": "stdout",
     "output_type": "stream",
     "text": [
      "<class 'pandas.core.frame.DataFrame'>\n",
      "Int64Index: 78369 entries, 0 to 23510\n",
      "Data columns (total 4 columns):\n",
      " #   Column       Non-Null Count  Dtype\n",
      "---  ------       --------------  -----\n",
      " 0   campaign_id  78369 non-null  int64\n",
      " 1   coupon_id    78369 non-null  int64\n",
      " 2   customer_id  78369 non-null  int64\n",
      " 3   id           78369 non-null  int64\n",
      "dtypes: int64(4)\n",
      "memory usage: 3.0 MB\n"
     ]
    }
   ],
   "source": [
    "columns = train.columns[train.columns != 'redemption_status']\n",
    "total_data = train[columns].append(test, sort=True)\n",
    "total_data.info()"
   ]
  },
  {
   "cell_type": "code",
   "execution_count": 76,
   "id": "7f78986c",
   "metadata": {},
   "outputs": [
    {
     "name": "stdout",
     "output_type": "stream",
     "text": [
      "<class 'pandas.core.frame.DataFrame'>\n",
      "Int64Index: 1582 entries, 0 to 1581\n",
      "Data columns (total 21 columns):\n",
      " #   Column                   Non-Null Count  Dtype  \n",
      "---  ------                   --------------  -----  \n",
      " 0   customer_id              1582 non-null   int64  \n",
      " 1   total_unique_items_cust  1582 non-null   int64  \n",
      " 2   total_items_cust         1582 non-null   int64  \n",
      " 3   avg_qnt_cust             1582 non-null   float64\n",
      " 4   total_quantity_cust      1582 non-null   int64  \n",
      " 5   avg_cp_used_cust         1582 non-null   float64\n",
      " 6   sum_cp_used_cust         1582 non-null   int64  \n",
      " 7   avg_sprice_cust          1582 non-null   float64\n",
      " 8   avg_odiscount_cust       1582 non-null   float64\n",
      " 9   sum_oth_discount_cust    1582 non-null   float64\n",
      " 10  avg_cdiscount_cust       1582 non-null   float64\n",
      " 11  sum_cp_discount_cust     1582 non-null   float64\n",
      " 12  avg_tdiscount_cust       1582 non-null   float64\n",
      " 13  sum_to_discount_cust     1582 non-null   float64\n",
      " 14  sum_price_cust           1582 non-null   float64\n",
      " 15  age_range                760 non-null    object \n",
      " 16  marital_status           760 non-null    object \n",
      " 17  rented                   760 non-null    float64\n",
      " 18  family_size              760 non-null    object \n",
      " 19  no_of_children           760 non-null    object \n",
      " 20  income_bracket           760 non-null    float64\n",
      "dtypes: float64(12), int64(5), object(4)\n",
      "memory usage: 271.9+ KB\n"
     ]
    }
   ],
   "source": [
    "customer_history.info()"
   ]
  },
  {
   "cell_type": "code",
   "execution_count": 77,
   "id": "2bef9058",
   "metadata": {},
   "outputs": [
    {
     "name": "stdout",
     "output_type": "stream",
     "text": [
      "<class 'pandas.core.frame.DataFrame'>\n",
      "Int64Index: 78369 entries, 0 to 78368\n",
      "Data columns (total 24 columns):\n",
      " #   Column                   Non-Null Count  Dtype  \n",
      "---  ------                   --------------  -----  \n",
      " 0   campaign_id              78369 non-null  int64  \n",
      " 1   coupon_id                78369 non-null  int64  \n",
      " 2   customer_id              78369 non-null  int64  \n",
      " 3   id                       78369 non-null  int64  \n",
      " 4   total_unique_items_cust  78369 non-null  int64  \n",
      " 5   total_items_cust         78369 non-null  int64  \n",
      " 6   avg_qnt_cust             78369 non-null  float64\n",
      " 7   total_quantity_cust      78369 non-null  int64  \n",
      " 8   avg_cp_used_cust         78369 non-null  float64\n",
      " 9   sum_cp_used_cust         78369 non-null  int64  \n",
      " 10  avg_sprice_cust          78369 non-null  float64\n",
      " 11  avg_odiscount_cust       78369 non-null  float64\n",
      " 12  sum_oth_discount_cust    78369 non-null  float64\n",
      " 13  avg_cdiscount_cust       78369 non-null  float64\n",
      " 14  sum_cp_discount_cust     78369 non-null  float64\n",
      " 15  avg_tdiscount_cust       78369 non-null  float64\n",
      " 16  sum_to_discount_cust     78369 non-null  float64\n",
      " 17  sum_price_cust           78369 non-null  float64\n",
      " 18  age_range                43661 non-null  object \n",
      " 19  marital_status           43661 non-null  object \n",
      " 20  rented                   43661 non-null  float64\n",
      " 21  family_size              43661 non-null  object \n",
      " 22  no_of_children           43661 non-null  object \n",
      " 23  income_bracket           43661 non-null  float64\n",
      "dtypes: float64(12), int64(8), object(4)\n",
      "memory usage: 14.9+ MB\n"
     ]
    }
   ],
   "source": [
    "total_data = pd.merge(total_data, customer_history, on = 'customer_id', how = 'left')\n",
    "total_data.info()"
   ]
  },
  {
   "cell_type": "code",
   "execution_count": 78,
   "id": "ab7b0aeb",
   "metadata": {},
   "outputs": [
    {
     "name": "stdout",
     "output_type": "stream",
     "text": [
      "<class 'pandas.core.frame.DataFrame'>\n",
      "Int64Index: 78369 entries, 0 to 78368\n",
      "Data columns (total 40 columns):\n",
      " #   Column                   Non-Null Count  Dtype  \n",
      "---  ------                   --------------  -----  \n",
      " 0   campaign_id              78369 non-null  int64  \n",
      " 1   coupon_id                78369 non-null  int64  \n",
      " 2   customer_id              78369 non-null  int64  \n",
      " 3   id                       78369 non-null  int64  \n",
      " 4   total_unique_items_cust  78369 non-null  int64  \n",
      " 5   total_items_cust         78369 non-null  int64  \n",
      " 6   avg_qnt_cust             78369 non-null  float64\n",
      " 7   total_quantity_cust      78369 non-null  int64  \n",
      " 8   avg_cp_used_cust         78369 non-null  float64\n",
      " 9   sum_cp_used_cust         78369 non-null  int64  \n",
      " 10  avg_sprice_cust          78369 non-null  float64\n",
      " 11  avg_odiscount_cust       78369 non-null  float64\n",
      " 12  sum_oth_discount_cust    78369 non-null  float64\n",
      " 13  avg_cdiscount_cust       78369 non-null  float64\n",
      " 14  sum_cp_discount_cust     78369 non-null  float64\n",
      " 15  avg_tdiscount_cust       78369 non-null  float64\n",
      " 16  sum_to_discount_cust     78369 non-null  float64\n",
      " 17  sum_price_cust           78369 non-null  float64\n",
      " 18  age_range                43661 non-null  object \n",
      " 19  marital_status           43661 non-null  object \n",
      " 20  rented                   43661 non-null  float64\n",
      " 21  family_size              43661 non-null  object \n",
      " 22  no_of_children           43661 non-null  object \n",
      " 23  income_bracket           43661 non-null  float64\n",
      " 24  ct_items                 78369 non-null  int64  \n",
      " 25  ct_brands                78369 non-null  int64  \n",
      " 26  brand_type               78369 non-null  object \n",
      " 27  mode_cat                 78369 non-null  object \n",
      " 28  count_order              78369 non-null  float64\n",
      " 29  sum_cp_used              78369 non-null  float64\n",
      " 30  total_cust               78369 non-null  float64\n",
      " 31  avg_sprice               78369 non-null  float64\n",
      " 32  avg_odiscount            78369 non-null  float64\n",
      " 33  avg_cdiscount            78369 non-null  float64\n",
      " 34  avg_tdiscount            78369 non-null  float64\n",
      " 35  sum_cp_discount          78369 non-null  float64\n",
      " 36  sum_oth_discount         78369 non-null  float64\n",
      " 37  total_quantity           78369 non-null  float64\n",
      " 38  sum_to_discount          78369 non-null  float64\n",
      " 39  ct_cat                   78369 non-null  int64  \n",
      "dtypes: float64(23), int64(11), object(6)\n",
      "memory usage: 24.5+ MB\n"
     ]
    }
   ],
   "source": [
    "total_data = pd.merge(total_data, cp_item_tran1, on = 'coupon_id', how = 'left')\n",
    "total_data.info()"
   ]
  },
  {
   "cell_type": "code",
   "execution_count": 79,
   "id": "8457a812",
   "metadata": {},
   "outputs": [
    {
     "name": "stdout",
     "output_type": "stream",
     "text": [
      "<class 'pandas.core.frame.DataFrame'>\n",
      "Int64Index: 78369 entries, 0 to 78368\n",
      "Data columns (total 44 columns):\n",
      " #   Column                   Non-Null Count  Dtype         \n",
      "---  ------                   --------------  -----         \n",
      " 0   campaign_id              78369 non-null  int64         \n",
      " 1   coupon_id                78369 non-null  int64         \n",
      " 2   customer_id              78369 non-null  int64         \n",
      " 3   id                       78369 non-null  int64         \n",
      " 4   total_unique_items_cust  78369 non-null  int64         \n",
      " 5   total_items_cust         78369 non-null  int64         \n",
      " 6   avg_qnt_cust             78369 non-null  float64       \n",
      " 7   total_quantity_cust      78369 non-null  int64         \n",
      " 8   avg_cp_used_cust         78369 non-null  float64       \n",
      " 9   sum_cp_used_cust         78369 non-null  int64         \n",
      " 10  avg_sprice_cust          78369 non-null  float64       \n",
      " 11  avg_odiscount_cust       78369 non-null  float64       \n",
      " 12  sum_oth_discount_cust    78369 non-null  float64       \n",
      " 13  avg_cdiscount_cust       78369 non-null  float64       \n",
      " 14  sum_cp_discount_cust     78369 non-null  float64       \n",
      " 15  avg_tdiscount_cust       78369 non-null  float64       \n",
      " 16  sum_to_discount_cust     78369 non-null  float64       \n",
      " 17  sum_price_cust           78369 non-null  float64       \n",
      " 18  age_range                43661 non-null  object        \n",
      " 19  marital_status           43661 non-null  object        \n",
      " 20  rented                   43661 non-null  float64       \n",
      " 21  family_size              43661 non-null  object        \n",
      " 22  no_of_children           43661 non-null  object        \n",
      " 23  income_bracket           43661 non-null  float64       \n",
      " 24  ct_items                 78369 non-null  int64         \n",
      " 25  ct_brands                78369 non-null  int64         \n",
      " 26  brand_type               78369 non-null  object        \n",
      " 27  mode_cat                 78369 non-null  object        \n",
      " 28  count_order              78369 non-null  float64       \n",
      " 29  sum_cp_used              78369 non-null  float64       \n",
      " 30  total_cust               78369 non-null  float64       \n",
      " 31  avg_sprice               78369 non-null  float64       \n",
      " 32  avg_odiscount            78369 non-null  float64       \n",
      " 33  avg_cdiscount            78369 non-null  float64       \n",
      " 34  avg_tdiscount            78369 non-null  float64       \n",
      " 35  sum_cp_discount          78369 non-null  float64       \n",
      " 36  sum_oth_discount         78369 non-null  float64       \n",
      " 37  total_quantity           78369 non-null  float64       \n",
      " 38  sum_to_discount          78369 non-null  float64       \n",
      " 39  ct_cat                   78369 non-null  int64         \n",
      " 40  campaign_type            78369 non-null  object        \n",
      " 41  start_date               78369 non-null  datetime64[ns]\n",
      " 42  end_date                 78369 non-null  datetime64[ns]\n",
      " 43  duration                 78369 non-null  int64         \n",
      "dtypes: datetime64[ns](2), float64(23), int64(12), object(7)\n",
      "memory usage: 26.9+ MB\n"
     ]
    }
   ],
   "source": [
    "total_data = pd.merge(total_data, campaign, on = 'campaign_id', how = 'left')\n",
    "total_data.info()"
   ]
  },
  {
   "cell_type": "code",
   "execution_count": 80,
   "id": "740339a9",
   "metadata": {},
   "outputs": [],
   "source": [
    "# test_data = pd.merge(test, customer_history, on = 'customer_id', how = 'left')\n",
    "# test_data = pd.merge(test_data, campaign, on = 'campaign_id', how = 'left')\n",
    "# test_data.info()"
   ]
  },
  {
   "cell_type": "markdown",
   "id": "91265a27",
   "metadata": {},
   "source": [
    "## Dealing with missing values again "
   ]
  },
  {
   "cell_type": "code",
   "execution_count": 81,
   "id": "4d515c85",
   "metadata": {},
   "outputs": [
    {
     "data": {
      "text/html": [
       "<div>\n",
       "<style scoped>\n",
       "    .dataframe tbody tr th:only-of-type {\n",
       "        vertical-align: middle;\n",
       "    }\n",
       "\n",
       "    .dataframe tbody tr th {\n",
       "        vertical-align: top;\n",
       "    }\n",
       "\n",
       "    .dataframe thead th {\n",
       "        text-align: right;\n",
       "    }\n",
       "</style>\n",
       "<table border=\"1\" class=\"dataframe\">\n",
       "  <thead>\n",
       "    <tr style=\"text-align: right;\">\n",
       "      <th></th>\n",
       "      <th>campaign_id</th>\n",
       "      <th>coupon_id</th>\n",
       "      <th>customer_id</th>\n",
       "      <th>id</th>\n",
       "      <th>total_unique_items_cust</th>\n",
       "      <th>total_items_cust</th>\n",
       "      <th>avg_qnt_cust</th>\n",
       "      <th>total_quantity_cust</th>\n",
       "      <th>avg_cp_used_cust</th>\n",
       "      <th>sum_cp_used_cust</th>\n",
       "      <th>...</th>\n",
       "      <th>avg_tdiscount</th>\n",
       "      <th>sum_cp_discount</th>\n",
       "      <th>sum_oth_discount</th>\n",
       "      <th>total_quantity</th>\n",
       "      <th>sum_to_discount</th>\n",
       "      <th>ct_cat</th>\n",
       "      <th>campaign_type</th>\n",
       "      <th>start_date</th>\n",
       "      <th>end_date</th>\n",
       "      <th>duration</th>\n",
       "    </tr>\n",
       "  </thead>\n",
       "  <tbody>\n",
       "    <tr>\n",
       "      <th>0</th>\n",
       "      <td>8</td>\n",
       "      <td>725</td>\n",
       "      <td>45</td>\n",
       "      <td>117578</td>\n",
       "      <td>728</td>\n",
       "      <td>1338</td>\n",
       "      <td>109.359492</td>\n",
       "      <td>146323</td>\n",
       "      <td>0.121824</td>\n",
       "      <td>163</td>\n",
       "      <td>...</td>\n",
       "      <td>-18.178400</td>\n",
       "      <td>-988.37</td>\n",
       "      <td>-28479.89</td>\n",
       "      <td>3091.0</td>\n",
       "      <td>-29468.26</td>\n",
       "      <td>1</td>\n",
       "      <td>X</td>\n",
       "      <td>2013-02-16</td>\n",
       "      <td>2013-04-05</td>\n",
       "      <td>48</td>\n",
       "    </tr>\n",
       "    <tr>\n",
       "      <th>1</th>\n",
       "      <td>29</td>\n",
       "      <td>265</td>\n",
       "      <td>334</td>\n",
       "      <td>123337</td>\n",
       "      <td>198</td>\n",
       "      <td>225</td>\n",
       "      <td>1.102222</td>\n",
       "      <td>248</td>\n",
       "      <td>0.062222</td>\n",
       "      <td>14</td>\n",
       "      <td>...</td>\n",
       "      <td>-5.938643</td>\n",
       "      <td>0.00</td>\n",
       "      <td>-1086.46</td>\n",
       "      <td>119.0</td>\n",
       "      <td>-1086.46</td>\n",
       "      <td>1</td>\n",
       "      <td>Y</td>\n",
       "      <td>2012-10-08</td>\n",
       "      <td>2012-11-30</td>\n",
       "      <td>53</td>\n",
       "    </tr>\n",
       "    <tr>\n",
       "      <th>2</th>\n",
       "      <td>13</td>\n",
       "      <td>281</td>\n",
       "      <td>408</td>\n",
       "      <td>46642</td>\n",
       "      <td>396</td>\n",
       "      <td>575</td>\n",
       "      <td>10.222609</td>\n",
       "      <td>5878</td>\n",
       "      <td>0.006957</td>\n",
       "      <td>4</td>\n",
       "      <td>...</td>\n",
       "      <td>0.000000</td>\n",
       "      <td>0.00</td>\n",
       "      <td>0.00</td>\n",
       "      <td>3.0</td>\n",
       "      <td>0.00</td>\n",
       "      <td>1</td>\n",
       "      <td>X</td>\n",
       "      <td>2013-05-19</td>\n",
       "      <td>2013-07-05</td>\n",
       "      <td>47</td>\n",
       "    </tr>\n",
       "    <tr>\n",
       "      <th>3</th>\n",
       "      <td>13</td>\n",
       "      <td>625</td>\n",
       "      <td>577</td>\n",
       "      <td>10510</td>\n",
       "      <td>602</td>\n",
       "      <td>969</td>\n",
       "      <td>169.897833</td>\n",
       "      <td>164631</td>\n",
       "      <td>0.007224</td>\n",
       "      <td>7</td>\n",
       "      <td>...</td>\n",
       "      <td>-30.016634</td>\n",
       "      <td>-3661.71</td>\n",
       "      <td>-73457.74</td>\n",
       "      <td>3004.0</td>\n",
       "      <td>-77119.45</td>\n",
       "      <td>1</td>\n",
       "      <td>X</td>\n",
       "      <td>2013-05-19</td>\n",
       "      <td>2013-07-05</td>\n",
       "      <td>47</td>\n",
       "    </tr>\n",
       "    <tr>\n",
       "      <th>4</th>\n",
       "      <td>13</td>\n",
       "      <td>480</td>\n",
       "      <td>414</td>\n",
       "      <td>14347</td>\n",
       "      <td>566</td>\n",
       "      <td>1116</td>\n",
       "      <td>122.129928</td>\n",
       "      <td>136297</td>\n",
       "      <td>0.013441</td>\n",
       "      <td>15</td>\n",
       "      <td>...</td>\n",
       "      <td>-62.335000</td>\n",
       "      <td>-142.48</td>\n",
       "      <td>-106.86</td>\n",
       "      <td>4.0</td>\n",
       "      <td>-249.34</td>\n",
       "      <td>1</td>\n",
       "      <td>X</td>\n",
       "      <td>2013-05-19</td>\n",
       "      <td>2013-07-05</td>\n",
       "      <td>47</td>\n",
       "    </tr>\n",
       "  </tbody>\n",
       "</table>\n",
       "<p>5 rows × 44 columns</p>\n",
       "</div>"
      ],
      "text/plain": [
       "   campaign_id  coupon_id  customer_id      id  total_unique_items_cust  \\\n",
       "0            8        725           45  117578                      728   \n",
       "1           29        265          334  123337                      198   \n",
       "2           13        281          408   46642                      396   \n",
       "3           13        625          577   10510                      602   \n",
       "4           13        480          414   14347                      566   \n",
       "\n",
       "   total_items_cust  avg_qnt_cust  total_quantity_cust  avg_cp_used_cust  \\\n",
       "0              1338    109.359492               146323          0.121824   \n",
       "1               225      1.102222                  248          0.062222   \n",
       "2               575     10.222609                 5878          0.006957   \n",
       "3               969    169.897833               164631          0.007224   \n",
       "4              1116    122.129928               136297          0.013441   \n",
       "\n",
       "   sum_cp_used_cust  ...  avg_tdiscount  sum_cp_discount  sum_oth_discount  \\\n",
       "0               163  ...     -18.178400          -988.37         -28479.89   \n",
       "1                14  ...      -5.938643             0.00          -1086.46   \n",
       "2                 4  ...       0.000000             0.00              0.00   \n",
       "3                 7  ...     -30.016634         -3661.71         -73457.74   \n",
       "4                15  ...     -62.335000          -142.48           -106.86   \n",
       "\n",
       "   total_quantity  sum_to_discount  ct_cat  campaign_type  start_date  \\\n",
       "0          3091.0        -29468.26       1              X  2013-02-16   \n",
       "1           119.0         -1086.46       1              Y  2012-10-08   \n",
       "2             3.0             0.00       1              X  2013-05-19   \n",
       "3          3004.0        -77119.45       1              X  2013-05-19   \n",
       "4             4.0          -249.34       1              X  2013-05-19   \n",
       "\n",
       "    end_date duration  \n",
       "0 2013-04-05       48  \n",
       "1 2012-11-30       53  \n",
       "2 2013-07-05       47  \n",
       "3 2013-07-05       47  \n",
       "4 2013-07-05       47  \n",
       "\n",
       "[5 rows x 44 columns]"
      ]
     },
     "execution_count": 81,
     "metadata": {},
     "output_type": "execute_result"
    }
   ],
   "source": [
    "total_data.head()"
   ]
  },
  {
   "cell_type": "code",
   "execution_count": 82,
   "id": "6c6c0db0",
   "metadata": {},
   "outputs": [
    {
     "data": {
      "text/plain": [
       "campaign_id                    0\n",
       "coupon_id                      0\n",
       "customer_id                    0\n",
       "id                             0\n",
       "total_unique_items_cust        0\n",
       "total_items_cust               0\n",
       "avg_qnt_cust                   0\n",
       "total_quantity_cust            0\n",
       "avg_cp_used_cust               0\n",
       "sum_cp_used_cust               0\n",
       "avg_sprice_cust                0\n",
       "avg_odiscount_cust             0\n",
       "sum_oth_discount_cust          0\n",
       "avg_cdiscount_cust             0\n",
       "sum_cp_discount_cust           0\n",
       "avg_tdiscount_cust             0\n",
       "sum_to_discount_cust           0\n",
       "sum_price_cust                 0\n",
       "age_range                  34708\n",
       "marital_status             34708\n",
       "rented                     34708\n",
       "family_size                34708\n",
       "no_of_children             34708\n",
       "income_bracket             34708\n",
       "ct_items                       0\n",
       "ct_brands                      0\n",
       "brand_type                     0\n",
       "mode_cat                       0\n",
       "count_order                    0\n",
       "sum_cp_used                    0\n",
       "total_cust                     0\n",
       "avg_sprice                     0\n",
       "avg_odiscount                  0\n",
       "avg_cdiscount                  0\n",
       "avg_tdiscount                  0\n",
       "sum_cp_discount                0\n",
       "sum_oth_discount               0\n",
       "total_quantity                 0\n",
       "sum_to_discount                0\n",
       "ct_cat                         0\n",
       "campaign_type                  0\n",
       "start_date                     0\n",
       "end_date                       0\n",
       "duration                       0\n",
       "dtype: int64"
      ]
     },
     "execution_count": 82,
     "metadata": {},
     "output_type": "execute_result"
    }
   ],
   "source": [
    "total_data.isna().sum()"
   ]
  },
  {
   "cell_type": "code",
   "execution_count": 83,
   "id": "a05ff325",
   "metadata": {},
   "outputs": [
    {
     "data": {
      "text/plain": [
       "46-55    15154\n",
       "36-45    11210\n",
       "26-35     8024\n",
       "56-70     3723\n",
       "70+       3094\n",
       "18-25     2456\n",
       "Name: age_range, dtype: int64"
      ]
     },
     "execution_count": 83,
     "metadata": {},
     "output_type": "execute_result"
    }
   ],
   "source": [
    "total_data.age_range.value_counts()"
   ]
  },
  {
   "cell_type": "code",
   "execution_count": 84,
   "id": "d39672bd",
   "metadata": {},
   "outputs": [],
   "source": [
    "total_data.fillna({'age_range':'unknown'}, inplace=True)"
   ]
  },
  {
   "cell_type": "markdown",
   "id": "e485d408",
   "metadata": {},
   "source": [
    "### `martial_status`"
   ]
  },
  {
   "cell_type": "code",
   "execution_count": 85,
   "id": "00892237",
   "metadata": {},
   "outputs": [
    {
     "data": {
      "text/plain": [
       "Married    18811\n",
       "unknown    18267\n",
       "Single      6583\n",
       "Name: marital_status, dtype: int64"
      ]
     },
     "execution_count": 85,
     "metadata": {},
     "output_type": "execute_result"
    }
   ],
   "source": [
    "total_data.marital_status.value_counts()"
   ]
  },
  {
   "cell_type": "code",
   "execution_count": 86,
   "id": "66639556",
   "metadata": {},
   "outputs": [],
   "source": [
    "total_data.fillna({'marital_status':'unknown'}, inplace=True)"
   ]
  },
  {
   "cell_type": "markdown",
   "id": "b4d5fe15",
   "metadata": {},
   "source": [
    "### `rented` "
   ]
  },
  {
   "cell_type": "code",
   "execution_count": 87,
   "id": "31749b17",
   "metadata": {},
   "outputs": [
    {
     "data": {
      "text/plain": [
       "0.0    41156\n",
       "1.0     2505\n",
       "Name: rented, dtype: int64"
      ]
     },
     "execution_count": 87,
     "metadata": {},
     "output_type": "execute_result"
    }
   ],
   "source": [
    "total_data.rented.value_counts()"
   ]
  },
  {
   "cell_type": "code",
   "execution_count": 88,
   "id": "b1a42314",
   "metadata": {},
   "outputs": [
    {
     "data": {
      "text/plain": [
       "0.05737385767618699"
      ]
     },
     "execution_count": 88,
     "metadata": {},
     "output_type": "execute_result"
    }
   ],
   "source": [
    "total_data.rented.mean()"
   ]
  },
  {
   "cell_type": "code",
   "execution_count": 89,
   "id": "2a8e99ab",
   "metadata": {},
   "outputs": [],
   "source": [
    "total_data.fillna({'rented':0}, inplace=True)"
   ]
  },
  {
   "cell_type": "markdown",
   "id": "175764ca",
   "metadata": {},
   "source": [
    "### `family_size`"
   ]
  },
  {
   "cell_type": "code",
   "execution_count": 90,
   "id": "aeccc149",
   "metadata": {},
   "outputs": [
    {
     "data": {
      "text/plain": [
       "2     16888\n",
       "1     13612\n",
       "3      6267\n",
       "5+     3755\n",
       "4      3139\n",
       "Name: family_size, dtype: int64"
      ]
     },
     "execution_count": 90,
     "metadata": {},
     "output_type": "execute_result"
    }
   ],
   "source": [
    "total_data.family_size.value_counts()"
   ]
  },
  {
   "cell_type": "code",
   "execution_count": 91,
   "id": "bea2ceae",
   "metadata": {},
   "outputs": [],
   "source": [
    "total_data.fillna({'family_size':'1'}, inplace=True)"
   ]
  },
  {
   "cell_type": "markdown",
   "id": "e777914e",
   "metadata": {},
   "source": [
    "### `no_of_children`"
   ]
  },
  {
   "cell_type": "code",
   "execution_count": 92,
   "id": "21fcc1fd",
   "metadata": {},
   "outputs": [],
   "source": [
    "total_data.fillna({'no_of_children':0}, inplace=True)"
   ]
  },
  {
   "cell_type": "markdown",
   "id": "b4926d1f",
   "metadata": {},
   "source": [
    "### `income_bracket`"
   ]
  },
  {
   "cell_type": "code",
   "execution_count": 93,
   "id": "8c85ca70",
   "metadata": {},
   "outputs": [],
   "source": [
    "total_data.fillna({'income_bracket':5}, inplace=True)"
   ]
  },
  {
   "cell_type": "code",
   "execution_count": 94,
   "id": "6ec0184a",
   "metadata": {
    "scrolled": false
   },
   "outputs": [
    {
     "data": {
      "text/html": [
       "<div>\n",
       "<style scoped>\n",
       "    .dataframe tbody tr th:only-of-type {\n",
       "        vertical-align: middle;\n",
       "    }\n",
       "\n",
       "    .dataframe tbody tr th {\n",
       "        vertical-align: top;\n",
       "    }\n",
       "\n",
       "    .dataframe thead th {\n",
       "        text-align: right;\n",
       "    }\n",
       "</style>\n",
       "<table border=\"1\" class=\"dataframe\">\n",
       "  <thead>\n",
       "    <tr style=\"text-align: right;\">\n",
       "      <th></th>\n",
       "      <th>campaign_id</th>\n",
       "      <th>coupon_id</th>\n",
       "      <th>customer_id</th>\n",
       "      <th>id</th>\n",
       "      <th>total_unique_items_cust</th>\n",
       "      <th>total_items_cust</th>\n",
       "      <th>avg_qnt_cust</th>\n",
       "      <th>total_quantity_cust</th>\n",
       "      <th>avg_cp_used_cust</th>\n",
       "      <th>sum_cp_used_cust</th>\n",
       "      <th>...</th>\n",
       "      <th>avg_tdiscount</th>\n",
       "      <th>sum_cp_discount</th>\n",
       "      <th>sum_oth_discount</th>\n",
       "      <th>total_quantity</th>\n",
       "      <th>sum_to_discount</th>\n",
       "      <th>ct_cat</th>\n",
       "      <th>campaign_type</th>\n",
       "      <th>start_date</th>\n",
       "      <th>end_date</th>\n",
       "      <th>duration</th>\n",
       "    </tr>\n",
       "  </thead>\n",
       "  <tbody>\n",
       "    <tr>\n",
       "      <th>0</th>\n",
       "      <td>8</td>\n",
       "      <td>725</td>\n",
       "      <td>45</td>\n",
       "      <td>117578</td>\n",
       "      <td>728</td>\n",
       "      <td>1338</td>\n",
       "      <td>109.359492</td>\n",
       "      <td>146323</td>\n",
       "      <td>0.121824</td>\n",
       "      <td>163</td>\n",
       "      <td>...</td>\n",
       "      <td>-18.178400</td>\n",
       "      <td>-988.37</td>\n",
       "      <td>-28479.89</td>\n",
       "      <td>3091.0</td>\n",
       "      <td>-29468.26</td>\n",
       "      <td>1</td>\n",
       "      <td>X</td>\n",
       "      <td>2013-02-16</td>\n",
       "      <td>2013-04-05</td>\n",
       "      <td>48</td>\n",
       "    </tr>\n",
       "    <tr>\n",
       "      <th>1</th>\n",
       "      <td>29</td>\n",
       "      <td>265</td>\n",
       "      <td>334</td>\n",
       "      <td>123337</td>\n",
       "      <td>198</td>\n",
       "      <td>225</td>\n",
       "      <td>1.102222</td>\n",
       "      <td>248</td>\n",
       "      <td>0.062222</td>\n",
       "      <td>14</td>\n",
       "      <td>...</td>\n",
       "      <td>-5.938643</td>\n",
       "      <td>0.00</td>\n",
       "      <td>-1086.46</td>\n",
       "      <td>119.0</td>\n",
       "      <td>-1086.46</td>\n",
       "      <td>1</td>\n",
       "      <td>Y</td>\n",
       "      <td>2012-10-08</td>\n",
       "      <td>2012-11-30</td>\n",
       "      <td>53</td>\n",
       "    </tr>\n",
       "    <tr>\n",
       "      <th>2</th>\n",
       "      <td>13</td>\n",
       "      <td>281</td>\n",
       "      <td>408</td>\n",
       "      <td>46642</td>\n",
       "      <td>396</td>\n",
       "      <td>575</td>\n",
       "      <td>10.222609</td>\n",
       "      <td>5878</td>\n",
       "      <td>0.006957</td>\n",
       "      <td>4</td>\n",
       "      <td>...</td>\n",
       "      <td>0.000000</td>\n",
       "      <td>0.00</td>\n",
       "      <td>0.00</td>\n",
       "      <td>3.0</td>\n",
       "      <td>0.00</td>\n",
       "      <td>1</td>\n",
       "      <td>X</td>\n",
       "      <td>2013-05-19</td>\n",
       "      <td>2013-07-05</td>\n",
       "      <td>47</td>\n",
       "    </tr>\n",
       "    <tr>\n",
       "      <th>3</th>\n",
       "      <td>13</td>\n",
       "      <td>625</td>\n",
       "      <td>577</td>\n",
       "      <td>10510</td>\n",
       "      <td>602</td>\n",
       "      <td>969</td>\n",
       "      <td>169.897833</td>\n",
       "      <td>164631</td>\n",
       "      <td>0.007224</td>\n",
       "      <td>7</td>\n",
       "      <td>...</td>\n",
       "      <td>-30.016634</td>\n",
       "      <td>-3661.71</td>\n",
       "      <td>-73457.74</td>\n",
       "      <td>3004.0</td>\n",
       "      <td>-77119.45</td>\n",
       "      <td>1</td>\n",
       "      <td>X</td>\n",
       "      <td>2013-05-19</td>\n",
       "      <td>2013-07-05</td>\n",
       "      <td>47</td>\n",
       "    </tr>\n",
       "    <tr>\n",
       "      <th>4</th>\n",
       "      <td>13</td>\n",
       "      <td>480</td>\n",
       "      <td>414</td>\n",
       "      <td>14347</td>\n",
       "      <td>566</td>\n",
       "      <td>1116</td>\n",
       "      <td>122.129928</td>\n",
       "      <td>136297</td>\n",
       "      <td>0.013441</td>\n",
       "      <td>15</td>\n",
       "      <td>...</td>\n",
       "      <td>-62.335000</td>\n",
       "      <td>-142.48</td>\n",
       "      <td>-106.86</td>\n",
       "      <td>4.0</td>\n",
       "      <td>-249.34</td>\n",
       "      <td>1</td>\n",
       "      <td>X</td>\n",
       "      <td>2013-05-19</td>\n",
       "      <td>2013-07-05</td>\n",
       "      <td>47</td>\n",
       "    </tr>\n",
       "  </tbody>\n",
       "</table>\n",
       "<p>5 rows × 44 columns</p>\n",
       "</div>"
      ],
      "text/plain": [
       "   campaign_id  coupon_id  customer_id      id  total_unique_items_cust  \\\n",
       "0            8        725           45  117578                      728   \n",
       "1           29        265          334  123337                      198   \n",
       "2           13        281          408   46642                      396   \n",
       "3           13        625          577   10510                      602   \n",
       "4           13        480          414   14347                      566   \n",
       "\n",
       "   total_items_cust  avg_qnt_cust  total_quantity_cust  avg_cp_used_cust  \\\n",
       "0              1338    109.359492               146323          0.121824   \n",
       "1               225      1.102222                  248          0.062222   \n",
       "2               575     10.222609                 5878          0.006957   \n",
       "3               969    169.897833               164631          0.007224   \n",
       "4              1116    122.129928               136297          0.013441   \n",
       "\n",
       "   sum_cp_used_cust  ...  avg_tdiscount  sum_cp_discount  sum_oth_discount  \\\n",
       "0               163  ...     -18.178400          -988.37         -28479.89   \n",
       "1                14  ...      -5.938643             0.00          -1086.46   \n",
       "2                 4  ...       0.000000             0.00              0.00   \n",
       "3                 7  ...     -30.016634         -3661.71         -73457.74   \n",
       "4                15  ...     -62.335000          -142.48           -106.86   \n",
       "\n",
       "   total_quantity  sum_to_discount  ct_cat  campaign_type  start_date  \\\n",
       "0          3091.0        -29468.26       1              X  2013-02-16   \n",
       "1           119.0         -1086.46       1              Y  2012-10-08   \n",
       "2             3.0             0.00       1              X  2013-05-19   \n",
       "3          3004.0        -77119.45       1              X  2013-05-19   \n",
       "4             4.0          -249.34       1              X  2013-05-19   \n",
       "\n",
       "    end_date duration  \n",
       "0 2013-04-05       48  \n",
       "1 2012-11-30       53  \n",
       "2 2013-07-05       47  \n",
       "3 2013-07-05       47  \n",
       "4 2013-07-05       47  \n",
       "\n",
       "[5 rows x 44 columns]"
      ]
     },
     "execution_count": 94,
     "metadata": {},
     "output_type": "execute_result"
    }
   ],
   "source": [
    "total_data.head()"
   ]
  },
  {
   "cell_type": "markdown",
   "id": "a4132980",
   "metadata": {},
   "source": [
    "## Derive new variables"
   ]
  },
  {
   "cell_type": "code",
   "execution_count": 95,
   "id": "c5c558c0",
   "metadata": {},
   "outputs": [
    {
     "name": "stdout",
     "output_type": "stream",
     "text": [
      "<class 'pandas.core.frame.DataFrame'>\n",
      "Int64Index: 78369 entries, 0 to 78368\n",
      "Data columns (total 44 columns):\n",
      " #   Column                   Non-Null Count  Dtype         \n",
      "---  ------                   --------------  -----         \n",
      " 0   campaign_id              78369 non-null  int64         \n",
      " 1   coupon_id                78369 non-null  int64         \n",
      " 2   customer_id              78369 non-null  int64         \n",
      " 3   id                       78369 non-null  int64         \n",
      " 4   total_unique_items_cust  78369 non-null  int64         \n",
      " 5   total_items_cust         78369 non-null  int64         \n",
      " 6   avg_qnt_cust             78369 non-null  float64       \n",
      " 7   total_quantity_cust      78369 non-null  int64         \n",
      " 8   avg_cp_used_cust         78369 non-null  float64       \n",
      " 9   sum_cp_used_cust         78369 non-null  int64         \n",
      " 10  avg_sprice_cust          78369 non-null  float64       \n",
      " 11  avg_odiscount_cust       78369 non-null  float64       \n",
      " 12  sum_oth_discount_cust    78369 non-null  float64       \n",
      " 13  avg_cdiscount_cust       78369 non-null  float64       \n",
      " 14  sum_cp_discount_cust     78369 non-null  float64       \n",
      " 15  avg_tdiscount_cust       78369 non-null  float64       \n",
      " 16  sum_to_discount_cust     78369 non-null  float64       \n",
      " 17  sum_price_cust           78369 non-null  float64       \n",
      " 18  age_range                78369 non-null  object        \n",
      " 19  marital_status           78369 non-null  object        \n",
      " 20  rented                   78369 non-null  float64       \n",
      " 21  family_size              78369 non-null  object        \n",
      " 22  no_of_children           78369 non-null  object        \n",
      " 23  income_bracket           78369 non-null  float64       \n",
      " 24  ct_items                 78369 non-null  int64         \n",
      " 25  ct_brands                78369 non-null  int64         \n",
      " 26  brand_type               78369 non-null  object        \n",
      " 27  mode_cat                 78369 non-null  object        \n",
      " 28  count_order              78369 non-null  float64       \n",
      " 29  sum_cp_used              78369 non-null  float64       \n",
      " 30  total_cust               78369 non-null  float64       \n",
      " 31  avg_sprice               78369 non-null  float64       \n",
      " 32  avg_odiscount            78369 non-null  float64       \n",
      " 33  avg_cdiscount            78369 non-null  float64       \n",
      " 34  avg_tdiscount            78369 non-null  float64       \n",
      " 35  sum_cp_discount          78369 non-null  float64       \n",
      " 36  sum_oth_discount         78369 non-null  float64       \n",
      " 37  total_quantity           78369 non-null  float64       \n",
      " 38  sum_to_discount          78369 non-null  float64       \n",
      " 39  ct_cat                   78369 non-null  int64         \n",
      " 40  campaign_type            78369 non-null  object        \n",
      " 41  start_date               78369 non-null  datetime64[ns]\n",
      " 42  end_date                 78369 non-null  datetime64[ns]\n",
      " 43  duration                 78369 non-null  int64         \n",
      "dtypes: datetime64[ns](2), float64(23), int64(12), object(7)\n",
      "memory usage: 26.9+ MB\n"
     ]
    }
   ],
   "source": [
    "total_data.info()"
   ]
  },
  {
   "cell_type": "code",
   "execution_count": 96,
   "id": "1004f90f",
   "metadata": {},
   "outputs": [
    {
     "name": "stdout",
     "output_type": "stream",
     "text": [
      "Index(['campaign_id', 'coupon_id', 'customer_id', 'id',\n",
      "       'total_unique_items_cust', 'total_items_cust', 'avg_qnt_cust',\n",
      "       'total_quantity_cust', 'avg_cp_used_cust', 'sum_cp_used_cust',\n",
      "       'avg_sprice_cust', 'avg_odiscount_cust', 'sum_oth_discount_cust',\n",
      "       'avg_cdiscount_cust', 'sum_cp_discount_cust', 'avg_tdiscount_cust',\n",
      "       'sum_to_discount_cust', 'sum_price_cust', 'age_range', 'marital_status',\n",
      "       'rented', 'family_size', 'no_of_children', 'income_bracket', 'ct_items',\n",
      "       'ct_brands', 'brand_type', 'mode_cat', 'count_order', 'sum_cp_used',\n",
      "       'total_cust', 'avg_sprice', 'avg_odiscount', 'avg_cdiscount',\n",
      "       'avg_tdiscount', 'sum_cp_discount', 'sum_oth_discount',\n",
      "       'total_quantity', 'sum_to_discount', 'ct_cat', 'campaign_type',\n",
      "       'duration'],\n",
      "      dtype='object')\n",
      "<class 'pandas.core.frame.DataFrame'>\n",
      "Int64Index: 78369 entries, 0 to 78368\n",
      "Data columns (total 42 columns):\n",
      " #   Column                   Non-Null Count  Dtype  \n",
      "---  ------                   --------------  -----  \n",
      " 0   campaign_id              78369 non-null  int64  \n",
      " 1   coupon_id                78369 non-null  int64  \n",
      " 2   customer_id              78369 non-null  int64  \n",
      " 3   id                       78369 non-null  int64  \n",
      " 4   total_unique_items_cust  78369 non-null  int64  \n",
      " 5   total_items_cust         78369 non-null  int64  \n",
      " 6   avg_qnt_cust             78369 non-null  float64\n",
      " 7   total_quantity_cust      78369 non-null  int64  \n",
      " 8   avg_cp_used_cust         78369 non-null  float64\n",
      " 9   sum_cp_used_cust         78369 non-null  int64  \n",
      " 10  avg_sprice_cust          78369 non-null  float64\n",
      " 11  avg_odiscount_cust       78369 non-null  float64\n",
      " 12  sum_oth_discount_cust    78369 non-null  float64\n",
      " 13  avg_cdiscount_cust       78369 non-null  float64\n",
      " 14  sum_cp_discount_cust     78369 non-null  float64\n",
      " 15  avg_tdiscount_cust       78369 non-null  float64\n",
      " 16  sum_to_discount_cust     78369 non-null  float64\n",
      " 17  sum_price_cust           78369 non-null  float64\n",
      " 18  age_range                78369 non-null  object \n",
      " 19  marital_status           78369 non-null  object \n",
      " 20  rented                   78369 non-null  float64\n",
      " 21  family_size              78369 non-null  object \n",
      " 22  no_of_children           78369 non-null  object \n",
      " 23  income_bracket           78369 non-null  float64\n",
      " 24  ct_items                 78369 non-null  int64  \n",
      " 25  ct_brands                78369 non-null  int64  \n",
      " 26  brand_type               78369 non-null  object \n",
      " 27  mode_cat                 78369 non-null  object \n",
      " 28  count_order              78369 non-null  float64\n",
      " 29  sum_cp_used              78369 non-null  float64\n",
      " 30  total_cust               78369 non-null  float64\n",
      " 31  avg_sprice               78369 non-null  float64\n",
      " 32  avg_odiscount            78369 non-null  float64\n",
      " 33  avg_cdiscount            78369 non-null  float64\n",
      " 34  avg_tdiscount            78369 non-null  float64\n",
      " 35  sum_cp_discount          78369 non-null  float64\n",
      " 36  sum_oth_discount         78369 non-null  float64\n",
      " 37  total_quantity           78369 non-null  float64\n",
      " 38  sum_to_discount          78369 non-null  float64\n",
      " 39  ct_cat                   78369 non-null  int64  \n",
      " 40  campaign_type            78369 non-null  object \n",
      " 41  duration                 78369 non-null  int64  \n",
      "dtypes: float64(23), int64(12), object(7)\n",
      "memory usage: 25.7+ MB\n"
     ]
    }
   ],
   "source": [
    "X=total_data[[i for i in list(total_data.columns) if i not in ['start_date','end_date']]]\n",
    "print(X.columns)\n",
    "X.info()"
   ]
  },
  {
   "cell_type": "code",
   "execution_count": 97,
   "id": "a4b66702",
   "metadata": {},
   "outputs": [],
   "source": [
    "X1=X[['age_range','marital_status']]"
   ]
  },
  {
   "cell_type": "code",
   "execution_count": 98,
   "id": "2550c856",
   "metadata": {},
   "outputs": [],
   "source": [
    "X1=pd.get_dummies(X1)"
   ]
  },
  {
   "cell_type": "code",
   "execution_count": 99,
   "id": "251dc52a",
   "metadata": {},
   "outputs": [
    {
     "data": {
      "text/plain": [
       "Index(['age_range_18-25', 'age_range_26-35', 'age_range_36-45',\n",
       "       'age_range_46-55', 'age_range_56-70', 'age_range_70+',\n",
       "       'age_range_unknown', 'marital_status_Married', 'marital_status_Single',\n",
       "       'marital_status_unknown'],\n",
       "      dtype='object')"
      ]
     },
     "execution_count": 99,
     "metadata": {},
     "output_type": "execute_result"
    }
   ],
   "source": [
    "X1.columns"
   ]
  },
  {
   "cell_type": "code",
   "execution_count": 100,
   "id": "077829f1",
   "metadata": {},
   "outputs": [
    {
     "data": {
      "text/plain": [
       "Index(['age_range_18-25', 'age_range_26-35', 'age_range_36-45',\n",
       "       'age_range_46-55', 'age_range_56-70', 'age_range_70+',\n",
       "       'marital_status_Married', 'marital_status_Single'],\n",
       "      dtype='object')"
      ]
     },
     "execution_count": 100,
     "metadata": {},
     "output_type": "execute_result"
    }
   ],
   "source": [
    "for col in X1.columns:\n",
    "    if 'unknown' in col:\n",
    "        X1.drop(col,axis=1,inplace=True)\n",
    "X1.columns"
   ]
  },
  {
   "cell_type": "code",
   "execution_count": 101,
   "id": "a965af2e",
   "metadata": {},
   "outputs": [
    {
     "name": "stderr",
     "output_type": "stream",
     "text": [
      "C:\\Users\\shubham.raut\\Anaconda3\\lib\\site-packages\\pandas\\core\\frame.py:4308: SettingWithCopyWarning: \n",
      "A value is trying to be set on a copy of a slice from a DataFrame\n",
      "\n",
      "See the caveats in the documentation: https://pandas.pydata.org/pandas-docs/stable/user_guide/indexing.html#returning-a-view-versus-a-copy\n",
      "  return super().drop(\n"
     ]
    }
   ],
   "source": [
    "X.drop(['age_range','marital_status'], axis=1, inplace = True)"
   ]
  },
  {
   "cell_type": "code",
   "execution_count": 102,
   "id": "ca0bece2",
   "metadata": {},
   "outputs": [],
   "source": [
    "X = pd.get_dummies(X, drop_first=True)"
   ]
  },
  {
   "cell_type": "code",
   "execution_count": 103,
   "id": "e111d24d",
   "metadata": {},
   "outputs": [
    {
     "name": "stdout",
     "output_type": "stream",
     "text": [
      "<class 'pandas.core.frame.DataFrame'>\n",
      "Int64Index: 78369 entries, 0 to 78368\n",
      "Data columns (total 56 columns):\n",
      " #   Column                           Non-Null Count  Dtype  \n",
      "---  ------                           --------------  -----  \n",
      " 0   campaign_id                      78369 non-null  int64  \n",
      " 1   coupon_id                        78369 non-null  int64  \n",
      " 2   customer_id                      78369 non-null  int64  \n",
      " 3   id                               78369 non-null  int64  \n",
      " 4   total_unique_items_cust          78369 non-null  int64  \n",
      " 5   total_items_cust                 78369 non-null  int64  \n",
      " 6   avg_qnt_cust                     78369 non-null  float64\n",
      " 7   total_quantity_cust              78369 non-null  int64  \n",
      " 8   avg_cp_used_cust                 78369 non-null  float64\n",
      " 9   sum_cp_used_cust                 78369 non-null  int64  \n",
      " 10  avg_sprice_cust                  78369 non-null  float64\n",
      " 11  avg_odiscount_cust               78369 non-null  float64\n",
      " 12  sum_oth_discount_cust            78369 non-null  float64\n",
      " 13  avg_cdiscount_cust               78369 non-null  float64\n",
      " 14  sum_cp_discount_cust             78369 non-null  float64\n",
      " 15  avg_tdiscount_cust               78369 non-null  float64\n",
      " 16  sum_to_discount_cust             78369 non-null  float64\n",
      " 17  sum_price_cust                   78369 non-null  float64\n",
      " 18  rented                           78369 non-null  float64\n",
      " 19  income_bracket                   78369 non-null  float64\n",
      " 20  ct_items                         78369 non-null  int64  \n",
      " 21  ct_brands                        78369 non-null  int64  \n",
      " 22  count_order                      78369 non-null  float64\n",
      " 23  sum_cp_used                      78369 non-null  float64\n",
      " 24  total_cust                       78369 non-null  float64\n",
      " 25  avg_sprice                       78369 non-null  float64\n",
      " 26  avg_odiscount                    78369 non-null  float64\n",
      " 27  avg_cdiscount                    78369 non-null  float64\n",
      " 28  avg_tdiscount                    78369 non-null  float64\n",
      " 29  sum_cp_discount                  78369 non-null  float64\n",
      " 30  sum_oth_discount                 78369 non-null  float64\n",
      " 31  total_quantity                   78369 non-null  float64\n",
      " 32  sum_to_discount                  78369 non-null  float64\n",
      " 33  ct_cat                           78369 non-null  int64  \n",
      " 34  duration                         78369 non-null  int64  \n",
      " 35  family_size_2                    78369 non-null  uint8  \n",
      " 36  family_size_3                    78369 non-null  uint8  \n",
      " 37  family_size_4                    78369 non-null  uint8  \n",
      " 38  family_size_5+                   78369 non-null  uint8  \n",
      " 39  no_of_children_0                 78369 non-null  uint8  \n",
      " 40  no_of_children_1                 78369 non-null  uint8  \n",
      " 41  no_of_children_2                 78369 non-null  uint8  \n",
      " 42  no_of_children_3+                78369 non-null  uint8  \n",
      " 43  brand_type_Established           78369 non-null  uint8  \n",
      " 44  brand_type_Local                 78369 non-null  uint8  \n",
      " 45  mode_cat_Dairy, Juices & Snacks  78369 non-null  uint8  \n",
      " 46  mode_cat_Flowers & Plants        78369 non-null  uint8  \n",
      " 47  mode_cat_Grocery                 78369 non-null  uint8  \n",
      " 48  mode_cat_Meat                    78369 non-null  uint8  \n",
      " 49  mode_cat_Natural Products        78369 non-null  uint8  \n",
      " 50  mode_cat_Packaged Meat           78369 non-null  uint8  \n",
      " 51  mode_cat_Pharmaceutical          78369 non-null  uint8  \n",
      " 52  mode_cat_Prepared Food           78369 non-null  uint8  \n",
      " 53  mode_cat_Seafood                 78369 non-null  uint8  \n",
      " 54  mode_cat_Skin & Hair Care        78369 non-null  uint8  \n",
      " 55  campaign_type_Y                  78369 non-null  uint8  \n",
      "dtypes: float64(23), int64(12), uint8(21)\n",
      "memory usage: 23.1 MB\n"
     ]
    }
   ],
   "source": [
    "X.info()"
   ]
  },
  {
   "cell_type": "code",
   "execution_count": 104,
   "id": "48f34082",
   "metadata": {},
   "outputs": [],
   "source": [
    "X = X.join(X1)"
   ]
  },
  {
   "cell_type": "code",
   "execution_count": 105,
   "id": "5224c1db",
   "metadata": {
    "scrolled": true
   },
   "outputs": [
    {
     "data": {
      "text/plain": [
       "Index(['campaign_id', 'coupon_id', 'customer_id', 'id',\n",
       "       'total_unique_items_cust', 'total_items_cust', 'avg_qnt_cust',\n",
       "       'total_quantity_cust', 'avg_cp_used_cust', 'sum_cp_used_cust',\n",
       "       'avg_sprice_cust', 'avg_odiscount_cust', 'sum_oth_discount_cust',\n",
       "       'avg_cdiscount_cust', 'sum_cp_discount_cust', 'avg_tdiscount_cust',\n",
       "       'sum_to_discount_cust', 'sum_price_cust', 'rented', 'income_bracket',\n",
       "       'ct_items', 'ct_brands', 'count_order', 'sum_cp_used', 'total_cust',\n",
       "       'avg_sprice', 'avg_odiscount', 'avg_cdiscount', 'avg_tdiscount',\n",
       "       'sum_cp_discount', 'sum_oth_discount', 'total_quantity',\n",
       "       'sum_to_discount', 'ct_cat', 'duration', 'family_size_2',\n",
       "       'family_size_3', 'family_size_4', 'family_size_5+', 'no_of_children_0',\n",
       "       'no_of_children_1', 'no_of_children_2', 'no_of_children_3+',\n",
       "       'brand_type_Established', 'brand_type_Local',\n",
       "       'mode_cat_Dairy, Juices & Snacks', 'mode_cat_Flowers & Plants',\n",
       "       'mode_cat_Grocery', 'mode_cat_Meat', 'mode_cat_Natural Products',\n",
       "       'mode_cat_Packaged Meat', 'mode_cat_Pharmaceutical',\n",
       "       'mode_cat_Prepared Food', 'mode_cat_Seafood',\n",
       "       'mode_cat_Skin & Hair Care', 'campaign_type_Y', 'age_range_18-25',\n",
       "       'age_range_26-35', 'age_range_36-45', 'age_range_46-55',\n",
       "       'age_range_56-70', 'age_range_70+', 'marital_status_Married',\n",
       "       'marital_status_Single'],\n",
       "      dtype='object')"
      ]
     },
     "execution_count": 105,
     "metadata": {},
     "output_type": "execute_result"
    }
   ],
   "source": [
    "X.columns"
   ]
  },
  {
   "cell_type": "markdown",
   "id": "33de8157",
   "metadata": {},
   "source": [
    "# Reduce dimensionality by removing collinearity. "
   ]
  },
  {
   "cell_type": "code",
   "execution_count": 106,
   "id": "6a40f171",
   "metadata": {},
   "outputs": [],
   "source": [
    "def strongCorr(df, limit):\n",
    "    corrMat = df.corr()\n",
    "    removed_cols = []\n",
    "    for col in corrMat.columns:\n",
    "        if sum(abs(corrMat[col])>limit) > 1:\n",
    "            print('the correlation is higher than {} with {}'.format(limit, col),\n",
    "                  '\\n',corrMat.loc[abs(corrMat[col])>limit][col],'\\n')\n",
    "            removed_cols.append(col)\n",
    "    return removed_cols"
   ]
  },
  {
   "cell_type": "code",
   "execution_count": 107,
   "id": "a62b46be",
   "metadata": {},
   "outputs": [
    {
     "name": "stdout",
     "output_type": "stream",
     "text": [
      "the correlation is higher than 0.8 with total_unique_items_cust \n",
      " total_unique_items_cust    1.000000\n",
      "total_items_cust           0.930814\n",
      "sum_oth_discount_cust     -0.819335\n",
      "sum_to_discount_cust      -0.813050\n",
      "sum_price_cust             0.857266\n",
      "Name: total_unique_items_cust, dtype: float64 \n",
      "\n",
      "the correlation is higher than 0.8 with total_items_cust \n",
      " total_unique_items_cust    0.930814\n",
      "total_items_cust           1.000000\n",
      "sum_oth_discount_cust     -0.853129\n",
      "sum_to_discount_cust      -0.845607\n",
      "sum_price_cust             0.917467\n",
      "Name: total_items_cust, dtype: float64 \n",
      "\n",
      "the correlation is higher than 0.8 with avg_qnt_cust \n",
      " avg_qnt_cust           1.000000\n",
      "total_quantity_cust    0.813917\n",
      "Name: avg_qnt_cust, dtype: float64 \n",
      "\n",
      "the correlation is higher than 0.8 with total_quantity_cust \n",
      " avg_qnt_cust           0.813917\n",
      "total_quantity_cust    1.000000\n",
      "Name: total_quantity_cust, dtype: float64 \n",
      "\n",
      "the correlation is higher than 0.8 with avg_cp_used_cust \n",
      " avg_cp_used_cust      1.000000\n",
      "sum_cp_used_cust      0.801099\n",
      "avg_cdiscount_cust   -0.918667\n",
      "Name: avg_cp_used_cust, dtype: float64 \n",
      "\n",
      "the correlation is higher than 0.8 with sum_cp_used_cust \n",
      " avg_cp_used_cust        0.801099\n",
      "sum_cp_used_cust        1.000000\n",
      "sum_cp_discount_cust   -0.948790\n",
      "Name: sum_cp_used_cust, dtype: float64 \n",
      "\n",
      "the correlation is higher than 0.8 with avg_odiscount_cust \n",
      " avg_odiscount_cust    1.000000\n",
      "avg_tdiscount_cust    0.994248\n",
      "Name: avg_odiscount_cust, dtype: float64 \n",
      "\n",
      "the correlation is higher than 0.8 with sum_oth_discount_cust \n",
      " total_unique_items_cust   -0.819335\n",
      "total_items_cust          -0.853129\n",
      "sum_oth_discount_cust      1.000000\n",
      "sum_to_discount_cust       0.996823\n",
      "sum_price_cust            -0.803283\n",
      "Name: sum_oth_discount_cust, dtype: float64 \n",
      "\n",
      "the correlation is higher than 0.8 with avg_cdiscount_cust \n",
      " avg_cp_used_cust     -0.918667\n",
      "avg_cdiscount_cust    1.000000\n",
      "Name: avg_cdiscount_cust, dtype: float64 \n",
      "\n",
      "the correlation is higher than 0.8 with sum_cp_discount_cust \n",
      " sum_cp_used_cust       -0.94879\n",
      "sum_cp_discount_cust    1.00000\n",
      "Name: sum_cp_discount_cust, dtype: float64 \n",
      "\n",
      "the correlation is higher than 0.8 with avg_tdiscount_cust \n",
      " avg_odiscount_cust    0.994248\n",
      "avg_tdiscount_cust    1.000000\n",
      "Name: avg_tdiscount_cust, dtype: float64 \n",
      "\n",
      "the correlation is higher than 0.8 with sum_to_discount_cust \n",
      " total_unique_items_cust   -0.813050\n",
      "total_items_cust          -0.845607\n",
      "sum_oth_discount_cust      0.996823\n",
      "sum_to_discount_cust       1.000000\n",
      "Name: sum_to_discount_cust, dtype: float64 \n",
      "\n",
      "the correlation is higher than 0.8 with sum_price_cust \n",
      " total_unique_items_cust    0.857266\n",
      "total_items_cust           0.917467\n",
      "sum_oth_discount_cust     -0.803283\n",
      "sum_price_cust             1.000000\n",
      "Name: sum_price_cust, dtype: float64 \n",
      "\n",
      "the correlation is higher than 0.8 with ct_items \n",
      " ct_items           1.000000\n",
      "sum_cp_used        0.805303\n",
      "sum_cp_discount   -0.885484\n",
      "Name: ct_items, dtype: float64 \n",
      "\n",
      "the correlation is higher than 0.8 with count_order \n",
      " count_order         1.000000\n",
      "sum_cp_used         0.915109\n",
      "total_cust          1.000000\n",
      "sum_cp_discount    -0.854871\n",
      "sum_oth_discount   -0.930810\n",
      "total_quantity      0.999084\n",
      "sum_to_discount    -0.933747\n",
      "Name: count_order, dtype: float64 \n",
      "\n",
      "the correlation is higher than 0.8 with sum_cp_used \n",
      " ct_items            0.805303\n",
      "count_order         0.915109\n",
      "sum_cp_used         1.000000\n",
      "total_cust          0.915109\n",
      "sum_cp_discount    -0.973229\n",
      "sum_oth_discount   -0.840530\n",
      "total_quantity      0.912830\n",
      "sum_to_discount    -0.848124\n",
      "Name: sum_cp_used, dtype: float64 \n",
      "\n",
      "the correlation is higher than 0.8 with total_cust \n",
      " count_order         1.000000\n",
      "sum_cp_used         0.915109\n",
      "total_cust          1.000000\n",
      "sum_cp_discount    -0.854871\n",
      "sum_oth_discount   -0.930810\n",
      "total_quantity      0.999084\n",
      "sum_to_discount    -0.933747\n",
      "Name: total_cust, dtype: float64 \n",
      "\n",
      "the correlation is higher than 0.8 with avg_odiscount \n",
      " avg_odiscount    1.000000\n",
      "avg_tdiscount    0.978775\n",
      "Name: avg_odiscount, dtype: float64 \n",
      "\n",
      "the correlation is higher than 0.8 with avg_tdiscount \n",
      " avg_odiscount    0.978775\n",
      "avg_tdiscount    1.000000\n",
      "Name: avg_tdiscount, dtype: float64 \n",
      "\n",
      "the correlation is higher than 0.8 with sum_cp_discount \n",
      " ct_items          -0.885484\n",
      "count_order       -0.854871\n",
      "sum_cp_used       -0.973229\n",
      "total_cust        -0.854871\n",
      "sum_cp_discount    1.000000\n",
      "total_quantity    -0.847977\n",
      "Name: sum_cp_discount, dtype: float64 \n",
      "\n",
      "the correlation is higher than 0.8 with sum_oth_discount \n",
      " count_order        -0.930810\n",
      "sum_cp_used        -0.840530\n",
      "total_cust         -0.930810\n",
      "sum_oth_discount    1.000000\n",
      "total_quantity     -0.934631\n",
      "sum_to_discount     0.999884\n",
      "Name: sum_oth_discount, dtype: float64 \n",
      "\n",
      "the correlation is higher than 0.8 with total_quantity \n",
      " count_order         0.999084\n",
      "sum_cp_used         0.912830\n",
      "total_cust          0.999084\n",
      "sum_cp_discount    -0.847977\n",
      "sum_oth_discount   -0.934631\n",
      "total_quantity      1.000000\n",
      "sum_to_discount    -0.937325\n",
      "Name: total_quantity, dtype: float64 \n",
      "\n",
      "the correlation is higher than 0.8 with sum_to_discount \n",
      " count_order        -0.933747\n",
      "sum_cp_used        -0.848124\n",
      "total_cust         -0.933747\n",
      "sum_oth_discount    0.999884\n",
      "total_quantity     -0.937325\n",
      "sum_to_discount     1.000000\n",
      "Name: sum_to_discount, dtype: float64 \n",
      "\n",
      "the correlation is higher than 0.8 with family_size_3 \n",
      " family_size_3       1.000000\n",
      "no_of_children_1    0.871249\n",
      "Name: family_size_3, dtype: float64 \n",
      "\n",
      "the correlation is higher than 0.8 with family_size_4 \n",
      " family_size_4       1.000000\n",
      "no_of_children_2    0.871184\n",
      "Name: family_size_4, dtype: float64 \n",
      "\n",
      "the correlation is higher than 0.8 with family_size_5+ \n",
      " family_size_5+       1.000000\n",
      "no_of_children_3+    0.971272\n",
      "Name: family_size_5+, dtype: float64 \n",
      "\n",
      "the correlation is higher than 0.8 with no_of_children_1 \n",
      " family_size_3       0.871249\n",
      "no_of_children_1    1.000000\n",
      "Name: no_of_children_1, dtype: float64 \n",
      "\n",
      "the correlation is higher than 0.8 with no_of_children_2 \n",
      " family_size_4       0.871184\n",
      "no_of_children_2    1.000000\n",
      "Name: no_of_children_2, dtype: float64 \n",
      "\n",
      "the correlation is higher than 0.8 with no_of_children_3+ \n",
      " family_size_5+       0.971272\n",
      "no_of_children_3+    1.000000\n",
      "Name: no_of_children_3+, dtype: float64 \n",
      "\n",
      "the correlation is higher than 0.8 with brand_type_Established \n",
      " brand_type_Established    1.000000\n",
      "brand_type_Local         -0.934794\n",
      "Name: brand_type_Established, dtype: float64 \n",
      "\n",
      "the correlation is higher than 0.8 with brand_type_Local \n",
      " brand_type_Established   -0.934794\n",
      "brand_type_Local          1.000000\n",
      "Name: brand_type_Local, dtype: float64 \n",
      "\n"
     ]
    }
   ],
   "source": [
    "removed_cols = strongCorr(X,0.8)"
   ]
  },
  {
   "cell_type": "code",
   "execution_count": 108,
   "id": "e32d1327",
   "metadata": {},
   "outputs": [
    {
     "data": {
      "text/plain": [
       "['total_unique_items_cust',\n",
       " 'total_items_cust',\n",
       " 'avg_qnt_cust',\n",
       " 'total_quantity_cust',\n",
       " 'avg_cp_used_cust',\n",
       " 'sum_cp_used_cust',\n",
       " 'avg_odiscount_cust',\n",
       " 'sum_oth_discount_cust',\n",
       " 'avg_cdiscount_cust',\n",
       " 'sum_cp_discount_cust',\n",
       " 'avg_tdiscount_cust',\n",
       " 'sum_to_discount_cust',\n",
       " 'sum_price_cust',\n",
       " 'ct_items',\n",
       " 'count_order',\n",
       " 'sum_cp_used',\n",
       " 'total_cust',\n",
       " 'avg_odiscount',\n",
       " 'avg_tdiscount',\n",
       " 'sum_cp_discount',\n",
       " 'sum_oth_discount',\n",
       " 'total_quantity',\n",
       " 'sum_to_discount',\n",
       " 'family_size_3',\n",
       " 'family_size_4',\n",
       " 'family_size_5+',\n",
       " 'no_of_children_1',\n",
       " 'no_of_children_2',\n",
       " 'no_of_children_3+',\n",
       " 'brand_type_Established',\n",
       " 'brand_type_Local']"
      ]
     },
     "execution_count": 108,
     "metadata": {},
     "output_type": "execute_result"
    }
   ],
   "source": [
    "removed_cols"
   ]
  },
  {
   "cell_type": "code",
   "execution_count": 109,
   "id": "ed9e000a",
   "metadata": {},
   "outputs": [],
   "source": [
    "meaningful_cols = ['mode_cat_Grocery',\n",
    "'sum_price_cust',\n",
    " 'ct_cat',\n",
    " 'avg_cp_used_cust',\n",
    " 'avg_odiscount',\n",
    " 'ct_brands',\n",
    " 'sum_cp_used',\n",
    " 'no_of_children_2',\n",
    " 'brand_type_Established',\n",
    " 'no_of_children_3+',\n",
    " 'avg_qnt_cust']"
   ]
  },
  {
   "cell_type": "code",
   "execution_count": 110,
   "id": "534f2454",
   "metadata": {},
   "outputs": [],
   "source": [
    "removed_cols = [i for i in removed_cols if i not in meaningful_cols]"
   ]
  },
  {
   "cell_type": "code",
   "execution_count": 111,
   "id": "c1609deb",
   "metadata": {},
   "outputs": [],
   "source": [
    "# x_reduced = X\n",
    "# while(len(removed_cols)):\n",
    "#     x_reduced = x_reduced.drop(removed_cols[0], axis = 1)\n",
    "#     removed_cols = strongCorr(x_reduced,0.7)"
   ]
  },
  {
   "cell_type": "code",
   "execution_count": 112,
   "id": "2b44cc70",
   "metadata": {},
   "outputs": [],
   "source": [
    "x_reduced = X.drop(removed_cols, axis=1)"
   ]
  },
  {
   "cell_type": "code",
   "execution_count": 113,
   "id": "b585b4e8",
   "metadata": {
    "scrolled": true
   },
   "outputs": [
    {
     "name": "stdout",
     "output_type": "stream",
     "text": [
      "<class 'pandas.core.frame.DataFrame'>\n",
      "Int64Index: 78369 entries, 0 to 78368\n",
      "Data columns (total 41 columns):\n",
      " #   Column                           Non-Null Count  Dtype  \n",
      "---  ------                           --------------  -----  \n",
      " 0   campaign_id                      78369 non-null  int64  \n",
      " 1   coupon_id                        78369 non-null  int64  \n",
      " 2   customer_id                      78369 non-null  int64  \n",
      " 3   id                               78369 non-null  int64  \n",
      " 4   avg_qnt_cust                     78369 non-null  float64\n",
      " 5   avg_cp_used_cust                 78369 non-null  float64\n",
      " 6   avg_sprice_cust                  78369 non-null  float64\n",
      " 7   sum_price_cust                   78369 non-null  float64\n",
      " 8   rented                           78369 non-null  float64\n",
      " 9   income_bracket                   78369 non-null  float64\n",
      " 10  ct_brands                        78369 non-null  int64  \n",
      " 11  sum_cp_used                      78369 non-null  float64\n",
      " 12  avg_sprice                       78369 non-null  float64\n",
      " 13  avg_odiscount                    78369 non-null  float64\n",
      " 14  avg_cdiscount                    78369 non-null  float64\n",
      " 15  ct_cat                           78369 non-null  int64  \n",
      " 16  duration                         78369 non-null  int64  \n",
      " 17  family_size_2                    78369 non-null  uint8  \n",
      " 18  no_of_children_0                 78369 non-null  uint8  \n",
      " 19  no_of_children_2                 78369 non-null  uint8  \n",
      " 20  no_of_children_3+                78369 non-null  uint8  \n",
      " 21  brand_type_Established           78369 non-null  uint8  \n",
      " 22  mode_cat_Dairy, Juices & Snacks  78369 non-null  uint8  \n",
      " 23  mode_cat_Flowers & Plants        78369 non-null  uint8  \n",
      " 24  mode_cat_Grocery                 78369 non-null  uint8  \n",
      " 25  mode_cat_Meat                    78369 non-null  uint8  \n",
      " 26  mode_cat_Natural Products        78369 non-null  uint8  \n",
      " 27  mode_cat_Packaged Meat           78369 non-null  uint8  \n",
      " 28  mode_cat_Pharmaceutical          78369 non-null  uint8  \n",
      " 29  mode_cat_Prepared Food           78369 non-null  uint8  \n",
      " 30  mode_cat_Seafood                 78369 non-null  uint8  \n",
      " 31  mode_cat_Skin & Hair Care        78369 non-null  uint8  \n",
      " 32  campaign_type_Y                  78369 non-null  uint8  \n",
      " 33  age_range_18-25                  78369 non-null  uint8  \n",
      " 34  age_range_26-35                  78369 non-null  uint8  \n",
      " 35  age_range_36-45                  78369 non-null  uint8  \n",
      " 36  age_range_46-55                  78369 non-null  uint8  \n",
      " 37  age_range_56-70                  78369 non-null  uint8  \n",
      " 38  age_range_70+                    78369 non-null  uint8  \n",
      " 39  marital_status_Married           78369 non-null  uint8  \n",
      " 40  marital_status_Single            78369 non-null  uint8  \n",
      "dtypes: float64(10), int64(7), uint8(24)\n",
      "memory usage: 14.6 MB\n"
     ]
    }
   ],
   "source": [
    "x_reduced.info()"
   ]
  },
  {
   "cell_type": "code",
   "execution_count": 114,
   "id": "aa2239dc",
   "metadata": {},
   "outputs": [
    {
     "name": "stdout",
     "output_type": "stream",
     "text": [
      "the correlation is higher than 0.7 with mode_cat_Grocery \n",
      " mode_cat_Grocery           1.000000\n",
      "mode_cat_Pharmaceutical   -0.775381\n",
      "Name: mode_cat_Grocery, dtype: float64 \n",
      "\n",
      "the correlation is higher than 0.7 with mode_cat_Pharmaceutical \n",
      " mode_cat_Grocery          -0.775381\n",
      "mode_cat_Pharmaceutical    1.000000\n",
      "Name: mode_cat_Pharmaceutical, dtype: float64 \n",
      "\n"
     ]
    },
    {
     "data": {
      "text/plain": [
       "['mode_cat_Grocery', 'mode_cat_Pharmaceutical']"
      ]
     },
     "execution_count": 114,
     "metadata": {},
     "output_type": "execute_result"
    }
   ],
   "source": [
    "strongCorr(x_reduced,0.7)"
   ]
  },
  {
   "cell_type": "code",
   "execution_count": 115,
   "id": "50166993",
   "metadata": {},
   "outputs": [
    {
     "name": "stdout",
     "output_type": "stream",
     "text": [
      "<class 'pandas.core.frame.DataFrame'>\n",
      "Int64Index: 78369 entries, 0 to 78368\n",
      "Data columns (total 41 columns):\n",
      " #   Column                           Non-Null Count  Dtype  \n",
      "---  ------                           --------------  -----  \n",
      " 0   campaign_id                      78369 non-null  int64  \n",
      " 1   coupon_id                        78369 non-null  int64  \n",
      " 2   customer_id                      78369 non-null  int64  \n",
      " 3   id                               78369 non-null  int64  \n",
      " 4   avg_qnt_cust                     78369 non-null  float64\n",
      " 5   avg_cp_used_cust                 78369 non-null  float64\n",
      " 6   avg_sprice_cust                  78369 non-null  float64\n",
      " 7   sum_price_cust                   78369 non-null  float64\n",
      " 8   rented                           78369 non-null  float64\n",
      " 9   income_bracket                   78369 non-null  float64\n",
      " 10  ct_brands                        78369 non-null  int64  \n",
      " 11  sum_cp_used                      78369 non-null  float64\n",
      " 12  avg_sprice                       78369 non-null  float64\n",
      " 13  avg_odiscount                    78369 non-null  float64\n",
      " 14  avg_cdiscount                    78369 non-null  float64\n",
      " 15  ct_cat                           78369 non-null  int64  \n",
      " 16  duration                         78369 non-null  int64  \n",
      " 17  family_size_2                    78369 non-null  uint8  \n",
      " 18  no_of_children_0                 78369 non-null  uint8  \n",
      " 19  no_of_children_2                 78369 non-null  uint8  \n",
      " 20  no_of_children_3+                78369 non-null  uint8  \n",
      " 21  brand_type_Established           78369 non-null  uint8  \n",
      " 22  mode_cat_Dairy, Juices & Snacks  78369 non-null  uint8  \n",
      " 23  mode_cat_Flowers & Plants        78369 non-null  uint8  \n",
      " 24  mode_cat_Grocery                 78369 non-null  uint8  \n",
      " 25  mode_cat_Meat                    78369 non-null  uint8  \n",
      " 26  mode_cat_Natural Products        78369 non-null  uint8  \n",
      " 27  mode_cat_Packaged Meat           78369 non-null  uint8  \n",
      " 28  mode_cat_Pharmaceutical          78369 non-null  uint8  \n",
      " 29  mode_cat_Prepared Food           78369 non-null  uint8  \n",
      " 30  mode_cat_Seafood                 78369 non-null  uint8  \n",
      " 31  mode_cat_Skin & Hair Care        78369 non-null  uint8  \n",
      " 32  campaign_type_Y                  78369 non-null  uint8  \n",
      " 33  age_range_18-25                  78369 non-null  uint8  \n",
      " 34  age_range_26-35                  78369 non-null  uint8  \n",
      " 35  age_range_36-45                  78369 non-null  uint8  \n",
      " 36  age_range_46-55                  78369 non-null  uint8  \n",
      " 37  age_range_56-70                  78369 non-null  uint8  \n",
      " 38  age_range_70+                    78369 non-null  uint8  \n",
      " 39  marital_status_Married           78369 non-null  uint8  \n",
      " 40  marital_status_Single            78369 non-null  uint8  \n",
      "dtypes: float64(10), int64(7), uint8(24)\n",
      "memory usage: 14.6 MB\n"
     ]
    }
   ],
   "source": [
    "x_reduced.info()"
   ]
  },
  {
   "cell_type": "code",
   "execution_count": 116,
   "id": "1a1119bb",
   "metadata": {},
   "outputs": [
    {
     "name": "stdout",
     "output_type": "stream",
     "text": [
      "<class 'pandas.core.frame.DataFrame'>\n",
      "Int64Index: 54858 entries, 0 to 54857\n",
      "Data columns (total 42 columns):\n",
      " #   Column                           Non-Null Count  Dtype  \n",
      "---  ------                           --------------  -----  \n",
      " 0   id                               54858 non-null  int64  \n",
      " 1   redemption_status                54858 non-null  int64  \n",
      " 2   campaign_id                      54858 non-null  int64  \n",
      " 3   coupon_id                        54858 non-null  int64  \n",
      " 4   customer_id                      54858 non-null  int64  \n",
      " 5   avg_qnt_cust                     54858 non-null  float64\n",
      " 6   avg_cp_used_cust                 54858 non-null  float64\n",
      " 7   avg_sprice_cust                  54858 non-null  float64\n",
      " 8   sum_price_cust                   54858 non-null  float64\n",
      " 9   rented                           54858 non-null  float64\n",
      " 10  income_bracket                   54858 non-null  float64\n",
      " 11  ct_brands                        54858 non-null  int64  \n",
      " 12  sum_cp_used                      54858 non-null  float64\n",
      " 13  avg_sprice                       54858 non-null  float64\n",
      " 14  avg_odiscount                    54858 non-null  float64\n",
      " 15  avg_cdiscount                    54858 non-null  float64\n",
      " 16  ct_cat                           54858 non-null  int64  \n",
      " 17  duration                         54858 non-null  int64  \n",
      " 18  family_size_2                    54858 non-null  uint8  \n",
      " 19  no_of_children_0                 54858 non-null  uint8  \n",
      " 20  no_of_children_2                 54858 non-null  uint8  \n",
      " 21  no_of_children_3+                54858 non-null  uint8  \n",
      " 22  brand_type_Established           54858 non-null  uint8  \n",
      " 23  mode_cat_Dairy, Juices & Snacks  54858 non-null  uint8  \n",
      " 24  mode_cat_Flowers & Plants        54858 non-null  uint8  \n",
      " 25  mode_cat_Grocery                 54858 non-null  uint8  \n",
      " 26  mode_cat_Meat                    54858 non-null  uint8  \n",
      " 27  mode_cat_Natural Products        54858 non-null  uint8  \n",
      " 28  mode_cat_Packaged Meat           54858 non-null  uint8  \n",
      " 29  mode_cat_Pharmaceutical          54858 non-null  uint8  \n",
      " 30  mode_cat_Prepared Food           54858 non-null  uint8  \n",
      " 31  mode_cat_Seafood                 54858 non-null  uint8  \n",
      " 32  mode_cat_Skin & Hair Care        54858 non-null  uint8  \n",
      " 33  campaign_type_Y                  54858 non-null  uint8  \n",
      " 34  age_range_18-25                  54858 non-null  uint8  \n",
      " 35  age_range_26-35                  54858 non-null  uint8  \n",
      " 36  age_range_36-45                  54858 non-null  uint8  \n",
      " 37  age_range_46-55                  54858 non-null  uint8  \n",
      " 38  age_range_56-70                  54858 non-null  uint8  \n",
      " 39  age_range_70+                    54858 non-null  uint8  \n",
      " 40  marital_status_Married           54858 non-null  uint8  \n",
      " 41  marital_status_Single            54858 non-null  uint8  \n",
      "dtypes: float64(10), int64(8), uint8(24)\n",
      "memory usage: 9.2 MB\n"
     ]
    }
   ],
   "source": [
    "train_data = train[['id','redemption_status']].merge(x_reduced, on='id', how='left')\n",
    "train_data.info()"
   ]
  },
  {
   "cell_type": "code",
   "execution_count": 117,
   "id": "bec74ffb",
   "metadata": {},
   "outputs": [
    {
     "name": "stdout",
     "output_type": "stream",
     "text": [
      "<class 'pandas.core.frame.DataFrame'>\n",
      "Int64Index: 23511 entries, 0 to 23510\n",
      "Data columns (total 41 columns):\n",
      " #   Column                           Non-Null Count  Dtype  \n",
      "---  ------                           --------------  -----  \n",
      " 0   id                               23511 non-null  int64  \n",
      " 1   campaign_id                      23511 non-null  int64  \n",
      " 2   coupon_id                        23511 non-null  int64  \n",
      " 3   customer_id                      23511 non-null  int64  \n",
      " 4   avg_qnt_cust                     23511 non-null  float64\n",
      " 5   avg_cp_used_cust                 23511 non-null  float64\n",
      " 6   avg_sprice_cust                  23511 non-null  float64\n",
      " 7   sum_price_cust                   23511 non-null  float64\n",
      " 8   rented                           23511 non-null  float64\n",
      " 9   income_bracket                   23511 non-null  float64\n",
      " 10  ct_brands                        23511 non-null  int64  \n",
      " 11  sum_cp_used                      23511 non-null  float64\n",
      " 12  avg_sprice                       23511 non-null  float64\n",
      " 13  avg_odiscount                    23511 non-null  float64\n",
      " 14  avg_cdiscount                    23511 non-null  float64\n",
      " 15  ct_cat                           23511 non-null  int64  \n",
      " 16  duration                         23511 non-null  int64  \n",
      " 17  family_size_2                    23511 non-null  uint8  \n",
      " 18  no_of_children_0                 23511 non-null  uint8  \n",
      " 19  no_of_children_2                 23511 non-null  uint8  \n",
      " 20  no_of_children_3+                23511 non-null  uint8  \n",
      " 21  brand_type_Established           23511 non-null  uint8  \n",
      " 22  mode_cat_Dairy, Juices & Snacks  23511 non-null  uint8  \n",
      " 23  mode_cat_Flowers & Plants        23511 non-null  uint8  \n",
      " 24  mode_cat_Grocery                 23511 non-null  uint8  \n",
      " 25  mode_cat_Meat                    23511 non-null  uint8  \n",
      " 26  mode_cat_Natural Products        23511 non-null  uint8  \n",
      " 27  mode_cat_Packaged Meat           23511 non-null  uint8  \n",
      " 28  mode_cat_Pharmaceutical          23511 non-null  uint8  \n",
      " 29  mode_cat_Prepared Food           23511 non-null  uint8  \n",
      " 30  mode_cat_Seafood                 23511 non-null  uint8  \n",
      " 31  mode_cat_Skin & Hair Care        23511 non-null  uint8  \n",
      " 32  campaign_type_Y                  23511 non-null  uint8  \n",
      " 33  age_range_18-25                  23511 non-null  uint8  \n",
      " 34  age_range_26-35                  23511 non-null  uint8  \n",
      " 35  age_range_36-45                  23511 non-null  uint8  \n",
      " 36  age_range_46-55                  23511 non-null  uint8  \n",
      " 37  age_range_56-70                  23511 non-null  uint8  \n",
      " 38  age_range_70+                    23511 non-null  uint8  \n",
      " 39  marital_status_Married           23511 non-null  uint8  \n",
      " 40  marital_status_Single            23511 non-null  uint8  \n",
      "dtypes: float64(10), int64(7), uint8(24)\n",
      "memory usage: 3.8 MB\n"
     ]
    }
   ],
   "source": [
    "test_data = test[['id']].merge(x_reduced, on='id', how='left')\n",
    "test_data.info()"
   ]
  },
  {
   "cell_type": "markdown",
   "id": "aa910958",
   "metadata": {},
   "source": [
    "### Saving processed data to csv file"
   ]
  },
  {
   "cell_type": "code",
   "execution_count": 118,
   "id": "36975ff1",
   "metadata": {},
   "outputs": [],
   "source": [
    "import sqlite3\n",
    "con = sqlite3.connect('final_dataset.db')"
   ]
  },
  {
   "cell_type": "code",
   "execution_count": 119,
   "id": "54c51041",
   "metadata": {},
   "outputs": [
    {
     "name": "stderr",
     "output_type": "stream",
     "text": [
      "C:\\Users\\shubham.raut\\Anaconda3\\lib\\site-packages\\pandas\\core\\generic.py:2779: UserWarning: The spaces in these column names will not be changed. In pandas versions < 0.14, spaces were converted to underscores.\n",
      "  sql.to_sql(\n"
     ]
    }
   ],
   "source": [
    "train_data.to_sql('train', con, if_exists='replace', index = False)"
   ]
  },
  {
   "cell_type": "code",
   "execution_count": 120,
   "id": "2100bfb6",
   "metadata": {},
   "outputs": [],
   "source": [
    "test_data.to_sql('test', con, if_exists='replace', index = False)"
   ]
  },
  {
   "cell_type": "markdown",
   "id": "ed7b3494",
   "metadata": {},
   "source": [
    "## Performaing EDA "
   ]
  },
  {
   "cell_type": "markdown",
   "id": "b65761e2",
   "metadata": {},
   "source": [
    "### Q1 Can you provide customer insights (by demographics, income, personal life, lifestyle etc.) and their propensity to redeem a coupon "
   ]
  },
  {
   "cell_type": "code",
   "execution_count": 121,
   "id": "407b2802",
   "metadata": {},
   "outputs": [],
   "source": [
    "total_data = train[['id','redemption_status']].merge(total_data, on='id', how='left')"
   ]
  },
  {
   "cell_type": "code",
   "execution_count": 122,
   "id": "8d93259c",
   "metadata": {},
   "outputs": [
    {
     "name": "stdout",
     "output_type": "stream",
     "text": [
      "<class 'pandas.core.frame.DataFrame'>\n",
      "Int64Index: 54858 entries, 0 to 54857\n",
      "Data columns (total 45 columns):\n",
      " #   Column                   Non-Null Count  Dtype         \n",
      "---  ------                   --------------  -----         \n",
      " 0   id                       54858 non-null  int64         \n",
      " 1   redemption_status        54858 non-null  int64         \n",
      " 2   campaign_id              54858 non-null  int64         \n",
      " 3   coupon_id                54858 non-null  int64         \n",
      " 4   customer_id              54858 non-null  int64         \n",
      " 5   total_unique_items_cust  54858 non-null  int64         \n",
      " 6   total_items_cust         54858 non-null  int64         \n",
      " 7   avg_qnt_cust             54858 non-null  float64       \n",
      " 8   total_quantity_cust      54858 non-null  int64         \n",
      " 9   avg_cp_used_cust         54858 non-null  float64       \n",
      " 10  sum_cp_used_cust         54858 non-null  int64         \n",
      " 11  avg_sprice_cust          54858 non-null  float64       \n",
      " 12  avg_odiscount_cust       54858 non-null  float64       \n",
      " 13  sum_oth_discount_cust    54858 non-null  float64       \n",
      " 14  avg_cdiscount_cust       54858 non-null  float64       \n",
      " 15  sum_cp_discount_cust     54858 non-null  float64       \n",
      " 16  avg_tdiscount_cust       54858 non-null  float64       \n",
      " 17  sum_to_discount_cust     54858 non-null  float64       \n",
      " 18  sum_price_cust           54858 non-null  float64       \n",
      " 19  age_range                54858 non-null  object        \n",
      " 20  marital_status           54858 non-null  object        \n",
      " 21  rented                   54858 non-null  float64       \n",
      " 22  family_size              54858 non-null  object        \n",
      " 23  no_of_children           54858 non-null  object        \n",
      " 24  income_bracket           54858 non-null  float64       \n",
      " 25  ct_items                 54858 non-null  int64         \n",
      " 26  ct_brands                54858 non-null  int64         \n",
      " 27  brand_type               54858 non-null  object        \n",
      " 28  mode_cat                 54858 non-null  object        \n",
      " 29  count_order              54858 non-null  float64       \n",
      " 30  sum_cp_used              54858 non-null  float64       \n",
      " 31  total_cust               54858 non-null  float64       \n",
      " 32  avg_sprice               54858 non-null  float64       \n",
      " 33  avg_odiscount            54858 non-null  float64       \n",
      " 34  avg_cdiscount            54858 non-null  float64       \n",
      " 35  avg_tdiscount            54858 non-null  float64       \n",
      " 36  sum_cp_discount          54858 non-null  float64       \n",
      " 37  sum_oth_discount         54858 non-null  float64       \n",
      " 38  total_quantity           54858 non-null  float64       \n",
      " 39  sum_to_discount          54858 non-null  float64       \n",
      " 40  ct_cat                   54858 non-null  int64         \n",
      " 41  campaign_type            54858 non-null  object        \n",
      " 42  start_date               54858 non-null  datetime64[ns]\n",
      " 43  end_date                 54858 non-null  datetime64[ns]\n",
      " 44  duration                 54858 non-null  int64         \n",
      "dtypes: datetime64[ns](2), float64(23), int64(13), object(7)\n",
      "memory usage: 19.3+ MB\n"
     ]
    }
   ],
   "source": [
    "total_data.info()"
   ]
  },
  {
   "cell_type": "code",
   "execution_count": 123,
   "id": "f16cb4dc",
   "metadata": {},
   "outputs": [],
   "source": [
    "cp_not_used=total_data[total_data.redemption_status==0]\n",
    "cp_used=total_data[total_data.redemption_status==1]"
   ]
  },
  {
   "cell_type": "code",
   "execution_count": 124,
   "id": "b518051f",
   "metadata": {},
   "outputs": [
    {
     "data": {
      "text/plain": [
       "unknown    24277\n",
       "46-55      10425\n",
       "36-45       7732\n",
       "26-35       5524\n",
       "56-70       2540\n",
       "70+         2149\n",
       "18-25       1693\n",
       "Name: age_range, dtype: int64"
      ]
     },
     "execution_count": 124,
     "metadata": {},
     "output_type": "execute_result"
    }
   ],
   "source": [
    "cp_not_used.age_range.value_counts()"
   ]
  },
  {
   "cell_type": "code",
   "execution_count": 125,
   "id": "c7f31a91",
   "metadata": {},
   "outputs": [
    {
     "data": {
      "text/plain": [
       "46-55      144\n",
       "unknown    123\n",
       "36-45      101\n",
       "26-35       78\n",
       "56-70       36\n",
       "70+         23\n",
       "18-25       13\n",
       "Name: age_range, dtype: int64"
      ]
     },
     "execution_count": 125,
     "metadata": {},
     "output_type": "execute_result"
    }
   ],
   "source": [
    "cp_used.age_range.value_counts()"
   ]
  },
  {
   "cell_type": "code",
   "execution_count": 126,
   "id": "0e56bd7e",
   "metadata": {},
   "outputs": [
    {
     "data": {
      "text/plain": [
       "array(['46-55', 'unknown', '70+', '26-35', '36-45', '56-70', '18-25'],\n",
       "      dtype=object)"
      ]
     },
     "execution_count": 126,
     "metadata": {},
     "output_type": "execute_result"
    }
   ],
   "source": [
    "total_data.age_range.unique()"
   ]
  },
  {
   "cell_type": "code",
   "execution_count": 127,
   "id": "9323dfd7",
   "metadata": {},
   "outputs": [],
   "source": [
    "cp_not_used_age_ct = [1693, 5524, 7732, 10425, 2540, 2149]\n",
    "cp_used_age_ct = [13, 78, 101, 144, 36, 23]\n",
    "age_keys = [ '18-25', '26-35', '36-45', '46-55', '56-70', '70+']"
   ]
  },
  {
   "cell_type": "code",
   "execution_count": 128,
   "id": "91df266c",
   "metadata": {},
   "outputs": [
    {
     "data": {
      "text/plain": [
       "unknown    24400\n",
       "46-55      10569\n",
       "36-45       7833\n",
       "26-35       5602\n",
       "56-70       2576\n",
       "70+         2172\n",
       "18-25       1706\n",
       "Name: age_range, dtype: int64"
      ]
     },
     "execution_count": 128,
     "metadata": {},
     "output_type": "execute_result"
    }
   ],
   "source": [
    "total = total_data.age_range.value_counts()\n",
    "total"
   ]
  },
  {
   "cell_type": "code",
   "execution_count": 129,
   "id": "b2ddedbe",
   "metadata": {},
   "outputs": [
    {
     "data": {
      "text/plain": [
       "46-55      144\n",
       "unknown    123\n",
       "36-45      101\n",
       "26-35       78\n",
       "56-70       36\n",
       "70+         23\n",
       "18-25       13\n",
       "Name: age_range, dtype: int64"
      ]
     },
     "execution_count": 129,
     "metadata": {},
     "output_type": "execute_result"
    }
   ],
   "source": [
    "redeem = cp_used.age_range.value_counts()\n",
    "redeem"
   ]
  },
  {
   "cell_type": "code",
   "execution_count": 130,
   "id": "9dfe9af5",
   "metadata": {},
   "outputs": [
    {
     "data": {
      "text/plain": [
       "{'unknown': 0.5040983606557377,\n",
       " '46-55': 1.3624751632131706,\n",
       " '36-45': 1.2894165709179113,\n",
       " '26-35': 1.3923598714744734,\n",
       " '56-70': 1.3975155279503106,\n",
       " '70+': 1.0589318600368325,\n",
       " '18-25': 0.7620164126611958}"
      ]
     },
     "execution_count": 130,
     "metadata": {},
     "output_type": "execute_result"
    }
   ],
   "source": [
    "redeem_per = {}\n",
    "k = list(redeem.keys())\n",
    "for key, value in total.items():\n",
    "    if key in k:\n",
    "        redeem_per[key] = (redeem[key]/value)*100\n",
    "    else:\n",
    "                                  redeem_per[key] = 0\n",
    "                                  \n",
    "redeem_per"
   ]
  },
  {
   "cell_type": "code",
   "execution_count": 131,
   "id": "5fa58465",
   "metadata": {},
   "outputs": [
    {
     "data": {
      "image/png": "[encoded data removed]",
      "text/plain": [
       "<Figure size 1080x432 with 2 Axes>"
      ]
     },
     "metadata": {},
     "output_type": "display_data"
    }
   ],
   "source": [
    "fig, axes = plt.subplots(1,2, figsize =(15,6))\n",
    "\n",
    "axes[0].bar(age_keys,cp_not_used_age_ct,align ='center')\n",
    "axes[0].set_ylabel('transactions')\n",
    "axes[0].set_xlabel('age range')\n",
    "axes[0].set_title('coupon not used'.title())\n",
    "\n",
    "axes[1].bar(age_keys,cp_used_age_ct,align ='center')\n",
    "axes[1].set_ylabel('transactions')\n",
    "axes[1].set_xlabel('age range')\n",
    "axes[1].set_title('coupon used'.title())\n",
    "\n",
    "\n",
    "plt.suptitle('transaction counts by age range'.title(), fontsize = 20)\n",
    "plt.show()"
   ]
  },
  {
   "cell_type": "markdown",
   "id": "6d334024",
   "metadata": {},
   "source": [
    "Even though age group 46-55 have made the most redemptions. The age group 26-35, 36-45, 56-70 have almost same redemption percentage with respect to number of transactions in each age group."
   ]
  },
  {
   "cell_type": "code",
   "execution_count": 132,
   "id": "13f343ef",
   "metadata": {},
   "outputs": [
    {
     "data": {
      "text/plain": [
       "5.0     281\n",
       "6.0      65\n",
       "4.0      55\n",
       "3.0      23\n",
       "1.0      23\n",
       "9.0      19\n",
       "8.0      18\n",
       "2.0      18\n",
       "7.0      11\n",
       "10.0      5\n",
       "Name: income_bracket, dtype: int64"
      ]
     },
     "execution_count": 132,
     "metadata": {},
     "output_type": "execute_result"
    }
   ],
   "source": [
    "cp_used.income_bracket.value_counts()"
   ]
  },
  {
   "cell_type": "code",
   "execution_count": 133,
   "id": "94a708ad",
   "metadata": {},
   "outputs": [
    {
     "data": {
      "text/plain": [
       "5.0     31767\n",
       "4.0      6035\n",
       "6.0      3373\n",
       "2.0      2715\n",
       "3.0      2680\n",
       "1.0      2423\n",
       "8.0      1650\n",
       "9.0      1370\n",
       "7.0      1235\n",
       "12.0      570\n",
       "10.0      354\n",
       "11.0      168\n",
       "Name: income_bracket, dtype: int64"
      ]
     },
     "execution_count": 133,
     "metadata": {},
     "output_type": "execute_result"
    }
   ],
   "source": [
    "cp_not_used.income_bracket.value_counts()"
   ]
  },
  {
   "cell_type": "code",
   "execution_count": 134,
   "id": "7a52ebdf",
   "metadata": {},
   "outputs": [
    {
     "data": {
      "text/plain": [
       "5.0     32048\n",
       "4.0      6090\n",
       "6.0      3438\n",
       "2.0      2733\n",
       "3.0      2703\n",
       "1.0      2446\n",
       "8.0      1668\n",
       "9.0      1389\n",
       "7.0      1246\n",
       "12.0      570\n",
       "10.0      359\n",
       "11.0      168\n",
       "Name: income_bracket, dtype: int64"
      ]
     },
     "execution_count": 134,
     "metadata": {},
     "output_type": "execute_result"
    }
   ],
   "source": [
    "total = total_data.income_bracket.value_counts()\n",
    "total"
   ]
  },
  {
   "cell_type": "code",
   "execution_count": 135,
   "id": "af773a3b",
   "metadata": {},
   "outputs": [
    {
     "data": {
      "text/plain": [
       "5.0     281\n",
       "6.0      65\n",
       "4.0      55\n",
       "3.0      23\n",
       "1.0      23\n",
       "9.0      19\n",
       "8.0      18\n",
       "2.0      18\n",
       "7.0      11\n",
       "10.0      5\n",
       "Name: income_bracket, dtype: int64"
      ]
     },
     "execution_count": 135,
     "metadata": {},
     "output_type": "execute_result"
    }
   ],
   "source": [
    "redeem = cp_used.income_bracket.value_counts()\n",
    "redeem"
   ]
  },
  {
   "cell_type": "code",
   "execution_count": 136,
   "id": "565095c1",
   "metadata": {},
   "outputs": [
    {
     "data": {
      "text/plain": [
       "{5.0: 0.876809785322017,\n",
       " 4.0: 0.9031198686371099,\n",
       " 6.0: 1.890634089586969,\n",
       " 2.0: 0.6586169045005488,\n",
       " 3.0: 0.8509064002959674,\n",
       " 1.0: 0.9403107113654947,\n",
       " 8.0: 1.079136690647482,\n",
       " 9.0: 1.3678905687544995,\n",
       " 7.0: 0.8828250401284109,\n",
       " 12.0: 0,\n",
       " 10.0: 1.392757660167131,\n",
       " 11.0: 0}"
      ]
     },
     "execution_count": 136,
     "metadata": {},
     "output_type": "execute_result"
    }
   ],
   "source": [
    "redeem_per = {}\n",
    "k = list(redeem.keys())\n",
    "for key, value in total.items():\n",
    "    if key in k:\n",
    "        redeem_per[key] = (redeem[key]/value)*100\n",
    "    else:\n",
    "                                  redeem_per[key] = 0\n",
    "                                  \n",
    "redeem_per"
   ]
  },
  {
   "cell_type": "code",
   "execution_count": 137,
   "id": "33a8a214",
   "metadata": {},
   "outputs": [],
   "source": [
    "cp_not_used_income_ct = [2423, 2715, 2680, 6035, 31767, 3373, 1235, 1650, 1370, 354, 168, 570]\n",
    "cp_used_income_ct = [23, 18, 23, 55, 281, 65, 11, 18, 19, 5, 0, 0]\n",
    "income_keys = [ '1', '2', '3', '4', '5', '6', '7', '8', '9', '10', '11', '12']"
   ]
  },
  {
   "cell_type": "code",
   "execution_count": 138,
   "id": "33a68a5f",
   "metadata": {},
   "outputs": [
    {
     "data": {
      "image/png": "[encoded data removed]",
      "text/plain": [
       "<Figure size 1080x432 with 2 Axes>"
      ]
     },
     "metadata": {},
     "output_type": "display_data"
    }
   ],
   "source": [
    "\n",
    "fig, axes = plt.subplots(1,2, figsize =(15,6))\n",
    "axes[0].bar(income_keys,cp_not_used_income_ct,align ='center')\n",
    "axes[0].set_title('Not Redeemed')\n",
    "axes[0].set_xticks(range(1,13,1))\n",
    "axes[0].set_xlabel('Income Bracket')\n",
    "axes[1].bar(income_keys,cp_used_income_ct,align ='center')\n",
    "axes[1].set_title('Redeemed')\n",
    "axes[1].set_xticks(range(1,13,1))\n",
    "axes[1].set_xlabel('Income Bracket')\n",
    "plt.suptitle('Income bracket and redemption status'.title(),fontsize = 20)\n",
    "plt.show()"
   ]
  },
  {
   "cell_type": "markdown",
   "id": "50c8b762",
   "metadata": {},
   "source": [
    "In term of count, the income bracket 5 as most number of redemption. But when compare the redemption percentage with respect to number of transactions in each income bracket, the income bracket 6 as more redemption"
   ]
  },
  {
   "cell_type": "code",
   "execution_count": 139,
   "id": "60ef8120",
   "metadata": {},
   "outputs": [
    {
     "data": {
      "text/plain": [
       "unknown    36879\n",
       "Married    12886\n",
       "Single      4575\n",
       "Name: marital_status, dtype: int64"
      ]
     },
     "execution_count": 139,
     "metadata": {},
     "output_type": "execute_result"
    }
   ],
   "source": [
    "cp_not_used.marital_status.value_counts()"
   ]
  },
  {
   "cell_type": "code",
   "execution_count": 140,
   "id": "3ff13579",
   "metadata": {},
   "outputs": [
    {
     "data": {
      "text/plain": [
       "unknown    261\n",
       "Married    194\n",
       "Single      63\n",
       "Name: marital_status, dtype: int64"
      ]
     },
     "execution_count": 140,
     "metadata": {},
     "output_type": "execute_result"
    }
   ],
   "source": [
    "cp_used.marital_status.value_counts()"
   ]
  },
  {
   "cell_type": "code",
   "execution_count": 141,
   "id": "ef8f7d90",
   "metadata": {},
   "outputs": [],
   "source": [
    "cp_not_used_marital_ct = [12886, 4575]\n",
    "cp_used_marital_ct = [194, 63]\n",
    "marital_keys = [ 'Married', 'Single']"
   ]
  },
  {
   "cell_type": "code",
   "execution_count": 142,
   "id": "1da9b728",
   "metadata": {},
   "outputs": [
    {
     "data": {
      "image/png": "[encoded data removed]",
      "text/plain": [
       "<Figure size 1080x432 with 2 Axes>"
      ]
     },
     "metadata": {},
     "output_type": "display_data"
    }
   ],
   "source": [
    "fig, axes = plt.subplots(1,2, figsize =(15,6))\n",
    "\n",
    "axes[0].bar(marital_keys,cp_not_used_marital_ct,align ='center')\n",
    "axes[0].set_ylabel('transactions')\n",
    "axes[0].set_xlabel('marital status')\n",
    "axes[0].set_title('coupon not used'.title())\n",
    "\n",
    "axes[1].bar(marital_keys,cp_used_marital_ct,align ='center')\n",
    "axes[1].set_ylabel('transactions')\n",
    "axes[1].set_xlabel('age range')\n",
    "axes[1].set_title('coupon used'.title())\n",
    "\n",
    "\n",
    "plt.suptitle('transaction counts by marital status'.title(), fontsize = 20)\n",
    "plt.show()"
   ]
  },
  {
   "cell_type": "code",
   "execution_count": 143,
   "id": "fd81ca7e",
   "metadata": {},
   "outputs": [
    {
     "data": {
      "text/plain": [
       "1     33617\n",
       "2     11712\n",
       "3      4310\n",
       "5+     2600\n",
       "4      2101\n",
       "Name: family_size, dtype: int64"
      ]
     },
     "execution_count": 143,
     "metadata": {},
     "output_type": "execute_result"
    }
   ],
   "source": [
    "cp_not_used.family_size.value_counts()"
   ]
  },
  {
   "cell_type": "code",
   "execution_count": 144,
   "id": "a3200a99",
   "metadata": {},
   "outputs": [
    {
     "data": {
      "text/plain": [
       "1     245\n",
       "2     156\n",
       "4      43\n",
       "5+     37\n",
       "3      37\n",
       "Name: family_size, dtype: int64"
      ]
     },
     "execution_count": 144,
     "metadata": {},
     "output_type": "execute_result"
    }
   ],
   "source": [
    "redeem = cp_used.family_size.value_counts()\n",
    "redeem"
   ]
  },
  {
   "cell_type": "code",
   "execution_count": 145,
   "id": "935e4a9b",
   "metadata": {},
   "outputs": [
    {
     "data": {
      "text/plain": [
       "1     33862\n",
       "2     11868\n",
       "3      4347\n",
       "5+     2637\n",
       "4      2144\n",
       "Name: family_size, dtype: int64"
      ]
     },
     "execution_count": 145,
     "metadata": {},
     "output_type": "execute_result"
    }
   ],
   "source": [
    "total = total_data.family_size.value_counts()\n",
    "total"
   ]
  },
  {
   "cell_type": "code",
   "execution_count": 146,
   "id": "8d247651",
   "metadata": {},
   "outputs": [
    {
     "data": {
      "text/plain": [
       "{'1': 0.7235248951627192,\n",
       " '2': 1.314459049544995,\n",
       " '3': 0.8511617207269382,\n",
       " '5+': 1.4031095942358742,\n",
       " '4': 2.0055970149253732}"
      ]
     },
     "execution_count": 146,
     "metadata": {},
     "output_type": "execute_result"
    }
   ],
   "source": [
    "redeem_per = {}\n",
    "k = list(redeem.keys())\n",
    "for key, value in total.items():\n",
    "    if key in k:\n",
    "        redeem_per[key] = (redeem[key]/value)*100\n",
    "    else:\n",
    "                                  redeem_per[key] = 0\n",
    "                                  \n",
    "redeem_per"
   ]
  },
  {
   "cell_type": "code",
   "execution_count": 147,
   "id": "558ad0f1",
   "metadata": {},
   "outputs": [],
   "source": [
    "cp_used_family_ct = [245, 156, 37, 43, 37]\n",
    "cp_not_used_family_ct = [33617, 11712, 4310, 2101, 2600]\n",
    "family_keys = [ '1', '2', '3', '4', '5+']"
   ]
  },
  {
   "cell_type": "code",
   "execution_count": 148,
   "id": "a022a2bc",
   "metadata": {},
   "outputs": [
    {
     "data": {
      "image/png": "[encoded data removed]",
      "text/plain": [
       "<Figure size 1080x432 with 2 Axes>"
      ]
     },
     "metadata": {},
     "output_type": "display_data"
    }
   ],
   "source": [
    "fig, axes = plt.subplots(1,2, figsize =(15,6))\n",
    "\n",
    "axes[0].bar(family_keys,cp_not_used_family_ct,align ='center')\n",
    "axes[0].set_ylabel('transactions')\n",
    "axes[0].set_xlabel('family size')\n",
    "axes[0].set_title('coupon not used'.title())\n",
    "\n",
    "axes[1].bar(family_keys,cp_used_family_ct,align ='center')\n",
    "axes[1].set_ylabel('transactions')\n",
    "axes[1].set_xlabel('family size')\n",
    "axes[1].set_title('coupon used'.title())\n",
    "\n",
    "\n",
    "plt.suptitle('transaction counts by family size'.title(), fontsize = 20)\n",
    "plt.show()"
   ]
  },
  {
   "cell_type": "markdown",
   "id": "53180321",
   "metadata": {},
   "source": [
    "In term of count, the family size 1 as most number of redemption. But when compare to the redemption percentage with respect to number of transactions in each family size group, the family size 4 as more redemption."
   ]
  },
  {
   "cell_type": "markdown",
   "id": "b4cdc7f6",
   "metadata": {},
   "source": [
    "###  Q2 coupons should be used more by the organization in the upcoming days and which coupons the company should discard?"
   ]
  },
  {
   "cell_type": "code",
   "execution_count": 149,
   "id": "8e13ec52",
   "metadata": {
    "scrolled": true
   },
   "outputs": [
    {
     "data": {
      "text/html": [
       "<div>\n",
       "<style scoped>\n",
       "    .dataframe tbody tr th:only-of-type {\n",
       "        vertical-align: middle;\n",
       "    }\n",
       "\n",
       "    .dataframe tbody tr th {\n",
       "        vertical-align: top;\n",
       "    }\n",
       "\n",
       "    .dataframe thead th {\n",
       "        text-align: right;\n",
       "    }\n",
       "</style>\n",
       "<table border=\"1\" class=\"dataframe\">\n",
       "  <thead>\n",
       "    <tr style=\"text-align: right;\">\n",
       "      <th></th>\n",
       "      <th>coupon_id</th>\n",
       "      <th>item_id</th>\n",
       "      <th>total_unique_cust</th>\n",
       "      <th>total_cust</th>\n",
       "      <th>avg_order_qnt</th>\n",
       "      <th>total_quantity</th>\n",
       "      <th>count_order</th>\n",
       "      <th>sum_cp_used</th>\n",
       "      <th>avg_sprice</th>\n",
       "      <th>avg_odiscount</th>\n",
       "      <th>sum_oth_discount</th>\n",
       "      <th>avg_cdiscount</th>\n",
       "      <th>sum_cp_discount</th>\n",
       "      <th>avg_tdiscount</th>\n",
       "      <th>sum_to_discount</th>\n",
       "      <th>brand</th>\n",
       "      <th>brand_type</th>\n",
       "      <th>category</th>\n",
       "    </tr>\n",
       "  </thead>\n",
       "  <tbody>\n",
       "    <tr>\n",
       "      <th>0</th>\n",
       "      <td>105</td>\n",
       "      <td>37</td>\n",
       "      <td>2.0</td>\n",
       "      <td>7.0</td>\n",
       "      <td>2.285714</td>\n",
       "      <td>16.0</td>\n",
       "      <td>7.0</td>\n",
       "      <td>0.0</td>\n",
       "      <td>113.120000</td>\n",
       "      <td>-17.557143</td>\n",
       "      <td>-122.90</td>\n",
       "      <td>0.0</td>\n",
       "      <td>0.0</td>\n",
       "      <td>-17.557143</td>\n",
       "      <td>-122.90</td>\n",
       "      <td>56.0</td>\n",
       "      <td>Local</td>\n",
       "      <td>Grocery</td>\n",
       "    </tr>\n",
       "    <tr>\n",
       "      <th>1</th>\n",
       "      <td>107</td>\n",
       "      <td>75</td>\n",
       "      <td>4.0</td>\n",
       "      <td>33.0</td>\n",
       "      <td>1.363636</td>\n",
       "      <td>45.0</td>\n",
       "      <td>33.0</td>\n",
       "      <td>0.0</td>\n",
       "      <td>47.787273</td>\n",
       "      <td>-5.159394</td>\n",
       "      <td>-170.26</td>\n",
       "      <td>0.0</td>\n",
       "      <td>0.0</td>\n",
       "      <td>-5.159394</td>\n",
       "      <td>-170.26</td>\n",
       "      <td>56.0</td>\n",
       "      <td>Local</td>\n",
       "      <td>Grocery</td>\n",
       "    </tr>\n",
       "    <tr>\n",
       "      <th>2</th>\n",
       "      <td>494</td>\n",
       "      <td>76</td>\n",
       "      <td>1.0</td>\n",
       "      <td>1.0</td>\n",
       "      <td>1.000000</td>\n",
       "      <td>1.0</td>\n",
       "      <td>1.0</td>\n",
       "      <td>0.0</td>\n",
       "      <td>89.050000</td>\n",
       "      <td>-17.450000</td>\n",
       "      <td>-17.45</td>\n",
       "      <td>0.0</td>\n",
       "      <td>0.0</td>\n",
       "      <td>-17.450000</td>\n",
       "      <td>-17.45</td>\n",
       "      <td>209.0</td>\n",
       "      <td>Established</td>\n",
       "      <td>Grocery</td>\n",
       "    </tr>\n",
       "    <tr>\n",
       "      <th>3</th>\n",
       "      <td>522</td>\n",
       "      <td>77</td>\n",
       "      <td>2.0</td>\n",
       "      <td>2.0</td>\n",
       "      <td>1.000000</td>\n",
       "      <td>2.0</td>\n",
       "      <td>2.0</td>\n",
       "      <td>0.0</td>\n",
       "      <td>70.350000</td>\n",
       "      <td>-16.920000</td>\n",
       "      <td>-33.84</td>\n",
       "      <td>0.0</td>\n",
       "      <td>0.0</td>\n",
       "      <td>-16.920000</td>\n",
       "      <td>-33.84</td>\n",
       "      <td>278.0</td>\n",
       "      <td>Established</td>\n",
       "      <td>Grocery</td>\n",
       "    </tr>\n",
       "    <tr>\n",
       "      <th>4</th>\n",
       "      <td>518</td>\n",
       "      <td>77</td>\n",
       "      <td>2.0</td>\n",
       "      <td>2.0</td>\n",
       "      <td>1.000000</td>\n",
       "      <td>2.0</td>\n",
       "      <td>2.0</td>\n",
       "      <td>0.0</td>\n",
       "      <td>70.350000</td>\n",
       "      <td>-16.920000</td>\n",
       "      <td>-33.84</td>\n",
       "      <td>0.0</td>\n",
       "      <td>0.0</td>\n",
       "      <td>-16.920000</td>\n",
       "      <td>-33.84</td>\n",
       "      <td>278.0</td>\n",
       "      <td>Established</td>\n",
       "      <td>Grocery</td>\n",
       "    </tr>\n",
       "  </tbody>\n",
       "</table>\n",
       "</div>"
      ],
      "text/plain": [
       "   coupon_id  item_id  total_unique_cust  total_cust  avg_order_qnt  \\\n",
       "0        105       37                2.0         7.0       2.285714   \n",
       "1        107       75                4.0        33.0       1.363636   \n",
       "2        494       76                1.0         1.0       1.000000   \n",
       "3        522       77                2.0         2.0       1.000000   \n",
       "4        518       77                2.0         2.0       1.000000   \n",
       "\n",
       "   total_quantity  count_order  sum_cp_used  avg_sprice  avg_odiscount  \\\n",
       "0            16.0          7.0          0.0  113.120000     -17.557143   \n",
       "1            45.0         33.0          0.0   47.787273      -5.159394   \n",
       "2             1.0          1.0          0.0   89.050000     -17.450000   \n",
       "3             2.0          2.0          0.0   70.350000     -16.920000   \n",
       "4             2.0          2.0          0.0   70.350000     -16.920000   \n",
       "\n",
       "   sum_oth_discount  avg_cdiscount  sum_cp_discount  avg_tdiscount  \\\n",
       "0           -122.90            0.0              0.0     -17.557143   \n",
       "1           -170.26            0.0              0.0      -5.159394   \n",
       "2            -17.45            0.0              0.0     -17.450000   \n",
       "3            -33.84            0.0              0.0     -16.920000   \n",
       "4            -33.84            0.0              0.0     -16.920000   \n",
       "\n",
       "   sum_to_discount  brand   brand_type category  \n",
       "0          -122.90   56.0        Local  Grocery  \n",
       "1          -170.26   56.0        Local  Grocery  \n",
       "2           -17.45  209.0  Established  Grocery  \n",
       "3           -33.84  278.0  Established  Grocery  \n",
       "4           -33.84  278.0  Established  Grocery  "
      ]
     },
     "execution_count": 149,
     "metadata": {},
     "output_type": "execute_result"
    }
   ],
   "source": [
    "cp_item_tran.head()"
   ]
  },
  {
   "cell_type": "code",
   "execution_count": 150,
   "id": "7ce220cb",
   "metadata": {},
   "outputs": [],
   "source": [
    "#len(train_cp_item_tran.customer_id.unique())"
   ]
  },
  {
   "cell_type": "code",
   "execution_count": 151,
   "id": "31eadce1",
   "metadata": {},
   "outputs": [],
   "source": [
    "not_redeemed = cp_item_tran[cp_item_tran.sum_cp_used == 0]\n",
    "redeemed = cp_item_tran[cp_item_tran.sum_cp_used > 0]"
   ]
  },
  {
   "cell_type": "code",
   "execution_count": 152,
   "id": "0e6f7752",
   "metadata": {},
   "outputs": [],
   "source": [
    "total = cp_item_tran.category.value_counts()"
   ]
  },
  {
   "cell_type": "code",
   "execution_count": 153,
   "id": "55edfd6c",
   "metadata": {},
   "outputs": [],
   "source": [
    "redeem = redeemed.category.value_counts()"
   ]
  },
  {
   "cell_type": "code",
   "execution_count": 154,
   "id": "13c9b495",
   "metadata": {},
   "outputs": [
    {
     "data": {
      "text/plain": [
       "{'Grocery': 22.192359377999615,\n",
       " 'Pharmaceutical': 14.371807151979565,\n",
       " 'Natural Products': 5.08872268661094,\n",
       " 'Meat': 0.24123512383403023,\n",
       " 'Packaged Meat': 15.087890625,\n",
       " 'Skin & Hair Care': 3.5337124289195776,\n",
       " 'Seafood': 12.393354288280198,\n",
       " 'Flowers & Plants': 0.15282730514518594,\n",
       " 'Dairy, Juices & Snacks': 2.196036422067488,\n",
       " 'Garden': 0,\n",
       " 'Prepared Food': 10.833333333333334,\n",
       " 'Miscellaneous': 1.6304347826086956,\n",
       " 'Bakery': 4.0,\n",
       " 'Salads': 0,\n",
       " 'Travel': 0,\n",
       " 'Vegetables (cut)': 0,\n",
       " 'Restauarant': 0}"
      ]
     },
     "execution_count": 154,
     "metadata": {},
     "output_type": "execute_result"
    }
   ],
   "source": [
    "redeem_per = {}\n",
    "k = list(redeem.keys())\n",
    "for key, value in total.items():\n",
    "    if key in k:\n",
    "        redeem_per[key] = (redeem[key]/value)*100\n",
    "    else:\n",
    "                                  redeem_per[key] = 0\n",
    "                                  \n",
    "redeem_per"
   ]
  },
  {
   "cell_type": "code",
   "execution_count": 155,
   "id": "902a7627",
   "metadata": {},
   "outputs": [
    {
     "data": {
      "text/plain": [
       "Grocery                   28371\n",
       "Pharmaceutical            21455\n",
       "Natural Products           6472\n",
       "Meat                       6203\n",
       "Packaged Meat              5217\n",
       "Skin & Hair Care           4750\n",
       "Flowers & Plants           1960\n",
       "Seafood                    1951\n",
       "Dairy, Juices & Snacks     1826\n",
       "Garden                      286\n",
       "Prepared Food               214\n",
       "Miscellaneous               181\n",
       "Salads                      100\n",
       "Bakery                       96\n",
       "Travel                       44\n",
       "Vegetables (cut)             19\n",
       "Restauarant                   1\n",
       "Name: category, dtype: int64"
      ]
     },
     "execution_count": 155,
     "metadata": {},
     "output_type": "execute_result"
    }
   ],
   "source": [
    "not_redeemed.category.value_counts()"
   ]
  },
  {
   "cell_type": "code",
   "execution_count": 156,
   "id": "41870aee",
   "metadata": {},
   "outputs": [
    {
     "data": {
      "image/png": "[encoded data removed]",
      "text/plain": [
       "<Figure size 921.6x633.6 with 1 Axes>"
      ]
     },
     "metadata": {},
     "output_type": "display_data"
    }
   ],
   "source": [
    "plt.bar(range(len(redeem_per)), list(redeem_per.values()), align='center')\n",
    "plt.xticks(range(len(redeem_per)), list(redeem_per.keys()), rotation= 90)\n",
    "plt.show()"
   ]
  },
  {
   "cell_type": "markdown",
   "id": "7200b11e",
   "metadata": {},
   "source": [
    "1. Coupons are applied to Garden, Salads, Travel, Vegetables, Restaurant are never redeemed. So this coupons can be discarded.\n",
    "2. 22% out of total coupon applied to grocery is redeemed. Similar 14% out of total coupons applied to the Pharmaceutical is redeemed.  so the organization should focus on the coupon that applies to this category.\n"
   ]
  },
  {
   "cell_type": "markdown",
   "id": "c17ac072",
   "metadata": {},
   "source": [
    "### Q3 profile the products/items based on various characteristics like price, item category, propensity to be sold, discount percentage"
   ]
  },
  {
   "cell_type": "code",
   "execution_count": 157,
   "id": "b1bba5b5",
   "metadata": {},
   "outputs": [
    {
     "name": "stdout",
     "output_type": "stream",
     "text": [
      "<class 'pandas.core.frame.DataFrame'>\n",
      "RangeIndex: 74066 entries, 0 to 74065\n",
      "Data columns (total 4 columns):\n",
      " #   Column      Non-Null Count  Dtype \n",
      "---  ------      --------------  ----- \n",
      " 0   item_id     74066 non-null  int64 \n",
      " 1   brand       74066 non-null  int64 \n",
      " 2   brand_type  74066 non-null  object\n",
      " 3   category    74066 non-null  object\n",
      "dtypes: int64(2), object(2)\n",
      "memory usage: 2.3+ MB\n"
     ]
    }
   ],
   "source": [
    "items.info()"
   ]
  },
  {
   "cell_type": "code",
   "execution_count": 158,
   "id": "4c38df23",
   "metadata": {},
   "outputs": [
    {
     "name": "stdout",
     "output_type": "stream",
     "text": [
      "<class 'pandas.core.frame.DataFrame'>\n",
      "Int64Index: 74063 entries, 0 to 74062\n",
      "Data columns (total 17 columns):\n",
      " #   Column                Non-Null Count  Dtype  \n",
      "---  ------                --------------  -----  \n",
      " 0   item_id               74063 non-null  int64  \n",
      " 1   total_unique_cust_it  74063 non-null  int64  \n",
      " 2   total_cust_it         74063 non-null  int64  \n",
      " 3   avg_order_qnt_it      74063 non-null  float64\n",
      " 4   total_quantity_it     74063 non-null  int64  \n",
      " 5   count_order_it        74063 non-null  int64  \n",
      " 6   sum_cp_used_it        74063 non-null  int64  \n",
      " 7   avg_sprice_it         74063 non-null  float64\n",
      " 8   avg_odiscount_it      74063 non-null  float64\n",
      " 9   sum_oth_discount_it   74063 non-null  float64\n",
      " 10  avg_cdiscount_it      74063 non-null  float64\n",
      " 11  sum_cp_discount_it    74063 non-null  float64\n",
      " 12  avg_tdiscount_it      74063 non-null  float64\n",
      " 13  sum_to_discount_it    74063 non-null  float64\n",
      " 14  brand                 74063 non-null  int64  \n",
      " 15  brand_type            74063 non-null  object \n",
      " 16  category              74063 non-null  object \n",
      "dtypes: float64(8), int64(7), object(2)\n",
      "memory usage: 10.2+ MB\n"
     ]
    }
   ],
   "source": [
    "item_tran.info()"
   ]
  },
  {
   "cell_type": "code",
   "execution_count": 159,
   "id": "d76b8b9d",
   "metadata": {},
   "outputs": [
    {
     "data": {
      "text/plain": [
       "{1192, 42649, 70763}"
      ]
     },
     "execution_count": 159,
     "metadata": {},
     "output_type": "execute_result"
    }
   ],
   "source": [
    "set(items.item_id.unique())- set(item_tran.item_id.unique())"
   ]
  },
  {
   "cell_type": "markdown",
   "id": "267d3694",
   "metadata": {},
   "source": [
    "3 items are never bought "
   ]
  },
  {
   "cell_type": "code",
   "execution_count": 160,
   "id": "c32b0511",
   "metadata": {},
   "outputs": [],
   "source": [
    "cp_used_item = item_tran[item_tran.avg_cdiscount_it < 0]\n",
    "cp_not_used_item = item_tran[item_tran.avg_cdiscount_it == 0]"
   ]
  },
  {
   "cell_type": "code",
   "execution_count": 161,
   "id": "49312d88",
   "metadata": {},
   "outputs": [
    {
     "data": {
      "text/html": [
       "<div>\n",
       "<style scoped>\n",
       "    .dataframe tbody tr th:only-of-type {\n",
       "        vertical-align: middle;\n",
       "    }\n",
       "\n",
       "    .dataframe tbody tr th {\n",
       "        vertical-align: top;\n",
       "    }\n",
       "\n",
       "    .dataframe thead th {\n",
       "        text-align: right;\n",
       "    }\n",
       "</style>\n",
       "<table border=\"1\" class=\"dataframe\">\n",
       "  <thead>\n",
       "    <tr style=\"text-align: right;\">\n",
       "      <th></th>\n",
       "      <th>item_id</th>\n",
       "      <th>total_unique_cust_it</th>\n",
       "      <th>total_cust_it</th>\n",
       "      <th>avg_order_qnt_it</th>\n",
       "      <th>total_quantity_it</th>\n",
       "      <th>count_order_it</th>\n",
       "      <th>sum_cp_used_it</th>\n",
       "      <th>avg_sprice_it</th>\n",
       "      <th>avg_odiscount_it</th>\n",
       "      <th>sum_oth_discount_it</th>\n",
       "      <th>avg_cdiscount_it</th>\n",
       "      <th>sum_cp_discount_it</th>\n",
       "      <th>avg_tdiscount_it</th>\n",
       "      <th>sum_to_discount_it</th>\n",
       "      <th>brand</th>\n",
       "      <th>brand_type</th>\n",
       "      <th>category</th>\n",
       "    </tr>\n",
       "  </thead>\n",
       "  <tbody>\n",
       "    <tr>\n",
       "      <th>0</th>\n",
       "      <td>1</td>\n",
       "      <td>2</td>\n",
       "      <td>2</td>\n",
       "      <td>1.0</td>\n",
       "      <td>2</td>\n",
       "      <td>2</td>\n",
       "      <td>0</td>\n",
       "      <td>124.31</td>\n",
       "      <td>0.0</td>\n",
       "      <td>0.0</td>\n",
       "      <td>0.0</td>\n",
       "      <td>0.0</td>\n",
       "      <td>0.0</td>\n",
       "      <td>0.0</td>\n",
       "      <td>1</td>\n",
       "      <td>Established</td>\n",
       "      <td>Grocery</td>\n",
       "    </tr>\n",
       "    <tr>\n",
       "      <th>1</th>\n",
       "      <td>2</td>\n",
       "      <td>1</td>\n",
       "      <td>1</td>\n",
       "      <td>1.0</td>\n",
       "      <td>1</td>\n",
       "      <td>1</td>\n",
       "      <td>0</td>\n",
       "      <td>35.26</td>\n",
       "      <td>0.0</td>\n",
       "      <td>0.0</td>\n",
       "      <td>0.0</td>\n",
       "      <td>0.0</td>\n",
       "      <td>0.0</td>\n",
       "      <td>0.0</td>\n",
       "      <td>1</td>\n",
       "      <td>Established</td>\n",
       "      <td>Miscellaneous</td>\n",
       "    </tr>\n",
       "    <tr>\n",
       "      <th>2</th>\n",
       "      <td>3</td>\n",
       "      <td>1</td>\n",
       "      <td>1</td>\n",
       "      <td>1.0</td>\n",
       "      <td>1</td>\n",
       "      <td>1</td>\n",
       "      <td>0</td>\n",
       "      <td>56.64</td>\n",
       "      <td>0.0</td>\n",
       "      <td>0.0</td>\n",
       "      <td>0.0</td>\n",
       "      <td>0.0</td>\n",
       "      <td>0.0</td>\n",
       "      <td>0.0</td>\n",
       "      <td>56</td>\n",
       "      <td>Local</td>\n",
       "      <td>Bakery</td>\n",
       "    </tr>\n",
       "    <tr>\n",
       "      <th>3</th>\n",
       "      <td>4</td>\n",
       "      <td>1</td>\n",
       "      <td>1</td>\n",
       "      <td>1.0</td>\n",
       "      <td>1</td>\n",
       "      <td>1</td>\n",
       "      <td>0</td>\n",
       "      <td>54.85</td>\n",
       "      <td>0.0</td>\n",
       "      <td>0.0</td>\n",
       "      <td>0.0</td>\n",
       "      <td>0.0</td>\n",
       "      <td>0.0</td>\n",
       "      <td>0.0</td>\n",
       "      <td>56</td>\n",
       "      <td>Local</td>\n",
       "      <td>Grocery</td>\n",
       "    </tr>\n",
       "    <tr>\n",
       "      <th>4</th>\n",
       "      <td>5</td>\n",
       "      <td>1</td>\n",
       "      <td>1</td>\n",
       "      <td>1.0</td>\n",
       "      <td>1</td>\n",
       "      <td>1</td>\n",
       "      <td>0</td>\n",
       "      <td>81.57</td>\n",
       "      <td>0.0</td>\n",
       "      <td>0.0</td>\n",
       "      <td>0.0</td>\n",
       "      <td>0.0</td>\n",
       "      <td>0.0</td>\n",
       "      <td>0.0</td>\n",
       "      <td>56</td>\n",
       "      <td>Local</td>\n",
       "      <td>Grocery</td>\n",
       "    </tr>\n",
       "    <tr>\n",
       "      <th>...</th>\n",
       "      <td>...</td>\n",
       "      <td>...</td>\n",
       "      <td>...</td>\n",
       "      <td>...</td>\n",
       "      <td>...</td>\n",
       "      <td>...</td>\n",
       "      <td>...</td>\n",
       "      <td>...</td>\n",
       "      <td>...</td>\n",
       "      <td>...</td>\n",
       "      <td>...</td>\n",
       "      <td>...</td>\n",
       "      <td>...</td>\n",
       "      <td>...</td>\n",
       "      <td>...</td>\n",
       "      <td>...</td>\n",
       "      <td>...</td>\n",
       "    </tr>\n",
       "    <tr>\n",
       "      <th>74058</th>\n",
       "      <td>74062</td>\n",
       "      <td>1</td>\n",
       "      <td>1</td>\n",
       "      <td>1.0</td>\n",
       "      <td>1</td>\n",
       "      <td>1</td>\n",
       "      <td>0</td>\n",
       "      <td>447.03</td>\n",
       "      <td>0.0</td>\n",
       "      <td>0.0</td>\n",
       "      <td>0.0</td>\n",
       "      <td>0.0</td>\n",
       "      <td>0.0</td>\n",
       "      <td>0.0</td>\n",
       "      <td>5490</td>\n",
       "      <td>Established</td>\n",
       "      <td>Pharmaceutical</td>\n",
       "    </tr>\n",
       "    <tr>\n",
       "      <th>74059</th>\n",
       "      <td>74063</td>\n",
       "      <td>1</td>\n",
       "      <td>1</td>\n",
       "      <td>1.0</td>\n",
       "      <td>1</td>\n",
       "      <td>1</td>\n",
       "      <td>0</td>\n",
       "      <td>414.97</td>\n",
       "      <td>0.0</td>\n",
       "      <td>0.0</td>\n",
       "      <td>0.0</td>\n",
       "      <td>0.0</td>\n",
       "      <td>0.0</td>\n",
       "      <td>0.0</td>\n",
       "      <td>5497</td>\n",
       "      <td>Established</td>\n",
       "      <td>Pharmaceutical</td>\n",
       "    </tr>\n",
       "    <tr>\n",
       "      <th>74060</th>\n",
       "      <td>74064</td>\n",
       "      <td>1</td>\n",
       "      <td>1</td>\n",
       "      <td>1.0</td>\n",
       "      <td>1</td>\n",
       "      <td>1</td>\n",
       "      <td>0</td>\n",
       "      <td>414.97</td>\n",
       "      <td>0.0</td>\n",
       "      <td>0.0</td>\n",
       "      <td>0.0</td>\n",
       "      <td>0.0</td>\n",
       "      <td>0.0</td>\n",
       "      <td>0.0</td>\n",
       "      <td>5497</td>\n",
       "      <td>Established</td>\n",
       "      <td>Pharmaceutical</td>\n",
       "    </tr>\n",
       "    <tr>\n",
       "      <th>74061</th>\n",
       "      <td>74065</td>\n",
       "      <td>1</td>\n",
       "      <td>1</td>\n",
       "      <td>1.0</td>\n",
       "      <td>1</td>\n",
       "      <td>1</td>\n",
       "      <td>0</td>\n",
       "      <td>127.88</td>\n",
       "      <td>0.0</td>\n",
       "      <td>0.0</td>\n",
       "      <td>0.0</td>\n",
       "      <td>0.0</td>\n",
       "      <td>0.0</td>\n",
       "      <td>0.0</td>\n",
       "      <td>5520</td>\n",
       "      <td>Established</td>\n",
       "      <td>Pharmaceutical</td>\n",
       "    </tr>\n",
       "    <tr>\n",
       "      <th>74062</th>\n",
       "      <td>74066</td>\n",
       "      <td>1</td>\n",
       "      <td>1</td>\n",
       "      <td>1.0</td>\n",
       "      <td>1</td>\n",
       "      <td>1</td>\n",
       "      <td>0</td>\n",
       "      <td>124.31</td>\n",
       "      <td>0.0</td>\n",
       "      <td>0.0</td>\n",
       "      <td>0.0</td>\n",
       "      <td>0.0</td>\n",
       "      <td>0.0</td>\n",
       "      <td>0.0</td>\n",
       "      <td>5194</td>\n",
       "      <td>Established</td>\n",
       "      <td>Grocery</td>\n",
       "    </tr>\n",
       "  </tbody>\n",
       "</table>\n",
       "<p>66714 rows × 17 columns</p>\n",
       "</div>"
      ],
      "text/plain": [
       "       item_id  total_unique_cust_it  total_cust_it  avg_order_qnt_it  \\\n",
       "0            1                     2              2               1.0   \n",
       "1            2                     1              1               1.0   \n",
       "2            3                     1              1               1.0   \n",
       "3            4                     1              1               1.0   \n",
       "4            5                     1              1               1.0   \n",
       "...        ...                   ...            ...               ...   \n",
       "74058    74062                     1              1               1.0   \n",
       "74059    74063                     1              1               1.0   \n",
       "74060    74064                     1              1               1.0   \n",
       "74061    74065                     1              1               1.0   \n",
       "74062    74066                     1              1               1.0   \n",
       "\n",
       "       total_quantity_it  count_order_it  sum_cp_used_it  avg_sprice_it  \\\n",
       "0                      2               2               0         124.31   \n",
       "1                      1               1               0          35.26   \n",
       "2                      1               1               0          56.64   \n",
       "3                      1               1               0          54.85   \n",
       "4                      1               1               0          81.57   \n",
       "...                  ...             ...             ...            ...   \n",
       "74058                  1               1               0         447.03   \n",
       "74059                  1               1               0         414.97   \n",
       "74060                  1               1               0         414.97   \n",
       "74061                  1               1               0         127.88   \n",
       "74062                  1               1               0         124.31   \n",
       "\n",
       "       avg_odiscount_it  sum_oth_discount_it  avg_cdiscount_it  \\\n",
       "0                   0.0                  0.0               0.0   \n",
       "1                   0.0                  0.0               0.0   \n",
       "2                   0.0                  0.0               0.0   \n",
       "3                   0.0                  0.0               0.0   \n",
       "4                   0.0                  0.0               0.0   \n",
       "...                 ...                  ...               ...   \n",
       "74058               0.0                  0.0               0.0   \n",
       "74059               0.0                  0.0               0.0   \n",
       "74060               0.0                  0.0               0.0   \n",
       "74061               0.0                  0.0               0.0   \n",
       "74062               0.0                  0.0               0.0   \n",
       "\n",
       "       sum_cp_discount_it  avg_tdiscount_it  sum_to_discount_it  brand  \\\n",
       "0                     0.0               0.0                 0.0      1   \n",
       "1                     0.0               0.0                 0.0      1   \n",
       "2                     0.0               0.0                 0.0     56   \n",
       "3                     0.0               0.0                 0.0     56   \n",
       "4                     0.0               0.0                 0.0     56   \n",
       "...                   ...               ...                 ...    ...   \n",
       "74058                 0.0               0.0                 0.0   5490   \n",
       "74059                 0.0               0.0                 0.0   5497   \n",
       "74060                 0.0               0.0                 0.0   5497   \n",
       "74061                 0.0               0.0                 0.0   5520   \n",
       "74062                 0.0               0.0                 0.0   5194   \n",
       "\n",
       "        brand_type        category  \n",
       "0      Established         Grocery  \n",
       "1      Established   Miscellaneous  \n",
       "2            Local          Bakery  \n",
       "3            Local         Grocery  \n",
       "4            Local         Grocery  \n",
       "...            ...             ...  \n",
       "74058  Established  Pharmaceutical  \n",
       "74059  Established  Pharmaceutical  \n",
       "74060  Established  Pharmaceutical  \n",
       "74061  Established  Pharmaceutical  \n",
       "74062  Established         Grocery  \n",
       "\n",
       "[66714 rows x 17 columns]"
      ]
     },
     "execution_count": 161,
     "metadata": {},
     "output_type": "execute_result"
    }
   ],
   "source": [
    "cp_not_used_item"
   ]
  },
  {
   "cell_type": "code",
   "execution_count": 162,
   "id": "90cfb211",
   "metadata": {},
   "outputs": [
    {
     "data": {
      "image/png": "[encoded data removed]",
      "text/plain": [
       "<Figure size 921.6x633.6 with 1 Axes>"
      ]
     },
     "metadata": {},
     "output_type": "display_data"
    },
    {
     "data": {
      "image/png": "[encoded data removed]",
      "text/plain": [
       "<Figure size 921.6x633.6 with 1 Axes>"
      ]
     },
     "metadata": {},
     "output_type": "display_data"
    }
   ],
   "source": [
    "cp_not_used_item.category.value_counts().plot(kind='barh')\n",
    "plt.ylabel('category')\n",
    "plt.xlabel('Number of transaction')\n",
    "plt.title('Distribution of coupon not used category')\n",
    "plt.gca().invert_yaxis()\n",
    "plt.show()\n",
    "\n",
    "cp_used_item.category.value_counts().plot(kind='barh')\n",
    "plt.ylabel('category')\n",
    "plt.xlabel('Number of transaction')\n",
    "plt.title('Distribution of coupon used category')\n",
    "plt.gca().invert_yaxis()\n",
    "plt.show()"
   ]
  },
  {
   "cell_type": "code",
   "execution_count": 163,
   "id": "c60adfa0",
   "metadata": {},
   "outputs": [
    {
     "data": {
      "text/html": [
       "<div>\n",
       "<style scoped>\n",
       "    .dataframe tbody tr th:only-of-type {\n",
       "        vertical-align: middle;\n",
       "    }\n",
       "\n",
       "    .dataframe tbody tr th {\n",
       "        vertical-align: top;\n",
       "    }\n",
       "\n",
       "    .dataframe thead th {\n",
       "        text-align: right;\n",
       "    }\n",
       "</style>\n",
       "<table border=\"1\" class=\"dataframe\">\n",
       "  <thead>\n",
       "    <tr style=\"text-align: right;\">\n",
       "      <th></th>\n",
       "      <th>category</th>\n",
       "      <th>total_quantity_it</th>\n",
       "      <th>avg_sprice_it</th>\n",
       "      <th>avg_cdiscount_it</th>\n",
       "      <th>avg_tdiscount_it</th>\n",
       "    </tr>\n",
       "  </thead>\n",
       "  <tbody>\n",
       "    <tr>\n",
       "      <th>0</th>\n",
       "      <td>Alcohol</td>\n",
       "      <td>1477</td>\n",
       "      <td>417.714023</td>\n",
       "      <td>0.000000</td>\n",
       "      <td>0.000000</td>\n",
       "    </tr>\n",
       "    <tr>\n",
       "      <th>1</th>\n",
       "      <td>Bakery</td>\n",
       "      <td>25075</td>\n",
       "      <td>151.190944</td>\n",
       "      <td>-0.192510</td>\n",
       "      <td>-8.746895</td>\n",
       "    </tr>\n",
       "    <tr>\n",
       "      <th>2</th>\n",
       "      <td>Dairy, Juices &amp; Snacks</td>\n",
       "      <td>27552</td>\n",
       "      <td>114.594640</td>\n",
       "      <td>-0.352278</td>\n",
       "      <td>-12.563067</td>\n",
       "    </tr>\n",
       "    <tr>\n",
       "      <th>3</th>\n",
       "      <td>Flowers &amp; Plants</td>\n",
       "      <td>1898</td>\n",
       "      <td>294.004271</td>\n",
       "      <td>-0.227718</td>\n",
       "      <td>-3.476986</td>\n",
       "    </tr>\n",
       "    <tr>\n",
       "      <th>4</th>\n",
       "      <td>Fuel</td>\n",
       "      <td>149824927</td>\n",
       "      <td>922.266845</td>\n",
       "      <td>0.000000</td>\n",
       "      <td>-15.171091</td>\n",
       "    </tr>\n",
       "    <tr>\n",
       "      <th>5</th>\n",
       "      <td>Garden</td>\n",
       "      <td>782</td>\n",
       "      <td>294.003772</td>\n",
       "      <td>0.000000</td>\n",
       "      <td>-3.149550</td>\n",
       "    </tr>\n",
       "    <tr>\n",
       "      <th>6</th>\n",
       "      <td>Grocery</td>\n",
       "      <td>1244334</td>\n",
       "      <td>113.577965</td>\n",
       "      <td>-0.901865</td>\n",
       "      <td>-15.440343</td>\n",
       "    </tr>\n",
       "    <tr>\n",
       "      <th>7</th>\n",
       "      <td>Meat</td>\n",
       "      <td>30585</td>\n",
       "      <td>234.112445</td>\n",
       "      <td>-0.037632</td>\n",
       "      <td>-38.392421</td>\n",
       "    </tr>\n",
       "    <tr>\n",
       "      <th>8</th>\n",
       "      <td>Miscellaneous</td>\n",
       "      <td>21543590</td>\n",
       "      <td>270.771669</td>\n",
       "      <td>-0.104078</td>\n",
       "      <td>-7.006095</td>\n",
       "    </tr>\n",
       "    <tr>\n",
       "      <th>9</th>\n",
       "      <td>Natural Products</td>\n",
       "      <td>66454</td>\n",
       "      <td>89.470040</td>\n",
       "      <td>-0.315702</td>\n",
       "      <td>-9.709971</td>\n",
       "    </tr>\n",
       "    <tr>\n",
       "      <th>10</th>\n",
       "      <td>Packaged Meat</td>\n",
       "      <td>86562</td>\n",
       "      <td>129.250974</td>\n",
       "      <td>-0.734567</td>\n",
       "      <td>-26.648926</td>\n",
       "    </tr>\n",
       "    <tr>\n",
       "      <th>11</th>\n",
       "      <td>Pharmaceutical</td>\n",
       "      <td>189774</td>\n",
       "      <td>186.123238</td>\n",
       "      <td>-1.017351</td>\n",
       "      <td>-16.408803</td>\n",
       "    </tr>\n",
       "    <tr>\n",
       "      <th>12</th>\n",
       "      <td>Prepared Food</td>\n",
       "      <td>14130</td>\n",
       "      <td>160.208200</td>\n",
       "      <td>-0.157892</td>\n",
       "      <td>-8.111235</td>\n",
       "    </tr>\n",
       "    <tr>\n",
       "      <th>13</th>\n",
       "      <td>Restauarant</td>\n",
       "      <td>233</td>\n",
       "      <td>191.645748</td>\n",
       "      <td>0.000000</td>\n",
       "      <td>-0.445256</td>\n",
       "    </tr>\n",
       "    <tr>\n",
       "      <th>14</th>\n",
       "      <td>Salads</td>\n",
       "      <td>631</td>\n",
       "      <td>96.046278</td>\n",
       "      <td>0.000000</td>\n",
       "      <td>-1.155408</td>\n",
       "    </tr>\n",
       "    <tr>\n",
       "      <th>15</th>\n",
       "      <td>Seafood</td>\n",
       "      <td>8734</td>\n",
       "      <td>216.605403</td>\n",
       "      <td>-0.907310</td>\n",
       "      <td>-45.094258</td>\n",
       "    </tr>\n",
       "    <tr>\n",
       "      <th>16</th>\n",
       "      <td>Skin &amp; Hair Care</td>\n",
       "      <td>5086</td>\n",
       "      <td>166.485466</td>\n",
       "      <td>-0.872650</td>\n",
       "      <td>-34.602894</td>\n",
       "    </tr>\n",
       "    <tr>\n",
       "      <th>17</th>\n",
       "      <td>Travel</td>\n",
       "      <td>279</td>\n",
       "      <td>79.312577</td>\n",
       "      <td>0.000000</td>\n",
       "      <td>-9.107066</td>\n",
       "    </tr>\n",
       "    <tr>\n",
       "      <th>18</th>\n",
       "      <td>Vegetables (cut)</td>\n",
       "      <td>114</td>\n",
       "      <td>71.045258</td>\n",
       "      <td>0.000000</td>\n",
       "      <td>0.000000</td>\n",
       "    </tr>\n",
       "  </tbody>\n",
       "</table>\n",
       "</div>"
      ],
      "text/plain": [
       "                  category  total_quantity_it  avg_sprice_it  \\\n",
       "0                  Alcohol               1477     417.714023   \n",
       "1                   Bakery              25075     151.190944   \n",
       "2   Dairy, Juices & Snacks              27552     114.594640   \n",
       "3         Flowers & Plants               1898     294.004271   \n",
       "4                     Fuel          149824927     922.266845   \n",
       "5                   Garden                782     294.003772   \n",
       "6                  Grocery            1244334     113.577965   \n",
       "7                     Meat              30585     234.112445   \n",
       "8            Miscellaneous           21543590     270.771669   \n",
       "9         Natural Products              66454      89.470040   \n",
       "10           Packaged Meat              86562     129.250974   \n",
       "11          Pharmaceutical             189774     186.123238   \n",
       "12           Prepared Food              14130     160.208200   \n",
       "13             Restauarant                233     191.645748   \n",
       "14                  Salads                631      96.046278   \n",
       "15                 Seafood               8734     216.605403   \n",
       "16        Skin & Hair Care               5086     166.485466   \n",
       "17                  Travel                279      79.312577   \n",
       "18        Vegetables (cut)                114      71.045258   \n",
       "\n",
       "    avg_cdiscount_it  avg_tdiscount_it  \n",
       "0           0.000000          0.000000  \n",
       "1          -0.192510         -8.746895  \n",
       "2          -0.352278        -12.563067  \n",
       "3          -0.227718         -3.476986  \n",
       "4           0.000000        -15.171091  \n",
       "5           0.000000         -3.149550  \n",
       "6          -0.901865        -15.440343  \n",
       "7          -0.037632        -38.392421  \n",
       "8          -0.104078         -7.006095  \n",
       "9          -0.315702         -9.709971  \n",
       "10         -0.734567        -26.648926  \n",
       "11         -1.017351        -16.408803  \n",
       "12         -0.157892         -8.111235  \n",
       "13          0.000000         -0.445256  \n",
       "14          0.000000         -1.155408  \n",
       "15         -0.907310        -45.094258  \n",
       "16         -0.872650        -34.602894  \n",
       "17          0.000000         -9.107066  \n",
       "18          0.000000          0.000000  "
      ]
     },
     "execution_count": 163,
     "metadata": {},
     "output_type": "execute_result"
    }
   ],
   "source": [
    "group_by_cat = item_tran.groupby('category').agg({'total_quantity_it' : 'sum', \n",
    "                                                  'avg_sprice_it' : 'mean',\n",
    "                                                  'avg_cdiscount_it' : 'mean',\n",
    "                                                 'avg_tdiscount_it' : 'mean'})\n",
    "group_by_cat.reset_index(inplace = True)\n",
    "group_by_cat"
   ]
  },
  {
   "cell_type": "markdown",
   "id": "8d0f4fc3",
   "metadata": {},
   "source": [
    "Fuels and Miscellaneous items are sold the most."
   ]
  },
  {
   "cell_type": "markdown",
   "id": "a2cee9db",
   "metadata": {},
   "source": [
    "### Q4 which campaigns are more profitable?"
   ]
  },
  {
   "cell_type": "code",
   "execution_count": 164,
   "id": "be19922c",
   "metadata": {},
   "outputs": [
    {
     "data": {
      "text/plain": [
       "X    40374\n",
       "Y    14484\n",
       "Name: campaign_type, dtype: int64"
      ]
     },
     "execution_count": 164,
     "metadata": {},
     "output_type": "execute_result"
    }
   ],
   "source": [
    "total_data.campaign_type.value_counts()"
   ]
  },
  {
   "cell_type": "code",
   "execution_count": 165,
   "id": "c2a4a579",
   "metadata": {},
   "outputs": [],
   "source": [
    "cp_not_used=total_data[total_data.redemption_status==0]\n",
    "cp_used=total_data[total_data.redemption_status==1]\n",
    "age_keys =['Y', 'X']"
   ]
  },
  {
   "cell_type": "code",
   "execution_count": 166,
   "id": "9992f150",
   "metadata": {},
   "outputs": [
    {
     "data": {
      "text/plain": [
       "X    39925\n",
       "Y    14415\n",
       "Name: campaign_type, dtype: int64"
      ]
     },
     "execution_count": 166,
     "metadata": {},
     "output_type": "execute_result"
    }
   ],
   "source": [
    "cp_not_used.campaign_type.value_counts()"
   ]
  },
  {
   "cell_type": "code",
   "execution_count": 167,
   "id": "0128c558",
   "metadata": {},
   "outputs": [
    {
     "data": {
      "text/plain": [
       "X    449\n",
       "Y     69\n",
       "Name: campaign_type, dtype: int64"
      ]
     },
     "execution_count": 167,
     "metadata": {},
     "output_type": "execute_result"
    }
   ],
   "source": [
    "cp_used.campaign_type.value_counts()"
   ]
  },
  {
   "cell_type": "code",
   "execution_count": 168,
   "id": "b76ec90f",
   "metadata": {},
   "outputs": [],
   "source": [
    "cp_not_used_camp = [14415,39925]\n",
    "cp_used_camp = [69,449]"
   ]
  },
  {
   "cell_type": "code",
   "execution_count": 169,
   "id": "132575d5",
   "metadata": {},
   "outputs": [
    {
     "data": {
      "text/html": [
       "<div>\n",
       "<style scoped>\n",
       "    .dataframe tbody tr th:only-of-type {\n",
       "        vertical-align: middle;\n",
       "    }\n",
       "\n",
       "    .dataframe tbody tr th {\n",
       "        vertical-align: top;\n",
       "    }\n",
       "\n",
       "    .dataframe thead th {\n",
       "        text-align: right;\n",
       "    }\n",
       "</style>\n",
       "<table border=\"1\" class=\"dataframe\">\n",
       "  <thead>\n",
       "    <tr style=\"text-align: right;\">\n",
       "      <th></th>\n",
       "      <th>id</th>\n",
       "      <th>redemption_status</th>\n",
       "      <th>campaign_id</th>\n",
       "      <th>coupon_id</th>\n",
       "      <th>customer_id</th>\n",
       "      <th>total_unique_items_cust</th>\n",
       "      <th>total_items_cust</th>\n",
       "      <th>avg_qnt_cust</th>\n",
       "      <th>total_quantity_cust</th>\n",
       "      <th>avg_cp_used_cust</th>\n",
       "      <th>...</th>\n",
       "      <th>avg_tdiscount</th>\n",
       "      <th>sum_cp_discount</th>\n",
       "      <th>sum_oth_discount</th>\n",
       "      <th>total_quantity</th>\n",
       "      <th>sum_to_discount</th>\n",
       "      <th>ct_cat</th>\n",
       "      <th>campaign_type</th>\n",
       "      <th>start_date</th>\n",
       "      <th>end_date</th>\n",
       "      <th>duration</th>\n",
       "    </tr>\n",
       "  </thead>\n",
       "  <tbody>\n",
       "    <tr>\n",
       "      <th>115</th>\n",
       "      <td>359</td>\n",
       "      <td>1</td>\n",
       "      <td>26</td>\n",
       "      <td>797</td>\n",
       "      <td>214</td>\n",
       "      <td>763</td>\n",
       "      <td>1293</td>\n",
       "      <td>31.425367</td>\n",
       "      <td>40633</td>\n",
       "      <td>0.034029</td>\n",
       "      <td>...</td>\n",
       "      <td>-19.553131</td>\n",
       "      <td>-5525.99</td>\n",
       "      <td>-57457.79</td>\n",
       "      <td>6735.0</td>\n",
       "      <td>-62983.78</td>\n",
       "      <td>1</td>\n",
       "      <td>X</td>\n",
       "      <td>2012-08-12</td>\n",
       "      <td>2012-09-21</td>\n",
       "      <td>40</td>\n",
       "    </tr>\n",
       "    <tr>\n",
       "      <th>168</th>\n",
       "      <td>97889</td>\n",
       "      <td>1</td>\n",
       "      <td>26</td>\n",
       "      <td>514</td>\n",
       "      <td>566</td>\n",
       "      <td>991</td>\n",
       "      <td>2654</td>\n",
       "      <td>277.329691</td>\n",
       "      <td>736033</td>\n",
       "      <td>0.082517</td>\n",
       "      <td>...</td>\n",
       "      <td>-14.119282</td>\n",
       "      <td>-1462.11</td>\n",
       "      <td>-29121.61</td>\n",
       "      <td>2821.0</td>\n",
       "      <td>-30583.72</td>\n",
       "      <td>1</td>\n",
       "      <td>X</td>\n",
       "      <td>2012-08-12</td>\n",
       "      <td>2012-09-21</td>\n",
       "      <td>40</td>\n",
       "    </tr>\n",
       "    <tr>\n",
       "      <th>283</th>\n",
       "      <td>72278</td>\n",
       "      <td>1</td>\n",
       "      <td>13</td>\n",
       "      <td>601</td>\n",
       "      <td>231</td>\n",
       "      <td>1071</td>\n",
       "      <td>2144</td>\n",
       "      <td>1.217817</td>\n",
       "      <td>2611</td>\n",
       "      <td>0.006063</td>\n",
       "      <td>...</td>\n",
       "      <td>-13.481119</td>\n",
       "      <td>-1265.20</td>\n",
       "      <td>-60431.43</td>\n",
       "      <td>6604.0</td>\n",
       "      <td>-61696.63</td>\n",
       "      <td>1</td>\n",
       "      <td>X</td>\n",
       "      <td>2013-05-19</td>\n",
       "      <td>2013-07-05</td>\n",
       "      <td>47</td>\n",
       "    </tr>\n",
       "    <tr>\n",
       "      <th>430</th>\n",
       "      <td>106344</td>\n",
       "      <td>1</td>\n",
       "      <td>8</td>\n",
       "      <td>705</td>\n",
       "      <td>1506</td>\n",
       "      <td>495</td>\n",
       "      <td>830</td>\n",
       "      <td>399.461446</td>\n",
       "      <td>331553</td>\n",
       "      <td>0.087952</td>\n",
       "      <td>...</td>\n",
       "      <td>-20.689496</td>\n",
       "      <td>-4872.74</td>\n",
       "      <td>-186217.85</td>\n",
       "      <td>7334.0</td>\n",
       "      <td>-191090.59</td>\n",
       "      <td>2</td>\n",
       "      <td>X</td>\n",
       "      <td>2013-02-16</td>\n",
       "      <td>2013-04-05</td>\n",
       "      <td>48</td>\n",
       "    </tr>\n",
       "    <tr>\n",
       "      <th>494</th>\n",
       "      <td>5118</td>\n",
       "      <td>1</td>\n",
       "      <td>13</td>\n",
       "      <td>705</td>\n",
       "      <td>257</td>\n",
       "      <td>652</td>\n",
       "      <td>1136</td>\n",
       "      <td>269.573944</td>\n",
       "      <td>306236</td>\n",
       "      <td>0.020246</td>\n",
       "      <td>...</td>\n",
       "      <td>-20.689496</td>\n",
       "      <td>-4872.74</td>\n",
       "      <td>-186217.85</td>\n",
       "      <td>7334.0</td>\n",
       "      <td>-191090.59</td>\n",
       "      <td>2</td>\n",
       "      <td>X</td>\n",
       "      <td>2013-05-19</td>\n",
       "      <td>2013-07-05</td>\n",
       "      <td>47</td>\n",
       "    </tr>\n",
       "    <tr>\n",
       "      <th>...</th>\n",
       "      <td>...</td>\n",
       "      <td>...</td>\n",
       "      <td>...</td>\n",
       "      <td>...</td>\n",
       "      <td>...</td>\n",
       "      <td>...</td>\n",
       "      <td>...</td>\n",
       "      <td>...</td>\n",
       "      <td>...</td>\n",
       "      <td>...</td>\n",
       "      <td>...</td>\n",
       "      <td>...</td>\n",
       "      <td>...</td>\n",
       "      <td>...</td>\n",
       "      <td>...</td>\n",
       "      <td>...</td>\n",
       "      <td>...</td>\n",
       "      <td>...</td>\n",
       "      <td>...</td>\n",
       "      <td>...</td>\n",
       "      <td>...</td>\n",
       "    </tr>\n",
       "    <tr>\n",
       "      <th>54409</th>\n",
       "      <td>43878</td>\n",
       "      <td>1</td>\n",
       "      <td>26</td>\n",
       "      <td>468</td>\n",
       "      <td>876</td>\n",
       "      <td>426</td>\n",
       "      <td>738</td>\n",
       "      <td>1.212737</td>\n",
       "      <td>895</td>\n",
       "      <td>0.013550</td>\n",
       "      <td>...</td>\n",
       "      <td>-26.905109</td>\n",
       "      <td>-11001.72</td>\n",
       "      <td>-121892.93</td>\n",
       "      <td>5365.0</td>\n",
       "      <td>-132894.65</td>\n",
       "      <td>1</td>\n",
       "      <td>X</td>\n",
       "      <td>2012-08-12</td>\n",
       "      <td>2012-09-21</td>\n",
       "      <td>40</td>\n",
       "    </tr>\n",
       "    <tr>\n",
       "      <th>54528</th>\n",
       "      <td>52985</td>\n",
       "      <td>1</td>\n",
       "      <td>8</td>\n",
       "      <td>1059</td>\n",
       "      <td>594</td>\n",
       "      <td>574</td>\n",
       "      <td>980</td>\n",
       "      <td>43.184694</td>\n",
       "      <td>42321</td>\n",
       "      <td>0.031633</td>\n",
       "      <td>...</td>\n",
       "      <td>-56.569484</td>\n",
       "      <td>-1175.10</td>\n",
       "      <td>-75865.72</td>\n",
       "      <td>1375.0</td>\n",
       "      <td>-77040.82</td>\n",
       "      <td>1</td>\n",
       "      <td>X</td>\n",
       "      <td>2013-02-16</td>\n",
       "      <td>2013-04-05</td>\n",
       "      <td>48</td>\n",
       "    </tr>\n",
       "    <tr>\n",
       "      <th>54547</th>\n",
       "      <td>12513</td>\n",
       "      <td>1</td>\n",
       "      <td>13</td>\n",
       "      <td>982</td>\n",
       "      <td>891</td>\n",
       "      <td>485</td>\n",
       "      <td>1007</td>\n",
       "      <td>434.601787</td>\n",
       "      <td>437644</td>\n",
       "      <td>0.018868</td>\n",
       "      <td>...</td>\n",
       "      <td>-10.598300</td>\n",
       "      <td>-3043.79</td>\n",
       "      <td>-94474.10</td>\n",
       "      <td>13490.0</td>\n",
       "      <td>-97517.89</td>\n",
       "      <td>1</td>\n",
       "      <td>X</td>\n",
       "      <td>2013-05-19</td>\n",
       "      <td>2013-07-05</td>\n",
       "      <td>47</td>\n",
       "    </tr>\n",
       "    <tr>\n",
       "      <th>54558</th>\n",
       "      <td>115060</td>\n",
       "      <td>1</td>\n",
       "      <td>8</td>\n",
       "      <td>661</td>\n",
       "      <td>684</td>\n",
       "      <td>391</td>\n",
       "      <td>845</td>\n",
       "      <td>1.273373</td>\n",
       "      <td>1076</td>\n",
       "      <td>0.018935</td>\n",
       "      <td>...</td>\n",
       "      <td>-82.374986</td>\n",
       "      <td>-6186.68</td>\n",
       "      <td>-71705.40</td>\n",
       "      <td>986.0</td>\n",
       "      <td>-77892.08</td>\n",
       "      <td>1</td>\n",
       "      <td>X</td>\n",
       "      <td>2013-02-16</td>\n",
       "      <td>2013-04-05</td>\n",
       "      <td>48</td>\n",
       "    </tr>\n",
       "    <tr>\n",
       "      <th>54573</th>\n",
       "      <td>110750</td>\n",
       "      <td>1</td>\n",
       "      <td>27</td>\n",
       "      <td>671</td>\n",
       "      <td>464</td>\n",
       "      <td>2040</td>\n",
       "      <td>4134</td>\n",
       "      <td>180.350992</td>\n",
       "      <td>745571</td>\n",
       "      <td>0.053217</td>\n",
       "      <td>...</td>\n",
       "      <td>-10.703319</td>\n",
       "      <td>-2116.52</td>\n",
       "      <td>-27071.31</td>\n",
       "      <td>4296.0</td>\n",
       "      <td>-29187.83</td>\n",
       "      <td>1</td>\n",
       "      <td>Y</td>\n",
       "      <td>2012-08-25</td>\n",
       "      <td>2012-10-27</td>\n",
       "      <td>63</td>\n",
       "    </tr>\n",
       "  </tbody>\n",
       "</table>\n",
       "<p>518 rows × 45 columns</p>\n",
       "</div>"
      ],
      "text/plain": [
       "           id  redemption_status  campaign_id  coupon_id  customer_id  \\\n",
       "115       359                  1           26        797          214   \n",
       "168     97889                  1           26        514          566   \n",
       "283     72278                  1           13        601          231   \n",
       "430    106344                  1            8        705         1506   \n",
       "494      5118                  1           13        705          257   \n",
       "...       ...                ...          ...        ...          ...   \n",
       "54409   43878                  1           26        468          876   \n",
       "54528   52985                  1            8       1059          594   \n",
       "54547   12513                  1           13        982          891   \n",
       "54558  115060                  1            8        661          684   \n",
       "54573  110750                  1           27        671          464   \n",
       "\n",
       "       total_unique_items_cust  total_items_cust  avg_qnt_cust  \\\n",
       "115                        763              1293     31.425367   \n",
       "168                        991              2654    277.329691   \n",
       "283                       1071              2144      1.217817   \n",
       "430                        495               830    399.461446   \n",
       "494                        652              1136    269.573944   \n",
       "...                        ...               ...           ...   \n",
       "54409                      426               738      1.212737   \n",
       "54528                      574               980     43.184694   \n",
       "54547                      485              1007    434.601787   \n",
       "54558                      391               845      1.273373   \n",
       "54573                     2040              4134    180.350992   \n",
       "\n",
       "       total_quantity_cust  avg_cp_used_cust  ...  avg_tdiscount  \\\n",
       "115                  40633          0.034029  ...     -19.553131   \n",
       "168                 736033          0.082517  ...     -14.119282   \n",
       "283                   2611          0.006063  ...     -13.481119   \n",
       "430                 331553          0.087952  ...     -20.689496   \n",
       "494                 306236          0.020246  ...     -20.689496   \n",
       "...                    ...               ...  ...            ...   \n",
       "54409                  895          0.013550  ...     -26.905109   \n",
       "54528                42321          0.031633  ...     -56.569484   \n",
       "54547               437644          0.018868  ...     -10.598300   \n",
       "54558                 1076          0.018935  ...     -82.374986   \n",
       "54573               745571          0.053217  ...     -10.703319   \n",
       "\n",
       "       sum_cp_discount  sum_oth_discount  total_quantity  sum_to_discount  \\\n",
       "115           -5525.99         -57457.79          6735.0        -62983.78   \n",
       "168           -1462.11         -29121.61          2821.0        -30583.72   \n",
       "283           -1265.20         -60431.43          6604.0        -61696.63   \n",
       "430           -4872.74        -186217.85          7334.0       -191090.59   \n",
       "494           -4872.74        -186217.85          7334.0       -191090.59   \n",
       "...                ...               ...             ...              ...   \n",
       "54409        -11001.72        -121892.93          5365.0       -132894.65   \n",
       "54528         -1175.10         -75865.72          1375.0        -77040.82   \n",
       "54547         -3043.79         -94474.10         13490.0        -97517.89   \n",
       "54558         -6186.68         -71705.40           986.0        -77892.08   \n",
       "54573         -2116.52         -27071.31          4296.0        -29187.83   \n",
       "\n",
       "       ct_cat  campaign_type  start_date   end_date duration  \n",
       "115         1              X  2012-08-12 2012-09-21       40  \n",
       "168         1              X  2012-08-12 2012-09-21       40  \n",
       "283         1              X  2013-05-19 2013-07-05       47  \n",
       "430         2              X  2013-02-16 2013-04-05       48  \n",
       "494         2              X  2013-05-19 2013-07-05       47  \n",
       "...       ...            ...         ...        ...      ...  \n",
       "54409       1              X  2012-08-12 2012-09-21       40  \n",
       "54528       1              X  2013-02-16 2013-04-05       48  \n",
       "54547       1              X  2013-05-19 2013-07-05       47  \n",
       "54558       1              X  2013-02-16 2013-04-05       48  \n",
       "54573       1              Y  2012-08-25 2012-10-27       63  \n",
       "\n",
       "[518 rows x 45 columns]"
      ]
     },
     "execution_count": 169,
     "metadata": {},
     "output_type": "execute_result"
    }
   ],
   "source": [
    "cp_used"
   ]
  },
  {
   "cell_type": "code",
   "execution_count": 170,
   "id": "27d5c9dd",
   "metadata": {
    "scrolled": true
   },
   "outputs": [
    {
     "data": {
      "image/png": "[encoded data removed]",
      "text/plain": [
       "<Figure size 1080x432 with 2 Axes>"
      ]
     },
     "metadata": {},
     "output_type": "display_data"
    }
   ],
   "source": [
    "fig, axes = plt.subplots(1,2, figsize =(15,6))\n",
    "\n",
    "axes[0].bar(age_keys,cp_not_used_camp,align ='center')\n",
    "axes[0].set_ylabel('transactions')\n",
    "axes[0].set_xlabel('campaign type')\n",
    "axes[0].set_title('coupon not used'.title())\n",
    "\n",
    "axes[1].bar(age_keys,cp_used_camp,align ='center')\n",
    "axes[1].set_ylabel('transactions')\n",
    "axes[1].set_xlabel('campaign type')\n",
    "axes[1].set_title('coupon used'.title())\n",
    "\n",
    "plt.suptitle('Transaction counts by campaign type'.title(), fontsize = 20)\n",
    "plt.show()"
   ]
  },
  {
   "cell_type": "code",
   "execution_count": 173,
   "id": "03cc6a43",
   "metadata": {},
   "outputs": [
    {
     "data": {
      "text/plain": [
       "Index(['id', 'redemption_status', 'campaign_id', 'coupon_id', 'customer_id',\n",
       "       'avg_qnt_cust', 'avg_cp_used_cust', 'avg_sprice_cust', 'sum_price_cust',\n",
       "       'rented', 'income_bracket', 'ct_brands', 'sum_cp_used', 'avg_sprice',\n",
       "       'avg_odiscount', 'avg_cdiscount', 'ct_cat', 'duration', 'family_size_2',\n",
       "       'no_of_children_0', 'no_of_children_2', 'no_of_children_3+',\n",
       "       'brand_type_Established', 'mode_cat_Dairy, Juices & Snacks',\n",
       "       'mode_cat_Flowers & Plants', 'mode_cat_Grocery', 'mode_cat_Meat',\n",
       "       'mode_cat_Natural Products', 'mode_cat_Packaged Meat',\n",
       "       'mode_cat_Pharmaceutical', 'mode_cat_Prepared Food', 'mode_cat_Seafood',\n",
       "       'mode_cat_Skin & Hair Care', 'campaign_type_Y', 'age_range_18-25',\n",
       "       'age_range_26-35', 'age_range_36-45', 'age_range_46-55',\n",
       "       'age_range_56-70', 'age_range_70+', 'marital_status_Married',\n",
       "       'marital_status_Single'],\n",
       "      dtype='object')"
      ]
     },
     "execution_count": 173,
     "metadata": {},
     "output_type": "execute_result"
    }
   ],
   "source": [
    "train_data.columns"
   ]
  },
  {
   "cell_type": "code",
   "execution_count": 174,
   "id": "c1e04b7f",
   "metadata": {},
   "outputs": [
    {
     "data": {
      "text/html": [
       "<div>\n",
       "<style scoped>\n",
       "    .dataframe tbody tr th:only-of-type {\n",
       "        vertical-align: middle;\n",
       "    }\n",
       "\n",
       "    .dataframe tbody tr th {\n",
       "        vertical-align: top;\n",
       "    }\n",
       "\n",
       "    .dataframe thead th {\n",
       "        text-align: right;\n",
       "    }\n",
       "</style>\n",
       "<table border=\"1\" class=\"dataframe\">\n",
       "  <thead>\n",
       "    <tr style=\"text-align: right;\">\n",
       "      <th></th>\n",
       "      <th>id</th>\n",
       "      <th>redemption_status</th>\n",
       "      <th>campaign_id</th>\n",
       "      <th>coupon_id</th>\n",
       "      <th>customer_id</th>\n",
       "      <th>avg_qnt_cust</th>\n",
       "      <th>avg_cp_used_cust</th>\n",
       "      <th>avg_sprice_cust</th>\n",
       "      <th>sum_price_cust</th>\n",
       "      <th>rented</th>\n",
       "      <th>...</th>\n",
       "      <th>mode_cat_Skin &amp; Hair Care</th>\n",
       "      <th>campaign_type_Y</th>\n",
       "      <th>age_range_18-25</th>\n",
       "      <th>age_range_26-35</th>\n",
       "      <th>age_range_36-45</th>\n",
       "      <th>age_range_46-55</th>\n",
       "      <th>age_range_56-70</th>\n",
       "      <th>age_range_70+</th>\n",
       "      <th>marital_status_Married</th>\n",
       "      <th>marital_status_Single</th>\n",
       "    </tr>\n",
       "  </thead>\n",
       "  <tbody>\n",
       "    <tr>\n",
       "      <th>0</th>\n",
       "      <td>117578</td>\n",
       "      <td>0</td>\n",
       "      <td>8</td>\n",
       "      <td>725</td>\n",
       "      <td>45</td>\n",
       "      <td>109.359492</td>\n",
       "      <td>0.121824</td>\n",
       "      <td>123.421652</td>\n",
       "      <td>165138.17</td>\n",
       "      <td>0.0</td>\n",
       "      <td>...</td>\n",
       "      <td>0</td>\n",
       "      <td>0</td>\n",
       "      <td>0</td>\n",
       "      <td>0</td>\n",
       "      <td>0</td>\n",
       "      <td>1</td>\n",
       "      <td>0</td>\n",
       "      <td>0</td>\n",
       "      <td>1</td>\n",
       "      <td>0</td>\n",
       "    </tr>\n",
       "    <tr>\n",
       "      <th>1</th>\n",
       "      <td>123337</td>\n",
       "      <td>0</td>\n",
       "      <td>29</td>\n",
       "      <td>265</td>\n",
       "      <td>334</td>\n",
       "      <td>1.102222</td>\n",
       "      <td>0.062222</td>\n",
       "      <td>97.819733</td>\n",
       "      <td>22009.44</td>\n",
       "      <td>0.0</td>\n",
       "      <td>...</td>\n",
       "      <td>0</td>\n",
       "      <td>1</td>\n",
       "      <td>0</td>\n",
       "      <td>0</td>\n",
       "      <td>0</td>\n",
       "      <td>0</td>\n",
       "      <td>0</td>\n",
       "      <td>0</td>\n",
       "      <td>0</td>\n",
       "      <td>0</td>\n",
       "    </tr>\n",
       "    <tr>\n",
       "      <th>2</th>\n",
       "      <td>46642</td>\n",
       "      <td>0</td>\n",
       "      <td>13</td>\n",
       "      <td>281</td>\n",
       "      <td>408</td>\n",
       "      <td>10.222609</td>\n",
       "      <td>0.006957</td>\n",
       "      <td>99.623130</td>\n",
       "      <td>57283.30</td>\n",
       "      <td>0.0</td>\n",
       "      <td>...</td>\n",
       "      <td>0</td>\n",
       "      <td>0</td>\n",
       "      <td>0</td>\n",
       "      <td>0</td>\n",
       "      <td>0</td>\n",
       "      <td>0</td>\n",
       "      <td>0</td>\n",
       "      <td>0</td>\n",
       "      <td>0</td>\n",
       "      <td>0</td>\n",
       "    </tr>\n",
       "    <tr>\n",
       "      <th>3</th>\n",
       "      <td>10510</td>\n",
       "      <td>0</td>\n",
       "      <td>13</td>\n",
       "      <td>625</td>\n",
       "      <td>577</td>\n",
       "      <td>169.897833</td>\n",
       "      <td>0.007224</td>\n",
       "      <td>112.194799</td>\n",
       "      <td>108716.76</td>\n",
       "      <td>0.0</td>\n",
       "      <td>...</td>\n",
       "      <td>0</td>\n",
       "      <td>0</td>\n",
       "      <td>0</td>\n",
       "      <td>0</td>\n",
       "      <td>0</td>\n",
       "      <td>1</td>\n",
       "      <td>0</td>\n",
       "      <td>0</td>\n",
       "      <td>1</td>\n",
       "      <td>0</td>\n",
       "    </tr>\n",
       "    <tr>\n",
       "      <th>4</th>\n",
       "      <td>14347</td>\n",
       "      <td>0</td>\n",
       "      <td>13</td>\n",
       "      <td>480</td>\n",
       "      <td>414</td>\n",
       "      <td>122.129928</td>\n",
       "      <td>0.013441</td>\n",
       "      <td>87.214265</td>\n",
       "      <td>97331.12</td>\n",
       "      <td>0.0</td>\n",
       "      <td>...</td>\n",
       "      <td>0</td>\n",
       "      <td>0</td>\n",
       "      <td>0</td>\n",
       "      <td>0</td>\n",
       "      <td>0</td>\n",
       "      <td>0</td>\n",
       "      <td>0</td>\n",
       "      <td>1</td>\n",
       "      <td>1</td>\n",
       "      <td>0</td>\n",
       "    </tr>\n",
       "    <tr>\n",
       "      <th>...</th>\n",
       "      <td>...</td>\n",
       "      <td>...</td>\n",
       "      <td>...</td>\n",
       "      <td>...</td>\n",
       "      <td>...</td>\n",
       "      <td>...</td>\n",
       "      <td>...</td>\n",
       "      <td>...</td>\n",
       "      <td>...</td>\n",
       "      <td>...</td>\n",
       "      <td>...</td>\n",
       "      <td>...</td>\n",
       "      <td>...</td>\n",
       "      <td>...</td>\n",
       "      <td>...</td>\n",
       "      <td>...</td>\n",
       "      <td>...</td>\n",
       "      <td>...</td>\n",
       "      <td>...</td>\n",
       "      <td>...</td>\n",
       "      <td>...</td>\n",
       "    </tr>\n",
       "    <tr>\n",
       "      <th>54853</th>\n",
       "      <td>127422</td>\n",
       "      <td>0</td>\n",
       "      <td>9</td>\n",
       "      <td>18</td>\n",
       "      <td>690</td>\n",
       "      <td>181.237828</td>\n",
       "      <td>0.003745</td>\n",
       "      <td>116.455412</td>\n",
       "      <td>62187.19</td>\n",
       "      <td>0.0</td>\n",
       "      <td>...</td>\n",
       "      <td>0</td>\n",
       "      <td>1</td>\n",
       "      <td>0</td>\n",
       "      <td>0</td>\n",
       "      <td>0</td>\n",
       "      <td>0</td>\n",
       "      <td>0</td>\n",
       "      <td>0</td>\n",
       "      <td>0</td>\n",
       "      <td>0</td>\n",
       "    </tr>\n",
       "    <tr>\n",
       "      <th>54854</th>\n",
       "      <td>123176</td>\n",
       "      <td>0</td>\n",
       "      <td>13</td>\n",
       "      <td>561</td>\n",
       "      <td>705</td>\n",
       "      <td>351.260569</td>\n",
       "      <td>0.000863</td>\n",
       "      <td>179.083632</td>\n",
       "      <td>207557.93</td>\n",
       "      <td>0.0</td>\n",
       "      <td>...</td>\n",
       "      <td>0</td>\n",
       "      <td>0</td>\n",
       "      <td>0</td>\n",
       "      <td>0</td>\n",
       "      <td>0</td>\n",
       "      <td>0</td>\n",
       "      <td>0</td>\n",
       "      <td>0</td>\n",
       "      <td>0</td>\n",
       "      <td>0</td>\n",
       "    </tr>\n",
       "    <tr>\n",
       "      <th>54855</th>\n",
       "      <td>59852</td>\n",
       "      <td>0</td>\n",
       "      <td>13</td>\n",
       "      <td>277</td>\n",
       "      <td>103</td>\n",
       "      <td>564.879539</td>\n",
       "      <td>0.000000</td>\n",
       "      <td>154.920006</td>\n",
       "      <td>268786.21</td>\n",
       "      <td>0.0</td>\n",
       "      <td>...</td>\n",
       "      <td>0</td>\n",
       "      <td>0</td>\n",
       "      <td>0</td>\n",
       "      <td>0</td>\n",
       "      <td>0</td>\n",
       "      <td>1</td>\n",
       "      <td>0</td>\n",
       "      <td>0</td>\n",
       "      <td>0</td>\n",
       "      <td>0</td>\n",
       "    </tr>\n",
       "    <tr>\n",
       "      <th>54856</th>\n",
       "      <td>65978</td>\n",
       "      <td>0</td>\n",
       "      <td>8</td>\n",
       "      <td>916</td>\n",
       "      <td>184</td>\n",
       "      <td>355.502846</td>\n",
       "      <td>0.000000</td>\n",
       "      <td>132.168197</td>\n",
       "      <td>69652.64</td>\n",
       "      <td>0.0</td>\n",
       "      <td>...</td>\n",
       "      <td>0</td>\n",
       "      <td>0</td>\n",
       "      <td>0</td>\n",
       "      <td>0</td>\n",
       "      <td>0</td>\n",
       "      <td>0</td>\n",
       "      <td>0</td>\n",
       "      <td>0</td>\n",
       "      <td>0</td>\n",
       "      <td>0</td>\n",
       "    </tr>\n",
       "    <tr>\n",
       "      <th>54857</th>\n",
       "      <td>32455</td>\n",
       "      <td>0</td>\n",
       "      <td>13</td>\n",
       "      <td>714</td>\n",
       "      <td>1339</td>\n",
       "      <td>389.804293</td>\n",
       "      <td>0.023990</td>\n",
       "      <td>136.840745</td>\n",
       "      <td>108377.87</td>\n",
       "      <td>0.0</td>\n",
       "      <td>...</td>\n",
       "      <td>0</td>\n",
       "      <td>0</td>\n",
       "      <td>0</td>\n",
       "      <td>0</td>\n",
       "      <td>0</td>\n",
       "      <td>0</td>\n",
       "      <td>1</td>\n",
       "      <td>0</td>\n",
       "      <td>0</td>\n",
       "      <td>1</td>\n",
       "    </tr>\n",
       "  </tbody>\n",
       "</table>\n",
       "<p>54858 rows × 42 columns</p>\n",
       "</div>"
      ],
      "text/plain": [
       "           id  redemption_status  campaign_id  coupon_id  customer_id  \\\n",
       "0      117578                  0            8        725           45   \n",
       "1      123337                  0           29        265          334   \n",
       "2       46642                  0           13        281          408   \n",
       "3       10510                  0           13        625          577   \n",
       "4       14347                  0           13        480          414   \n",
       "...       ...                ...          ...        ...          ...   \n",
       "54853  127422                  0            9         18          690   \n",
       "54854  123176                  0           13        561          705   \n",
       "54855   59852                  0           13        277          103   \n",
       "54856   65978                  0            8        916          184   \n",
       "54857   32455                  0           13        714         1339   \n",
       "\n",
       "       avg_qnt_cust  avg_cp_used_cust  avg_sprice_cust  sum_price_cust  \\\n",
       "0        109.359492          0.121824       123.421652       165138.17   \n",
       "1          1.102222          0.062222        97.819733        22009.44   \n",
       "2         10.222609          0.006957        99.623130        57283.30   \n",
       "3        169.897833          0.007224       112.194799       108716.76   \n",
       "4        122.129928          0.013441        87.214265        97331.12   \n",
       "...             ...               ...              ...             ...   \n",
       "54853    181.237828          0.003745       116.455412        62187.19   \n",
       "54854    351.260569          0.000863       179.083632       207557.93   \n",
       "54855    564.879539          0.000000       154.920006       268786.21   \n",
       "54856    355.502846          0.000000       132.168197        69652.64   \n",
       "54857    389.804293          0.023990       136.840745       108377.87   \n",
       "\n",
       "       rented  ...  mode_cat_Skin & Hair Care  campaign_type_Y  \\\n",
       "0         0.0  ...                          0                0   \n",
       "1         0.0  ...                          0                1   \n",
       "2         0.0  ...                          0                0   \n",
       "3         0.0  ...                          0                0   \n",
       "4         0.0  ...                          0                0   \n",
       "...       ...  ...                        ...              ...   \n",
       "54853     0.0  ...                          0                1   \n",
       "54854     0.0  ...                          0                0   \n",
       "54855     0.0  ...                          0                0   \n",
       "54856     0.0  ...                          0                0   \n",
       "54857     0.0  ...                          0                0   \n",
       "\n",
       "       age_range_18-25  age_range_26-35  age_range_36-45  age_range_46-55  \\\n",
       "0                    0                0                0                1   \n",
       "1                    0                0                0                0   \n",
       "2                    0                0                0                0   \n",
       "3                    0                0                0                1   \n",
       "4                    0                0                0                0   \n",
       "...                ...              ...              ...              ...   \n",
       "54853                0                0                0                0   \n",
       "54854                0                0                0                0   \n",
       "54855                0                0                0                1   \n",
       "54856                0                0                0                0   \n",
       "54857                0                0                0                0   \n",
       "\n",
       "       age_range_56-70  age_range_70+  marital_status_Married  \\\n",
       "0                    0              0                       1   \n",
       "1                    0              0                       0   \n",
       "2                    0              0                       0   \n",
       "3                    0              0                       1   \n",
       "4                    0              1                       1   \n",
       "...                ...            ...                     ...   \n",
       "54853                0              0                       0   \n",
       "54854                0              0                       0   \n",
       "54855                0              0                       0   \n",
       "54856                0              0                       0   \n",
       "54857                1              0                       0   \n",
       "\n",
       "       marital_status_Single  \n",
       "0                          0  \n",
       "1                          0  \n",
       "2                          0  \n",
       "3                          0  \n",
       "4                          0  \n",
       "...                      ...  \n",
       "54853                      0  \n",
       "54854                      0  \n",
       "54855                      0  \n",
       "54856                      0  \n",
       "54857                      1  \n",
       "\n",
       "[54858 rows x 42 columns]"
      ]
     },
     "execution_count": 174,
     "metadata": {},
     "output_type": "execute_result"
    }
   ],
   "source": [
    "train_data"
   ]
  }
 ],
 "metadata": {
  "kernelspec": {
   "display_name": "Python 3",
   "language": "python",
   "name": "python3"
  },
  "language_info": {
   "codemirror_mode": {
    "name": "ipython",
    "version": 3
   },
   "file_extension": ".py",
   "mimetype": "text/x-python",
   "name": "python",
   "nbconvert_exporter": "python",
   "pygments_lexer": "ipython3",
   "version": "3.8.8"
  }
 },
 "nbformat": 4,
 "nbformat_minor": 5
}
